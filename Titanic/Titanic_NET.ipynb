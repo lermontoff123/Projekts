{
 "cells": [
  {
   "cell_type": "code",
   "execution_count": 1,
   "id": "3f776321-84bb-4016-a9a4-ea0a58234d69",
   "metadata": {
    "tags": []
   },
   "outputs": [],
   "source": [
    "import pandas as pd\n",
    "import numpy as np\n",
    "import random\n",
    "import datetime\n",
    "\n",
    "from sklearn.preprocessing import RobustScaler, MinMaxScaler, PolynomialFeatures, Normalizer\n",
    "from sklearn.model_selection import train_test_split\n",
    "import torch\n",
    "import torch.utils.data as data_torch\n",
    "import torch.nn as nn\n",
    "import torch.nn.functional as F\n",
    "import torch.optim as optim\n",
    "import matplotlib.pyplot as plt\n",
    "\n",
    "from ydata_profiling import ProfileReport # подробный разбор признаков"
   ]
  },
  {
   "cell_type": "code",
   "execution_count": 2,
   "id": "8a647c34-9f04-4dc2-b7c4-1598bdbdbc50",
   "metadata": {
    "tags": []
   },
   "outputs": [],
   "source": [
    "data_patch = '.\\\\'"
   ]
  },
  {
   "cell_type": "code",
   "execution_count": 3,
   "id": "3e374b48-0d0b-4211-a90e-489f6e77325d",
   "metadata": {
    "tags": []
   },
   "outputs": [],
   "source": [
    "def stratify_data(filename):\n",
    "    \n",
    "    dataframe = pd.read_csv(filename).copy()\n",
    "    dataframe = dataframe.drop(['PassengerId', 'Name', 'Ticket', 'Cabin'], axis=1)\n",
    "    mask = dataframe['Age'].isna()\n",
    "    dataframe.loc[mask, 'Age'] = np.random.randint(10, 50, mask.sum())\n",
    "    dataframe['Embarked'] = dataframe['Embarked'].fillna(dataframe['Embarked'].mode()[0])\n",
    "    dataframe['Sex'] = dataframe['Sex'].map({'male':1,'female':0})\n",
    "    dataframe['Embarked'] = dataframe['Embarked'].map({'S':0,'C':1, 'Q':2})\n",
    "    \n",
    "    survived = dataframe['Survived']\n",
    "    #survived = pd.concat([survived, survived.copy()], ignore_index=True)\n",
    "    features = dataframe.drop(['Survived'], axis=1)\n",
    "    \n",
    "    features = pd.get_dummies(features, columns=['Pclass', 'SibSp', 'Parch', 'Embarked'], dtype=int)\n",
    "    #poly = PolynomialFeatures(degree=2, include_bias=False)\n",
    "    #features = poly.fit_transform(features)\n",
    "        \n",
    "    #features = RobustScaler().fit_transform(features)\n",
    "    features = MinMaxScaler().fit_transform(features)\n",
    "    #features = Normalizer().fit_transform(features)\n",
    "    \n",
    "    data_scaled = pd.DataFrame(data=features)\n",
    "    #data_scaled = pd.concat([data_scaled, data_scaled.copy()], ignore_index=True)\n",
    "    \n",
    "    X_train, X_val, y_train, y_val = train_test_split(data_scaled, survived, test_size=0.2, random_state=2, stratify=survived)\n",
    "    \n",
    "    X_train['Survived'] = y_train\n",
    "    X_val['Survived'] = y_val\n",
    "    \n",
    "    X_train.to_csv('train_data.csv', sep=',', index=False)\n",
    "    X_val.to_csv('val_data.csv', sep=',', index=False)"
   ]
  },
  {
   "cell_type": "code",
   "execution_count": 4,
   "id": "3c3d53fd-ff2c-4f79-8b6a-a89f73bd6154",
   "metadata": {},
   "outputs": [],
   "source": [
    "stratify_data(data_patch + 'train.csv')"
   ]
  },
  {
   "cell_type": "code",
   "execution_count": 5,
   "id": "d792d296-1050-4133-8c46-fce206bb4510",
   "metadata": {
    "tags": []
   },
   "outputs": [],
   "source": [
    "class TitanicDataset(data_torch.Dataset):\n",
    "    \n",
    "    def __init__(self, filename, Train=True):\n",
    "        self.dataframe = pd.read_csv(filename).copy()\n",
    "                      \n",
    "        self.Train = Train\n",
    "        \n",
    "    def __len__(self):\n",
    "        return self.dataframe.shape[0]\n",
    "    \n",
    "    def __getitem__(self, idx):\n",
    "        if(self.Train):\n",
    "            survived = self.dataframe['Survived']\n",
    "            survived = np.array(survived)[idx]\n",
    "            \n",
    "        features = self.dataframe.drop(['Survived'], axis=1)\n",
    "        features = np.array(features)[idx]\n",
    "                \n",
    "        if(self.Train):\n",
    "            return features, survived\n",
    "        else:\n",
    "            return features\n",
    "          \n",
    "    def infoo(self):\n",
    "        return self.dataframe.info()"
   ]
  },
  {
   "cell_type": "code",
   "execution_count": 6,
   "id": "65d665d3-9c21-478c-8ae1-18b335c0310e",
   "metadata": {
    "tags": []
   },
   "outputs": [],
   "source": [
    "train_dataset = TitanicDataset(data_patch + 'train_data.csv')\n",
    "val_dataset = TitanicDataset(data_patch + 'val_data.csv')\n",
    "testing_dataset = TitanicDataset(data_patch + 'test.csv', Train=False)"
   ]
  },
  {
   "cell_type": "code",
   "execution_count": 7,
   "id": "8706a68a-192e-40ea-890d-4f2c373029c8",
   "metadata": {
    "tags": []
   },
   "outputs": [
    {
     "data": {
      "text/plain": [
       "(array([0.        , 0.33400352, 0.0270496 , 0.        , 1.        ,\n",
       "        0.        , 0.        , 1.        , 0.        , 0.        ,\n",
       "        0.        , 0.        , 0.        , 1.        , 0.        ,\n",
       "        0.        , 0.        , 0.        , 0.        , 0.        ,\n",
       "        0.        , 1.        , 0.        ]),\n",
       " 1)"
      ]
     },
     "execution_count": 7,
     "metadata": {},
     "output_type": "execute_result"
    }
   ],
   "source": [
    "train_dataset.__getitem__(5)"
   ]
  },
  {
   "cell_type": "code",
   "execution_count": 8,
   "id": "2b3d3db0-e7f3-4365-b45e-6c9775f704da",
   "metadata": {
    "tags": []
   },
   "outputs": [
    {
     "name": "stdout",
     "output_type": "stream",
     "text": [
      "<class 'pandas.core.frame.DataFrame'>\n",
      "RangeIndex: 712 entries, 0 to 711\n",
      "Data columns (total 24 columns):\n",
      " #   Column    Non-Null Count  Dtype  \n",
      "---  ------    --------------  -----  \n",
      " 0   0         712 non-null    float64\n",
      " 1   1         712 non-null    float64\n",
      " 2   2         712 non-null    float64\n",
      " 3   3         712 non-null    float64\n",
      " 4   4         712 non-null    float64\n",
      " 5   5         712 non-null    float64\n",
      " 6   6         712 non-null    float64\n",
      " 7   7         712 non-null    float64\n",
      " 8   8         712 non-null    float64\n",
      " 9   9         712 non-null    float64\n",
      " 10  10        712 non-null    float64\n",
      " 11  11        712 non-null    float64\n",
      " 12  12        712 non-null    float64\n",
      " 13  13        712 non-null    float64\n",
      " 14  14        712 non-null    float64\n",
      " 15  15        712 non-null    float64\n",
      " 16  16        712 non-null    float64\n",
      " 17  17        712 non-null    float64\n",
      " 18  18        712 non-null    float64\n",
      " 19  19        712 non-null    float64\n",
      " 20  20        712 non-null    float64\n",
      " 21  21        712 non-null    float64\n",
      " 22  22        712 non-null    float64\n",
      " 23  Survived  712 non-null    int64  \n",
      "dtypes: float64(23), int64(1)\n",
      "memory usage: 133.6 KB\n"
     ]
    }
   ],
   "source": [
    "train_dataset.infoo()"
   ]
  },
  {
   "cell_type": "code",
   "execution_count": 9,
   "id": "563bb03d-f51c-436c-8655-784a80a21602",
   "metadata": {
    "tags": []
   },
   "outputs": [
    {
     "name": "stdout",
     "output_type": "stream",
     "text": [
      "[tensor([[1.0000, 0.3843, 0.0586,  ..., 1.0000, 0.0000, 0.0000],\n",
      "        [0.0000, 0.2083, 0.0155,  ..., 1.0000, 0.0000, 0.0000],\n",
      "        [1.0000, 0.2837, 0.0254,  ..., 1.0000, 0.0000, 0.0000],\n",
      "        ...,\n",
      "        [1.0000, 0.3466, 0.1103,  ..., 1.0000, 0.0000, 0.0000],\n",
      "        [0.0000, 0.2963, 0.0283,  ..., 1.0000, 0.0000, 0.0000],\n",
      "        [1.0000, 0.2837, 0.0580,  ..., 0.0000, 1.0000, 0.0000]],\n",
      "       dtype=torch.float64), tensor([1, 1, 0, 1, 1, 1, 0, 1, 1, 1, 0, 1, 1, 1, 1, 0, 1, 1, 0, 1, 0, 1, 0, 0,\n",
      "        1, 0, 1, 0, 0, 1, 1, 0, 0, 0, 0, 0, 0, 0, 1, 0, 1, 1, 1, 0, 0, 1, 1, 0,\n",
      "        1, 1, 0, 0, 1, 1, 0, 0, 0, 0, 0, 1, 0, 1, 0, 0, 0, 1, 0, 0, 1, 0, 0, 0,\n",
      "        0, 0, 0, 0, 0, 0, 1, 1, 0, 1, 0, 0, 0, 0, 1, 0, 1, 0, 0, 0, 0, 0, 1, 0,\n",
      "        0, 0, 1, 1])]\n"
     ]
    }
   ],
   "source": [
    "train_dataload = data_torch.DataLoader(train_dataset, shuffle=True, batch_size=100)\n",
    "t = iter(train_dataload)\n",
    "print(next(t))"
   ]
  },
  {
   "cell_type": "code",
   "execution_count": 10,
   "id": "3e57b904-14d7-4bc8-bfeb-e54272585dca",
   "metadata": {},
   "outputs": [
    {
     "name": "stdout",
     "output_type": "stream",
     "text": [
      "[tensor([[1.0000, 0.7235, 0.2211,  ..., 0.0000, 1.0000, 0.0000],\n",
      "        [1.0000, 0.5979, 0.0423,  ..., 0.0000, 1.0000, 0.0000],\n",
      "        [0.0000, 0.0450, 0.0262,  ..., 0.0000, 1.0000, 0.0000],\n",
      "        ...,\n",
      "        [1.0000, 0.2963, 0.0138,  ..., 1.0000, 0.0000, 0.0000],\n",
      "        [0.0000, 0.0576, 0.0542,  ..., 1.0000, 0.0000, 0.0000],\n",
      "        [0.0000, 0.4974, 0.0307,  ..., 1.0000, 0.0000, 0.0000]],\n",
      "       dtype=torch.float64), tensor([0, 0, 1, 0, 0, 0, 1, 1, 0, 0, 0, 0, 0, 1, 0, 1, 0, 0, 0, 1, 0, 0, 0, 0,\n",
      "        1, 0, 0, 0, 0, 0, 1, 0, 1, 0, 1, 1, 1, 1, 0, 0, 0, 0, 0, 0, 0, 1, 0, 0,\n",
      "        0, 1, 1, 0, 0, 0, 1, 0, 1, 0, 1, 0, 1, 0, 0, 1, 1, 1, 1, 1, 0, 0, 0, 1,\n",
      "        0, 0, 0, 0, 0, 0, 1, 1, 1, 0, 0, 0, 0, 0, 0, 1, 0, 0, 1, 1, 0, 0, 1, 0,\n",
      "        1, 0, 1, 1])]\n"
     ]
    }
   ],
   "source": [
    "val_dataload = data_torch.DataLoader(val_dataset, shuffle=True, batch_size=100)\n",
    "t = iter(val_dataload)\n",
    "print(next(t))"
   ]
  },
  {
   "cell_type": "code",
   "execution_count": 11,
   "id": "0ec0398e-e127-4b4e-8cb1-76fd56871107",
   "metadata": {},
   "outputs": [],
   "source": [
    "class Net(nn.Module):\n",
    "    \n",
    "    def __init__(self, col, a, b):\n",
    "        super(Net, self).__init__()\n",
    "        self.dl1 = nn.Linear(col, a)\n",
    "        self.dl2 = nn.Linear(a, b)\n",
    "        self.dl3 = nn.Linear(b, 1)\n",
    "        self.sigmoid = nn.Sigmoid()\n",
    "        \n",
    "    def forward(self, x):\n",
    "        x = F.relu(self.dl1(x))\n",
    "        x = F.relu(self.dl2(x))\n",
    "        x = self.sigmoid(self.dl3(x))\n",
    "        return x"
   ]
  },
  {
   "cell_type": "markdown",
   "id": "39ef9b72-bcc2-430f-8b53-b6228f18945f",
   "metadata": {},
   "source": [
    "class Net(nn.Module):\n",
    "    def __init__(self, col, a, b):\n",
    "        super(Net, self).__init__()\n",
    "        self.classifier = nn.Sequential(\n",
    "            nn.Linear(col, a),\n",
    "            nn.BatchNorm1d(a),\n",
    "            nn.ReLU(),\n",
    "            nn.Dropout(0.1),\n",
    "            nn.Linear(a, b),\n",
    "            nn.BatchNorm1d(b),\n",
    "            nn.ReLU(),\n",
    "            nn.Dropout(0.1),\n",
    "            nn.Linear(b, a),\n",
    "            nn.BatchNorm1d(a),\n",
    "            nn.ReLU(),\n",
    "            nn.Dropout(0.1),\n",
    "            nn.Linear(a, 1),\n",
    "            nn.Sigmoid()\n",
    "        )\n",
    "\n",
    "    def forward(self, x):\n",
    "        x = x.view(x.size(0), -1)\n",
    "        x = self.classifier(x)\n",
    "        return x"
   ]
  },
  {
   "cell_type": "markdown",
   "id": "a9bcb3f5-d41b-4356-a57b-bf3f10d80187",
   "metadata": {},
   "source": [
    "class Net(nn.Module):\n",
    "    def __init__(self, col, a, b, c, d):\n",
    "        super(Net, self).__init__()\n",
    "        self.b1 = nn.Sequential(\n",
    "            nn.Linear(in_features=col,out_features=a),\n",
    "            nn.ReLU(),\n",
    "            nn.Dropout(0.5),\n",
    "            nn.BatchNorm1d(a),\n",
    "            nn.Linear(in_features=a,out_features=b),\n",
    "            nn.ReLU(),\n",
    "            nn.Dropout(0.5),\n",
    "            nn.BatchNorm1d(b),\n",
    "            nn.Linear(in_features=b,out_features=c),\n",
    "            nn.ReLU(),\n",
    "            nn.Dropout(0.4),\n",
    "            nn.BatchNorm1d(c),\n",
    "            nn.Linear(in_features=c,out_features=d),\n",
    "            nn.ReLU(),\n",
    "            nn.Dropout(0.4),\n",
    "            nn.BatchNorm1d(d),\n",
    "            nn.Linear(in_features=d,out_features=int(d/2)),\n",
    "            nn.ReLU(),\n",
    "            nn.Dropout(0.3),\n",
    "            nn.BatchNorm1d(int(d/2)),\n",
    "            nn.Linear(in_features=int(d/2),out_features=c),\n",
    "            nn.ReLU(),\n",
    "            nn.BatchNorm1d(c),\n",
    "            nn.Linear(in_features=c,out_features=1),\n",
    "            nn.Sigmoid()\n",
    "        )\n",
    "    def forward(self,x):\n",
    "        x = self.b1(x)\n",
    "        return x"
   ]
  },
  {
   "cell_type": "code",
   "execution_count": 12,
   "id": "19de4e7e-7a97-4dec-abd9-18093efd4eea",
   "metadata": {
    "tags": []
   },
   "outputs": [],
   "source": [
    "size_columns = len(next(iter(train_dataload))[0][0])\n",
    "hidden_layer1_coeff = 15\n",
    "hidden_layer2_coeff = 7\n",
    "hidden_layer3_coeff = 3.5\n",
    "hidden_layer4_coeff = 2\n",
    "lr = 0.01\n",
    "momentum = 0.9\n",
    "epochs = 100\n",
    "hidden_layer1 = round(hidden_layer1_coeff * size_columns)\n",
    "hidden_layer2 = round(hidden_layer2_coeff * size_columns)\n",
    "hidden_layer3 = round(hidden_layer3_coeff * size_columns)\n",
    "hidden_layer4 = round(hidden_layer4_coeff * size_columns)"
   ]
  },
  {
   "cell_type": "code",
   "execution_count": 13,
   "id": "58931252-4bc2-4fa2-adb9-756060e5e778",
   "metadata": {},
   "outputs": [
    {
     "name": "stdout",
     "output_type": "stream",
     "text": [
      "Net(\n",
      "  (dl1): Linear(in_features=23, out_features=345, bias=True)\n",
      "  (dl2): Linear(in_features=345, out_features=161, bias=True)\n",
      "  (dl3): Linear(in_features=161, out_features=1, bias=True)\n",
      "  (sigmoid): Sigmoid()\n",
      ")\n"
     ]
    }
   ],
   "source": [
    "net = Net(size_columns, hidden_layer1, hidden_layer2)\n",
    "\n",
    "#net = Net(size_columns, hidden_layer1, hidden_layer2, hidden_layer3, hidden_layer4)\n",
    "print(net)\n"
   ]
  },
  {
   "cell_type": "markdown",
   "id": "e78c0af5-4324-4e50-a139-ee1b1f33e705",
   "metadata": {
    "tags": []
   },
   "source": [
    "net = Net(size_columns, hidden_layer1, hidden_layer2)\n",
    "print(net)"
   ]
  },
  {
   "cell_type": "code",
   "execution_count": 14,
   "id": "35969110-ee8b-4be0-a99e-4e5b81a34eeb",
   "metadata": {},
   "outputs": [],
   "source": [
    "#optimizer = optim.SGD(net.parameters(), lr = lr, momentum = momentum)\n",
    "optimizer = optim.Adam(net.parameters(), lr = lr)\n",
    "criterion = nn.BCELoss()"
   ]
  },
  {
   "cell_type": "code",
   "execution_count": 15,
   "id": "722a230d-d158-4ce8-abdb-2c7ca658aec7",
   "metadata": {},
   "outputs": [],
   "source": [
    "def train(model, training_data, optimizer, criterion, epochs=10):\n",
    "    dev = torch.device(\"cuda\" if torch.cuda.is_available() else \"cpu\")\n",
    "    model = model.to(dev)\n",
    "    losses = []\n",
    "    accuracy = []\n",
    "    for epoch in range(epochs):\n",
    "        running_loss = 0.0\n",
    "        batch = 0\n",
    "        model.train()\n",
    "        for  X, y in training_data:\n",
    "            X , y = X.to(dev) , y.to(dev)\n",
    "            features = len(next(iter(training_data))[0][0])\n",
    "            #X = X.view(-1, features)\n",
    "            y = y.view(-1, 1)\n",
    "            \n",
    "            optimizer.zero_grad()\n",
    "            \n",
    "            prob_y = model(X.float())\n",
    "            \n",
    "            y_pred = (prob_y > torch.Tensor([0.5])).long().squeeze()\n",
    "            \n",
    "            accuracy.append((y_pred==y).sum().item()/len(y_pred))\n",
    "            \n",
    "            loss = criterion(prob_y, y.float())\n",
    "            \n",
    "            loss.backward()\n",
    "            \n",
    "            optimizer.step()\n",
    "            \n",
    "            running_loss += loss.item()\n",
    "            \n",
    "            batch += 1\n",
    "        # средние потери на каждой эпохе    \n",
    "        losses.append(running_loss/batch)\n",
    "        if epoch%5==0:\n",
    "            print('epochs {} done'.format(epoch+5))\n",
    "    model.eval()\n",
    "    print(\"Fin\")\n",
    "    return (losses, accuracy)"
   ]
  },
  {
   "cell_type": "code",
   "execution_count": 16,
   "id": "86b56074-2bc1-47cc-8a79-12b0fb2a1c7b",
   "metadata": {
    "tags": []
   },
   "outputs": [
    {
     "name": "stdout",
     "output_type": "stream",
     "text": [
      "epochs 5 done\n",
      "epochs 10 done\n",
      "epochs 15 done\n",
      "epochs 20 done\n",
      "epochs 25 done\n",
      "epochs 30 done\n",
      "epochs 35 done\n",
      "epochs 40 done\n",
      "epochs 45 done\n",
      "epochs 50 done\n",
      "epochs 55 done\n",
      "epochs 60 done\n",
      "epochs 65 done\n",
      "epochs 70 done\n",
      "epochs 75 done\n",
      "epochs 80 done\n",
      "epochs 85 done\n",
      "epochs 90 done\n",
      "epochs 95 done\n",
      "epochs 100 done\n",
      "Fin\n"
     ]
    }
   ],
   "source": [
    "losses, accuracy = train(net, train_dataload, optimizer, criterion, epochs=epochs)"
   ]
  },
  {
   "cell_type": "code",
   "execution_count": 17,
   "id": "1dd5b2ec-cd34-469a-bb28-230c222866bb",
   "metadata": {
    "tags": []
   },
   "outputs": [],
   "source": [
    "def plot_loss_acc(losses, accuracy):\n",
    "    figure = plt.figure(figsize=(9,3))\n",
    "    plt.subplot(121, title=\"losses\")\n",
    "    plt.plot(range(1, len(losses)+1), losses)\n",
    "    plt.xlabel(\"epoch №\")\n",
    "    plt.ylabel(\"loss\")\n",
    "    plt.subplot(122, title=\"accuracy\")\n",
    "    plt.plot(range(1, len(accuracy)+1), accuracy)\n",
    "    plt.xlabel(\"batch №\")\n",
    "    plt.ylabel(\"accuracy\")"
   ]
  },
  {
   "cell_type": "code",
   "execution_count": 18,
   "id": "16f03dbf-ccf2-4087-8c0c-dd64cfad2e43",
   "metadata": {
    "tags": []
   },
   "outputs": [
    {
     "data": {
      "image/png": "[encoded data removed]",
      "text/plain": [
       "<Figure size 900x300 with 2 Axes>"
      ]
     },
     "metadata": {},
     "output_type": "display_data"
    }
   ],
   "source": [
    "plot_loss_acc(losses, accuracy)"
   ]
  },
  {
   "cell_type": "code",
   "execution_count": 19,
   "id": "9a90524d-9a28-4c24-a110-ead786fa31cd",
   "metadata": {
    "tags": []
   },
   "outputs": [],
   "source": [
    "MODEL_PATH = '.\\\\titanic_net_1.pth'\n",
    "torch.save(net.state_dict(), MODEL_PATH)"
   ]
  },
  {
   "cell_type": "code",
   "execution_count": 20,
   "id": "40387c31-b99e-4e4a-8cbf-49c2ba3fb1b6",
   "metadata": {
    "tags": []
   },
   "outputs": [],
   "source": [
    "def calc_test_acc(model, data):\n",
    "    correct = 0\n",
    "    total = 0\n",
    "    with torch.no_grad():\n",
    "        for X, y in data:\n",
    "            X = X.squeeze()\n",
    "            y = y.squeeze()\n",
    "            prob_y = model(X.float())\n",
    "            y_pred = (prob_y > torch.Tensor([0.5])).long().squeeze()\n",
    "            total += len(y_pred)\n",
    "            correct += (y_pred == y).sum().item()\n",
    "    return round((correct/total)*100, 3)"
   ]
  },
  {
   "cell_type": "code",
   "execution_count": 21,
   "id": "461d8141-15a7-483e-86c8-34faea0b5575",
   "metadata": {
    "tags": []
   },
   "outputs": [
    {
     "data": {
      "text/plain": [
       "86.376"
      ]
     },
     "execution_count": 21,
     "metadata": {},
     "output_type": "execute_result"
    }
   ],
   "source": [
    "calc_test_acc(net, train_dataload)"
   ]
  },
  {
   "cell_type": "code",
   "execution_count": 22,
   "id": "6a313491-1694-4f9d-a930-8378488b036f",
   "metadata": {
    "tags": []
   },
   "outputs": [
    {
     "data": {
      "text/plain": [
       "80.447"
      ]
     },
     "execution_count": 22,
     "metadata": {},
     "output_type": "execute_result"
    }
   ],
   "source": [
    "calc_test_acc(net, val_dataload)"
   ]
  },
  {
   "cell_type": "code",
   "execution_count": null,
   "id": "e05b4bf8-a4b4-4f4d-9b17-c12a48d8fe39",
   "metadata": {},
   "outputs": [],
   "source": []
  }
 ],
 "metadata": {
  "kernelspec": {
   "display_name": "Python 3 (ipykernel)",
   "language": "python",
   "name": "python3"
  },
  "language_info": {
   "codemirror_mode": {
    "name": "ipython",
    "version": 3
   },
   "file_extension": ".py",
   "mimetype": "text/x-python",
   "name": "python",
   "nbconvert_exporter": "python",
   "pygments_lexer": "ipython3",
   "version": "3.11.4"
  }
 },
 "nbformat": 4,
 "nbformat_minor": 5
}
