{
 "cells": [
  {
   "cell_type": "markdown",
   "id": "402eaa98-cc03-4747-9539-2716f6e9e3e3",
   "metadata": {},
   "source": [
    "**Restaurant_id** - идентификационный номер ресторана / сети ресторанов  \n",
    "**City** - город, в котором находится ресторан  \n",
    "**Cuisine Style** - кухня или кухни, к которым можно отнести блюда, предлагаемые в ресторане  \n",
    "**Ranking** - место, которое занимает данный ресторан среди всех ресторанов своего города  \n",
    "**Rating** - рейтинг ресторана по данным TripAdvisor (именно это значение должна была предсказывать модель)  \n",
    "**Price Range** - диапазон цен в ресторане  \n",
    "**Number of Reviews** - количетво отзывов в ресторане  \n",
    "**Reviews** - данные о двух отзывах, которые отображаются на сайте ресторана  \n",
    "**URL_TA** - URL страницы ресторана на TripAdvisor  \n",
    "**ID_TA** - идентификатор ресторана в базе данных TripAdvisor"
   ]
  },
  {
   "cell_type": "markdown",
   "id": "601cf06d-7715-4b74-8628-9e4eb73c9b88",
   "metadata": {},
   "source": [
    "# Загрузка Pandas и очистка данных"
   ]
  },
  {
   "cell_type": "code",
   "execution_count": 1,
   "id": "f09c2942-f677-4224-8256-5acaeda8bd86",
   "metadata": {},
   "outputs": [],
   "source": [
    "import pandas as pd"
   ]
  },
  {
   "cell_type": "code",
   "execution_count": 51,
   "id": "479c33e9-c97e-4523-8fbf-8e490dc692a6",
   "metadata": {},
   "outputs": [],
   "source": [
    "df0 = pd.read_csv('main_task.csv')\n",
    "df = df0.copy()"
   ]
  },
  {
   "cell_type": "code",
   "execution_count": 3,
   "id": "5a6543c1-3542-476f-ad40-ea3746c0ba9a",
   "metadata": {},
   "outputs": [
    {
     "name": "stdout",
     "output_type": "stream",
     "text": [
      "<class 'pandas.core.frame.DataFrame'>\n",
      "RangeIndex: 40000 entries, 0 to 39999\n",
      "Data columns (total 10 columns):\n",
      " #   Column             Non-Null Count  Dtype  \n",
      "---  ------             --------------  -----  \n",
      " 0   Restaurant_id      40000 non-null  object \n",
      " 1   City               40000 non-null  object \n",
      " 2   Cuisine Style      30717 non-null  object \n",
      " 3   Ranking            40000 non-null  float64\n",
      " 4   Rating             40000 non-null  float64\n",
      " 5   Price Range        26114 non-null  object \n",
      " 6   Number of Reviews  37457 non-null  float64\n",
      " 7   Reviews            40000 non-null  object \n",
      " 8   URL_TA             40000 non-null  object \n",
      " 9   ID_TA              40000 non-null  object \n",
      "dtypes: float64(3), object(7)\n",
      "memory usage: 3.1+ MB\n"
     ]
    }
   ],
   "source": [
    "df.info()"
   ]
  },
  {
   "cell_type": "code",
   "execution_count": 4,
   "id": "d35cfcd9-f356-460d-8745-e9e5ed4415ab",
   "metadata": {},
   "outputs": [
    {
     "data": {
      "text/plain": [
       "Restaurant_id            0\n",
       "City                     0\n",
       "Cuisine Style         9283\n",
       "Ranking                  0\n",
       "Rating                   0\n",
       "Price Range          13886\n",
       "Number of Reviews     2543\n",
       "Reviews                  0\n",
       "URL_TA                   0\n",
       "ID_TA                    0\n",
       "dtype: int64"
      ]
     },
     "execution_count": 4,
     "metadata": {},
     "output_type": "execute_result"
    }
   ],
   "source": [
    "# количество пропущенных значений в каждом столбце\n",
    "df.isnull().sum()"
   ]
  },
  {
   "cell_type": "code",
   "execution_count": 5,
   "id": "b4f046d4-e42e-4c15-9424-a785d713599d",
   "metadata": {},
   "outputs": [
    {
     "data": {
      "text/html": [
       "<div>\n",
       "<style scoped>\n",
       "    .dataframe tbody tr th:only-of-type {\n",
       "        vertical-align: middle;\n",
       "    }\n",
       "\n",
       "    .dataframe tbody tr th {\n",
       "        vertical-align: top;\n",
       "    }\n",
       "\n",
       "    .dataframe thead th {\n",
       "        text-align: right;\n",
       "    }\n",
       "</style>\n",
       "<table border=\"1\" class=\"dataframe\">\n",
       "  <thead>\n",
       "    <tr style=\"text-align: right;\">\n",
       "      <th></th>\n",
       "      <th>Restaurant_id</th>\n",
       "      <th>City</th>\n",
       "      <th>Cuisine Style</th>\n",
       "      <th>Ranking</th>\n",
       "      <th>Rating</th>\n",
       "      <th>Price Range</th>\n",
       "      <th>Number of Reviews</th>\n",
       "      <th>Reviews</th>\n",
       "      <th>URL_TA</th>\n",
       "      <th>ID_TA</th>\n",
       "    </tr>\n",
       "  </thead>\n",
       "  <tbody>\n",
       "    <tr>\n",
       "      <th>0</th>\n",
       "      <td>id_5569</td>\n",
       "      <td>Paris</td>\n",
       "      <td>['European', 'French', 'International']</td>\n",
       "      <td>5570.0</td>\n",
       "      <td>3.5</td>\n",
       "      <td>$$ - $$$</td>\n",
       "      <td>194.0</td>\n",
       "      <td>[['Good food at your doorstep', 'A good hotel ...</td>\n",
       "      <td>/Restaurant_Review-g187147-d1912643-Reviews-R_...</td>\n",
       "      <td>d1912643</td>\n",
       "    </tr>\n",
       "    <tr>\n",
       "      <th>1</th>\n",
       "      <td>id_1535</td>\n",
       "      <td>Stockholm</td>\n",
       "      <td>NaN</td>\n",
       "      <td>1537.0</td>\n",
       "      <td>4.0</td>\n",
       "      <td>NaN</td>\n",
       "      <td>10.0</td>\n",
       "      <td>[['Unique cuisine', 'Delicious Nepalese food']...</td>\n",
       "      <td>/Restaurant_Review-g189852-d7992032-Reviews-Bu...</td>\n",
       "      <td>d7992032</td>\n",
       "    </tr>\n",
       "    <tr>\n",
       "      <th>2</th>\n",
       "      <td>id_352</td>\n",
       "      <td>London</td>\n",
       "      <td>['Japanese', 'Sushi', 'Asian', 'Grill', 'Veget...</td>\n",
       "      <td>353.0</td>\n",
       "      <td>4.5</td>\n",
       "      <td>$$$$</td>\n",
       "      <td>688.0</td>\n",
       "      <td>[['Catch up with friends', 'Not exceptional'],...</td>\n",
       "      <td>/Restaurant_Review-g186338-d8632781-Reviews-RO...</td>\n",
       "      <td>d8632781</td>\n",
       "    </tr>\n",
       "    <tr>\n",
       "      <th>3</th>\n",
       "      <td>id_3456</td>\n",
       "      <td>Berlin</td>\n",
       "      <td>NaN</td>\n",
       "      <td>3458.0</td>\n",
       "      <td>5.0</td>\n",
       "      <td>NaN</td>\n",
       "      <td>3.0</td>\n",
       "      <td>[[], []]</td>\n",
       "      <td>/Restaurant_Review-g187323-d1358776-Reviews-Es...</td>\n",
       "      <td>d1358776</td>\n",
       "    </tr>\n",
       "    <tr>\n",
       "      <th>4</th>\n",
       "      <td>id_615</td>\n",
       "      <td>Munich</td>\n",
       "      <td>['German', 'Central European', 'Vegetarian Fri...</td>\n",
       "      <td>621.0</td>\n",
       "      <td>4.0</td>\n",
       "      <td>$$ - $$$</td>\n",
       "      <td>84.0</td>\n",
       "      <td>[['Best place to try a Bavarian food', 'Nice b...</td>\n",
       "      <td>/Restaurant_Review-g187309-d6864963-Reviews-Au...</td>\n",
       "      <td>d6864963</td>\n",
       "    </tr>\n",
       "  </tbody>\n",
       "</table>\n",
       "</div>"
      ],
      "text/plain": [
       "  Restaurant_id       City                                      Cuisine Style  \\\n",
       "0       id_5569      Paris            ['European', 'French', 'International']   \n",
       "1       id_1535  Stockholm                                                NaN   \n",
       "2        id_352     London  ['Japanese', 'Sushi', 'Asian', 'Grill', 'Veget...   \n",
       "3       id_3456     Berlin                                                NaN   \n",
       "4        id_615     Munich  ['German', 'Central European', 'Vegetarian Fri...   \n",
       "\n",
       "   Ranking  Rating Price Range  Number of Reviews  \\\n",
       "0   5570.0     3.5    $$ - $$$              194.0   \n",
       "1   1537.0     4.0         NaN               10.0   \n",
       "2    353.0     4.5        $$$$              688.0   \n",
       "3   3458.0     5.0         NaN                3.0   \n",
       "4    621.0     4.0    $$ - $$$               84.0   \n",
       "\n",
       "                                             Reviews  \\\n",
       "0  [['Good food at your doorstep', 'A good hotel ...   \n",
       "1  [['Unique cuisine', 'Delicious Nepalese food']...   \n",
       "2  [['Catch up with friends', 'Not exceptional'],...   \n",
       "3                                           [[], []]   \n",
       "4  [['Best place to try a Bavarian food', 'Nice b...   \n",
       "\n",
       "                                              URL_TA     ID_TA  \n",
       "0  /Restaurant_Review-g187147-d1912643-Reviews-R_...  d1912643  \n",
       "1  /Restaurant_Review-g189852-d7992032-Reviews-Bu...  d7992032  \n",
       "2  /Restaurant_Review-g186338-d8632781-Reviews-RO...  d8632781  \n",
       "3  /Restaurant_Review-g187323-d1358776-Reviews-Es...  d1358776  \n",
       "4  /Restaurant_Review-g187309-d6864963-Reviews-Au...  d6864963  "
      ]
     },
     "execution_count": 5,
     "metadata": {},
     "output_type": "execute_result"
    }
   ],
   "source": [
    "df.head()"
   ]
  },
  {
   "cell_type": "code",
   "execution_count": 52,
   "id": "65ca833a-09af-46aa-bec6-f1ac74a9cca2",
   "metadata": {},
   "outputs": [
    {
     "data": {
      "text/html": [
       "<div>\n",
       "<style scoped>\n",
       "    .dataframe tbody tr th:only-of-type {\n",
       "        vertical-align: middle;\n",
       "    }\n",
       "\n",
       "    .dataframe tbody tr th {\n",
       "        vertical-align: top;\n",
       "    }\n",
       "\n",
       "    .dataframe thead th {\n",
       "        text-align: right;\n",
       "    }\n",
       "</style>\n",
       "<table border=\"1\" class=\"dataframe\">\n",
       "  <thead>\n",
       "    <tr style=\"text-align: right;\">\n",
       "      <th></th>\n",
       "      <th>Ranking</th>\n",
       "      <th>Rating</th>\n",
       "      <th>Number of Reviews</th>\n",
       "    </tr>\n",
       "  </thead>\n",
       "  <tbody>\n",
       "    <tr>\n",
       "      <th>0</th>\n",
       "      <td>5570.0</td>\n",
       "      <td>3.5</td>\n",
       "      <td>194.0</td>\n",
       "    </tr>\n",
       "    <tr>\n",
       "      <th>1</th>\n",
       "      <td>1537.0</td>\n",
       "      <td>4.0</td>\n",
       "      <td>10.0</td>\n",
       "    </tr>\n",
       "    <tr>\n",
       "      <th>2</th>\n",
       "      <td>353.0</td>\n",
       "      <td>4.5</td>\n",
       "      <td>688.0</td>\n",
       "    </tr>\n",
       "    <tr>\n",
       "      <th>3</th>\n",
       "      <td>3458.0</td>\n",
       "      <td>5.0</td>\n",
       "      <td>3.0</td>\n",
       "    </tr>\n",
       "    <tr>\n",
       "      <th>4</th>\n",
       "      <td>621.0</td>\n",
       "      <td>4.0</td>\n",
       "      <td>84.0</td>\n",
       "    </tr>\n",
       "  </tbody>\n",
       "</table>\n",
       "</div>"
      ],
      "text/plain": [
       "   Ranking  Rating  Number of Reviews\n",
       "0   5570.0     3.5              194.0\n",
       "1   1537.0     4.0               10.0\n",
       "2    353.0     4.5              688.0\n",
       "3   3458.0     5.0                3.0\n",
       "4    621.0     4.0               84.0"
      ]
     },
     "execution_count": 52,
     "metadata": {},
     "output_type": "execute_result"
    }
   ],
   "source": [
    "# удалить столбцы, содержащие данные типа object\n",
    "# заполнить пропущенные значения нулём или средним арифметическим\n",
    "#df1 = df.drop([col for col in df.columns if df[col].dtype == 'O'],axis=1)\n",
    "df1 = df.drop(df.select_dtypes(include=['object']), axis = 1)\n",
    "df1 = df1.fillna(df1.mean())\n",
    "df1.head()"
   ]
  },
  {
   "cell_type": "code",
   "execution_count": 7,
   "id": "519de870-7bd9-4d70-aad4-4e63b710f70a",
   "metadata": {},
   "outputs": [
    {
     "name": "stdout",
     "output_type": "stream",
     "text": [
      "<class 'pandas.core.frame.DataFrame'>\n",
      "RangeIndex: 40000 entries, 0 to 39999\n",
      "Data columns (total 3 columns):\n",
      " #   Column             Non-Null Count  Dtype  \n",
      "---  ------             --------------  -----  \n",
      " 0   Ranking            40000 non-null  float64\n",
      " 1   Rating             40000 non-null  float64\n",
      " 2   Number of Reviews  40000 non-null  float64\n",
      "dtypes: float64(3)\n",
      "memory usage: 937.6 KB\n"
     ]
    }
   ],
   "source": [
    "df1.info()"
   ]
  },
  {
   "cell_type": "code",
   "execution_count": 8,
   "id": "ac40b540-1d1d-4797-8c12-a8390f1689bf",
   "metadata": {},
   "outputs": [
    {
     "data": {
      "text/plain": [
       "dtype('O')"
      ]
     },
     "execution_count": 8,
     "metadata": {},
     "output_type": "execute_result"
    }
   ],
   "source": [
    "df['City'].dtype"
   ]
  },
  {
   "cell_type": "markdown",
   "id": "3735a78c-0778-4175-a7f1-7d74d871182c",
   "metadata": {},
   "source": [
    "# Разбиваем датафрейм на части, необходимые для обучения и тестирования модели"
   ]
  },
  {
   "cell_type": "code",
   "execution_count": 9,
   "id": "5cde9ca8-94ac-4f2e-a194-b050b582d941",
   "metadata": {},
   "outputs": [],
   "source": [
    "# Х - данные с информацией о ресторанах, у - целевая переменная (рейтинги ресторанов)\n",
    "X = df1.drop('Rating', axis = 1)\n",
    "y = df1['Rating']"
   ]
  },
  {
   "cell_type": "code",
   "execution_count": 10,
   "id": "657ae47c-91e9-4edb-a611-a9cfda00015b",
   "metadata": {},
   "outputs": [],
   "source": [
    "# Загружаем специальный инструмент для разбивки:\n",
    "from sklearn.model_selection import train_test_split"
   ]
  },
  {
   "cell_type": "code",
   "execution_count": 11,
   "id": "d7c55dd5-246b-471b-b131-f1dce7ed9893",
   "metadata": {},
   "outputs": [],
   "source": [
    "# Наборы данных с меткой \"train\" будут использоваться для обучения модели, \"test\" - для тестирования.\n",
    "# Для тестирования мы будем использовать 25% от исходного датасета.\n",
    "X_train, X_test, y_train, y_test = train_test_split(X, y, test_size=0.25)"
   ]
  },
  {
   "cell_type": "markdown",
   "id": "84b8cdb5-27a0-4e0a-b372-7bc980b34c40",
   "metadata": {},
   "source": [
    "# Создаём, обучаем и тестируем модель"
   ]
  },
  {
   "cell_type": "code",
   "execution_count": 12,
   "id": "6cd2b1d0-f28b-4866-bc19-f11912e11f03",
   "metadata": {},
   "outputs": [],
   "source": [
    "# Импортируем необходимые библиотеки:\n",
    "from sklearn.ensemble import RandomForestRegressor # инструмент для создания и обучения модели\n",
    "from sklearn import metrics # инструменты для оценки точности модели"
   ]
  },
  {
   "cell_type": "code",
   "execution_count": 13,
   "id": "bdf5fd00-2e42-4ceb-94b6-8f9f1f570498",
   "metadata": {
    "tags": []
   },
   "outputs": [],
   "source": [
    "# Создаём модель\n",
    "regr = RandomForestRegressor(n_estimators=100)\n",
    "\n",
    "# Обучаем модель на тестовом наборе данных\n",
    "regr.fit(X_train, y_train)\n",
    "\n",
    "# Используем обученную модель для предсказания рейтинга ресторанов в тестовой выборке.\n",
    "# Предсказанные значения записываем в переменную y_pred\n",
    "y_pred = regr.predict(X_test)"
   ]
  },
  {
   "cell_type": "code",
   "execution_count": 14,
   "id": "70fa6b5a-bbc0-4724-b060-bbaa72d83c61",
   "metadata": {},
   "outputs": [
    {
     "name": "stdout",
     "output_type": "stream",
     "text": [
      "MAE: 0.43134215670024423\n"
     ]
    }
   ],
   "source": [
    "# Сравниваем предсказанные значения (y_pred) с реальными (y_test), и смотрим насколько они в среднем отличаются\n",
    "# Метрика называется Mean Absolute Error (MAE) и показывает среднее отклонение предсказанных значений от фактических.\n",
    "print('MAE:', metrics.mean_absolute_error(y_test, y_pred))"
   ]
  },
  {
   "cell_type": "code",
   "execution_count": 15,
   "id": "aecdfd58-f33e-4cad-891e-e7a09d43d46d",
   "metadata": {},
   "outputs": [
    {
     "data": {
      "text/plain": [
       "3"
      ]
     },
     "execution_count": 15,
     "metadata": {},
     "output_type": "execute_result"
    }
   ],
   "source": [
    "# сколько вариантов непустых значений в столбце Price Range\n",
    "b = df['Price Range'].value_counts()\n",
    "len(b)"
   ]
  },
  {
   "cell_type": "code",
   "execution_count": 16,
   "id": "7ebd8fcb-6148-4826-a709-a008415d9fe5",
   "metadata": {},
   "outputs": [
    {
     "data": {
      "text/plain": [
       "18412"
      ]
     },
     "execution_count": 16,
     "metadata": {},
     "output_type": "execute_result"
    }
   ],
   "source": [
    "# сколько средних значений\n",
    "b['$$ - $$$']"
   ]
  },
  {
   "cell_type": "code",
   "execution_count": 17,
   "id": "daf7cf97-cde3-4f57-8f05-90ecd15fe095",
   "metadata": {},
   "outputs": [
    {
     "data": {
      "text/plain": [
       "31"
      ]
     },
     "execution_count": 17,
     "metadata": {},
     "output_type": "execute_result"
    }
   ],
   "source": [
    "# сколько городов\n",
    "len(df['City'].value_counts())"
   ]
  },
  {
   "cell_type": "code",
   "execution_count": 63,
   "id": "0b79f6bd-e438-4ce3-95bc-037633de114b",
   "metadata": {},
   "outputs": [
    {
     "data": {
      "text/plain": [
       "30717"
      ]
     },
     "execution_count": 63,
     "metadata": {},
     "output_type": "execute_result"
    }
   ],
   "source": [
    "# сколько типов кухонь -- разбить и посчитать\n",
    "df = df0.copy()\n",
    "#df['Cuisine Style'].value_counts()\n",
    "df1 = df[['Restaurant_id', 'Cuisine Style']]\n",
    "df1 = df1.dropna()\n",
    "df2 = df1.explode('Cuisine Style') # разбиваем по кухням\n",
    "#df1 = pd.DataFrame(df['Cuisine Style'].values.tolist())\n",
    "#df1 = pd.get_dummies(df['Cuisine Style'].str.split(','))\n",
    "a = df2['Cuisine Style'].count()\n",
    "a\n",
    "#df2.head()"
   ]
  },
  {
   "cell_type": "code",
   "execution_count": 19,
   "id": "57e73ba1-5349-47c5-a656-ef2bf712c4d4",
   "metadata": {},
   "outputs": [
    {
     "ename": "SyntaxError",
     "evalue": "unexpected EOF while parsing (<ipython-input-19-c74c2e76a21e>, line 4)",
     "output_type": "error",
     "traceback": [
      "\u001b[1;36m  File \u001b[1;32m\"<ipython-input-19-c74c2e76a21e>\"\u001b[1;36m, line \u001b[1;32m4\u001b[0m\n\u001b[1;33m    \u001b[0m\n\u001b[1;37m    ^\u001b[0m\n\u001b[1;31mSyntaxError\u001b[0m\u001b[1;31m:\u001b[0m unexpected EOF while parsing\n"
     ]
    }
   ],
   "source": [
    "class ReColumns():\n",
    "    \n",
    "    def __init__(self, values):\n",
    "        # иничиализируем атрибуты\n",
    "        self.values = values\n",
    "        # собираем все данные в список\n",
    "        self.lisst = []\n",
    "        \n",
    "    def add_deal(self, values):\n",
    "        for i in self.values:\n",
    "            self.lisst.append(i)\n",
    "    "
   ]
  },
  {
   "cell_type": "code",
   "execution_count": null,
   "id": "eda5d790-3c9e-4f3b-bb90-61c5987be139",
   "metadata": {},
   "outputs": [],
   "source": [
    "# средний размер сделки и список клиентов, из которого исключены повторения\n",
    "# (если заключено несколько сделок с однм и тем же клиентом)\n",
    "class SalesReport():\n",
    "    def __init__(self, employee_name):\n",
    "        self.deals = []\n",
    "        self.employee_name = employee_name\n",
    "        \n",
    "    def add_deal(self, company, amount):\n",
    "        self.deals.append({'company': company, 'amount': amount})\n",
    "        \n",
    "    def total_amount(self):\n",
    "        return sum([deal['amount'] for deal in self.deals])\n",
    "    \n",
    "    def average_deal(self):\n",
    "        return self.total_amount()/len(self.deals)\n",
    "    \n",
    "    def all_companies(self):\n",
    "        return list(set([deal['company'] for deal in self.deals]))\n",
    "    \n",
    "    def print_report(self):\n",
    "        print(\"Employee:\", self.employee_name)\n",
    "        print(\"Total sales:\", self.total_amount())\n",
    "        print(\"Average sales:\", self.average_deal())\n",
    "        print(\"Companies:\", self.all_companies())\n",
    "        \n",
    "report = SalesReport('Ivan Semenov')\n",
    "\n",
    "report.add_deal(\"PepsiCo\", 120_000)\n",
    "report.add_deal(\"SkyEng\", 250_000)\n",
    "report.add_deal(\"PepsiCo\", 20_000)\n",
    "\n",
    "report.print_report()"
   ]
  },
  {
   "cell_type": "code",
   "execution_count": null,
   "id": "7d2994cf-4380-4339-b747-bd482d7452ec",
   "metadata": {},
   "outputs": [],
   "source": [
    "# определить класс IntDataFrame, который принимает список и все числа в этом списке приводит к целым значениям\n",
    "# метод count, который считает количество ненулевых элементов\n",
    "# метод unique, который возвращет число уникальных элементов\n",
    "\n",
    "class IntDataFrame():\n",
    "    def __init__(self, values):\n",
    "# инициализируем атрибуты\n",
    "        self.values = values\n",
    "# конвертируем числа в целые\n",
    "        self.to_whole()\n",
    "    \n",
    "    def to_whole(self):\n",
    "        self.values = [int(value) for value in self.values]\n",
    "        \n",
    "# подсчтываем количество ненулевых элементов\n",
    "    def count(self):\n",
    "        return np.count_nonzero(self.values)\n",
    "# возвращаем число уникальных элементов\n",
    "    def unique(self):\n",
    "        return len(np.unique(self.values))\n",
    "    \n",
    "df = IntDataFrame([4.7, 4, 3, 0, 2.4, 0.3, 4])\n",
    "\n",
    "print(df.count())\n",
    "print(df.unique())"
   ]
  },
  {
   "cell_type": "code",
   "execution_count": null,
   "id": "776b10f8-d765-4467-9f9e-7d2c77f3687e",
   "metadata": {},
   "outputs": [],
   "source": [
    "# строки приводим к числам, пропуски- заполнить значениями\n",
    "import statistics\n",
    "\n",
    "class DataFrame():\n",
    "    def __init__(self, column, fill_value = 0):\n",
    "# инициализируем атрибуты\n",
    "        self.column = column\n",
    "        self.fill_value = fill_value\n",
    "# заполнм пропуски\n",
    "        self.fill_missed()\n",
    "# конвертируем все элементы в числа\n",
    "        self.to_float()\n",
    "    \n",
    "    def fill_missed(self):\n",
    "        for i, value in enumerate(self.column):\n",
    "            if value is None or value == '':\n",
    "                self.column[i] = self.fill_value\n",
    "                \n",
    "    def to_float(self):\n",
    "        self.column = [float(value) for value in self.column]\n",
    "        \n",
    "    def median(self):\n",
    "        return statistics.median(self.column)\n",
    "    \n",
    "    def mean(self):\n",
    "        return statistics.mean(self.column)\n",
    "    \n",
    "    def deviation(self):\n",
    "        return statistics.stdev(self.column)\n",
    "    \n",
    "# воспользуемся классом\n",
    "df = DataFrame(['1', 17, 4, None, 8])\n",
    "\n",
    "print(df.column)\n",
    "print(df.deviation())\n",
    "print(df.median())"
   ]
  }
 ],
 "metadata": {
  "kernelspec": {
   "display_name": "Python 3",
   "language": "python",
   "name": "python3"
  },
  "language_info": {
   "codemirror_mode": {
    "name": "ipython",
    "version": 3
   },
   "file_extension": ".py",
   "mimetype": "text/x-python",
   "name": "python",
   "nbconvert_exporter": "python",
   "pygments_lexer": "ipython3",
   "version": "3.8.8"
  }
 },
 "nbformat": 4,
 "nbformat_minor": 5
}
