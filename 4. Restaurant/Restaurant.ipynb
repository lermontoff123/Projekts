{
 "cells": [
  {
   "cell_type": "markdown",
   "id": "06470954-750b-41d9-bef2-14a17e20890f",
   "metadata": {},
   "source": [
    "## Подготовительные упражнения к проекту"
   ]
  },
  {
   "cell_type": "code",
   "execution_count": 1,
   "id": "f09c2942-f677-4224-8256-5acaeda8bd86",
   "metadata": {
    "tags": []
   },
   "outputs": [],
   "source": [
    "import pandas as pd\n",
    "import re\n",
    "import datetime\n",
    "import seaborn as sns"
   ]
  },
  {
   "cell_type": "code",
   "execution_count": 2,
   "id": "479c33e9-c97e-4523-8fbf-8e490dc692a6",
   "metadata": {
    "tags": []
   },
   "outputs": [],
   "source": [
    "df0 = pd.read_csv('main_task.csv')\n",
    "df = df0.copy()"
   ]
  },
  {
   "cell_type": "code",
   "execution_count": 3,
   "id": "aecdfd58-f33e-4cad-891e-e7a09d43d46d",
   "metadata": {
    "tags": []
   },
   "outputs": [
    {
     "data": {
      "text/plain": [
       "3"
      ]
     },
     "execution_count": 3,
     "metadata": {},
     "output_type": "execute_result"
    }
   ],
   "source": [
    "# сколько вариантов непустых значений в столбце Price Range\n",
    "b = df['Price Range'].value_counts()\n",
    "len(b)"
   ]
  },
  {
   "cell_type": "code",
   "execution_count": 4,
   "id": "f6e93e75-11d1-44d3-a979-f5f73c57bfd8",
   "metadata": {
    "tags": []
   },
   "outputs": [
    {
     "data": {
      "text/plain": [
       "Price Range\n",
       "$$ - $$$    18412\n",
       "$            6279\n",
       "$$$$         1423\n",
       "Name: count, dtype: int64"
      ]
     },
     "execution_count": 4,
     "metadata": {},
     "output_type": "execute_result"
    }
   ],
   "source": [
    "b"
   ]
  },
  {
   "cell_type": "code",
   "execution_count": 5,
   "id": "7ebd8fcb-6148-4826-a709-a008415d9fe5",
   "metadata": {},
   "outputs": [
    {
     "data": {
      "text/plain": [
       "18412"
      ]
     },
     "execution_count": 5,
     "metadata": {},
     "output_type": "execute_result"
    }
   ],
   "source": [
    "# сколько средних значений\n",
    "b['$$ - $$$']"
   ]
  },
  {
   "cell_type": "code",
   "execution_count": 6,
   "id": "daf7cf97-cde3-4f57-8f05-90ecd15fe095",
   "metadata": {},
   "outputs": [
    {
     "data": {
      "text/plain": [
       "31"
      ]
     },
     "execution_count": 6,
     "metadata": {},
     "output_type": "execute_result"
    }
   ],
   "source": [
    "# сколько городов\n",
    "len(df['City'].value_counts())"
   ]
  },
  {
   "cell_type": "code",
   "execution_count": 7,
   "id": "0b79f6bd-e438-4ce3-95bc-037633de114b",
   "metadata": {},
   "outputs": [
    {
     "data": {
      "text/plain": [
       "125"
      ]
     },
     "execution_count": 7,
     "metadata": {},
     "output_type": "execute_result"
    }
   ],
   "source": [
    "# сколько типов кухонь -- разбить и посчитать\n",
    "df1 = df.loc[:, ['Restaurant_id', 'Cuisine Style']]\n",
    "df1 = df1.dropna()\n",
    "df1['Cuisine Style'] = df1['Cuisine Style'].apply(lambda x: x[1:-1].replace(\"'\", '').split(', ')) # убираем передние и задние кавычки/ убираем кавычки у каждого слова/ делаем список из значений\n",
    "cuisine = df1['Cuisine Style'].explode().unique() # разбиваем по кухням/ делаем список из уникальных значений\n",
    "len(cuisine) # считаем количество разных кухонь"
   ]
  },
  {
   "cell_type": "code",
   "execution_count": 8,
   "id": "57e73ba1-5349-47c5-a656-ef2bf712c4d4",
   "metadata": {},
   "outputs": [
    {
     "name": "stdout",
     "output_type": "stream",
     "text": [
      "Vegetarian Friendly\n"
     ]
    }
   ],
   "source": [
    "# какая кухня наиболее часто встречается\n",
    "print(df1['Cuisine Style'].explode().mode()[0])"
   ]
  },
  {
   "cell_type": "code",
   "execution_count": 9,
   "id": "732b3b68-3264-4acd-90cb-791cbebe773b",
   "metadata": {},
   "outputs": [
    {
     "data": {
      "text/plain": [
       "2.6"
      ]
     },
     "execution_count": 9,
     "metadata": {},
     "output_type": "execute_result"
    }
   ],
   "source": [
    "# среднее количество кухонь на 1 ресторан. Если NaN, то 1. Округлить до 1\n",
    "df2 = df.loc[:, ['Restaurant_id', 'Cuisine Style']] # выбираем 2 колонки - рестораны и кухни\n",
    "df2.loc[:, 'Cuisine Style'].fillna('1', inplace = True) # заменяем отсутствующие значения любой строкой \n",
    "# убираем передние и задние кавычки/ убираем кавычки у каждого слова/ делаем список из значений/ считаем количество кухонь в ресторане\n",
    "df2['Cuisine Style'] = df2.loc[:, 'Cuisine Style'].apply(lambda x: len(x[1:-1].replace(\"'\", '').split(', ')))\n",
    "round(df2['Cuisine Style'].mean(), 1) # считаем среднее значение количества кухонь по столбцу/ округляем до 1"
   ]
  },
  {
   "cell_type": "code",
   "execution_count": 10,
   "id": "960986be-00d8-427a-9c06-7dbcdc92e830",
   "metadata": {},
   "outputs": [
    {
     "name": "stdout",
     "output_type": "stream",
     "text": [
      "2018-02-26\n"
     ]
    }
   ],
   "source": [
    "# самый ранний отзыв\n",
    "df3 = df.loc[:, 'Reviews'] # выбираем столбец с отзывами\n",
    "df3 = df3.apply(lambda x: re.findall(r'\\d{2}/\\d{2}/\\d{4}', x)) # выбираем даты отзывов\n",
    "df3 = df3[df3.astype(bool)] # убираем пустые списки\n",
    "df3 = df3.apply(lambda x: x[0]) # выбираем первую дату\n",
    "df3 = pd.to_datetime(df3, format=\"%m/%d/%Y\") # переводим данные столбца в формат даты\n",
    "print(df3.max().date()) # находим последнюю дату"
   ]
  },
  {
   "cell_type": "code",
   "execution_count": 11,
   "id": "77ead9e0-4384-452c-83e7-bcf85435c936",
   "metadata": {},
   "outputs": [
    {
     "name": "stdout",
     "output_type": "stream",
     "text": [
      "3207 days 00:00:00\n"
     ]
    }
   ],
   "source": [
    "# макс. количество дней между отзывами\n",
    "df4 = df.loc[:, ['Restaurant_id', 'Reviews']] # выбираем столбец с отзывами\n",
    "df4['Reviews'] = df4.loc[:, 'Reviews'].map(lambda x: re.findall(r'\\d{2}/\\d{2}/\\d{4}', x)) # выбираем даты отзывов\n",
    "df4 = df4[df4['Reviews'].apply(len) > 0] # удаляем пустые списки\n",
    "df4['a'] = df4['Reviews'].apply(lambda x: x[0]) # создаём столбец с последней датой\n",
    "df4['b'] = df4['Reviews'].apply(lambda x: x[-1]) # создаём столбец с предпоследней датой\n",
    "df4['a'] = pd.to_datetime(df4['a'], format=\"%m/%d/%Y\") # переводим данные столбца a в формат даты\n",
    "df4['b'] = pd.to_datetime(df4['b'], format=\"%m/%d/%Y\") # переводим данные столбца b в формат даты\n",
    "df4['c'] = df4.a - df4.b # создаём столбец с разницей между отзывами\n",
    "print(df4['c'].max()) # находим максимальной разницей"
   ]
  },
  {
   "cell_type": "markdown",
   "id": "501df1ef-fada-4144-8b4f-21f55804ee9e",
   "metadata": {},
   "source": [
    "## Содержание фрейма"
   ]
  },
  {
   "cell_type": "markdown",
   "id": "402eaa98-cc03-4747-9539-2716f6e9e3e3",
   "metadata": {},
   "source": [
    "**Restaurant_id** - идентификационный номер ресторана / сети ресторанов  \n",
    "**City** - город, в котором находится ресторан  \n",
    "**Cuisine Style** - кухня или кухни, к которым можно отнести блюда, предлагаемые в ресторане  \n",
    "**Ranking** - место, которое занимает данный ресторан среди всех ресторанов своего города  \n",
    "**Rating** - рейтинг ресторана по данным TripAdvisor (именно это значение должна была предсказывать модель)  \n",
    "**Price Range** - диапазон цен в ресторане  \n",
    "**Number of Reviews** - количетво отзывов в ресторане  \n",
    "**Reviews** - данные о двух отзывах, которые отображаются на сайте ресторана  \n",
    "**URL_TA** - URL страницы ресторана на TripAdvisor  \n",
    "**ID_TA** - идентификатор ресторана в базе данных TripAdvisor"
   ]
  },
  {
   "cell_type": "markdown",
   "id": "601cf06d-7715-4b74-8628-9e4eb73c9b88",
   "metadata": {},
   "source": [
    "## Загрузка Pandas и очистка данных"
   ]
  },
  {
   "cell_type": "code",
   "execution_count": 12,
   "id": "5a6543c1-3542-476f-ad40-ea3746c0ba9a",
   "metadata": {},
   "outputs": [
    {
     "name": "stdout",
     "output_type": "stream",
     "text": [
      "<class 'pandas.core.frame.DataFrame'>\n",
      "RangeIndex: 40000 entries, 0 to 39999\n",
      "Data columns (total 10 columns):\n",
      " #   Column             Non-Null Count  Dtype  \n",
      "---  ------             --------------  -----  \n",
      " 0   Restaurant_id      40000 non-null  object \n",
      " 1   City               40000 non-null  object \n",
      " 2   Cuisine Style      30717 non-null  object \n",
      " 3   Ranking            40000 non-null  float64\n",
      " 4   Rating             40000 non-null  float64\n",
      " 5   Price Range        26114 non-null  object \n",
      " 6   Number of Reviews  37457 non-null  float64\n",
      " 7   Reviews            40000 non-null  object \n",
      " 8   URL_TA             40000 non-null  object \n",
      " 9   ID_TA              40000 non-null  object \n",
      "dtypes: float64(3), object(7)\n",
      "memory usage: 3.1+ MB\n"
     ]
    }
   ],
   "source": [
    "df.info()"
   ]
  },
  {
   "cell_type": "code",
   "execution_count": 13,
   "id": "d35cfcd9-f356-460d-8745-e9e5ed4415ab",
   "metadata": {},
   "outputs": [
    {
     "data": {
      "text/plain": [
       "Restaurant_id            0\n",
       "City                     0\n",
       "Cuisine Style         9283\n",
       "Ranking                  0\n",
       "Rating                   0\n",
       "Price Range          13886\n",
       "Number of Reviews     2543\n",
       "Reviews                  0\n",
       "URL_TA                   0\n",
       "ID_TA                    0\n",
       "dtype: int64"
      ]
     },
     "execution_count": 13,
     "metadata": {},
     "output_type": "execute_result"
    }
   ],
   "source": [
    "# количество пропущенных значений в каждом столбце\n",
    "df.isnull().sum()"
   ]
  },
  {
   "cell_type": "code",
   "execution_count": 14,
   "id": "c264bc88-1976-4981-ba9a-6135d0c2cd9c",
   "metadata": {},
   "outputs": [
    {
     "name": "stdout",
     "output_type": "stream",
     "text": [
      "Axes(0.125,0.11;0.62x0.77)\n"
     ]
    },
    {
     "data": {
      "image/png": "[encoded data removed]",
      "text/plain": [
       "<Figure size 640x480 with 2 Axes>"
      ]
     },
     "metadata": {},
     "output_type": "display_data"
    }
   ],
   "source": [
    "#тепловая карта пропущеннных значений\n",
    "# определяем цвета \n",
    "# желтый - пропущенные данные, синий - не пропущенные\n",
    "colours = ['#000099', '#ffff00'] \n",
    "print(sns.heatmap(df.isnull(), cmap=sns.color_palette(colours)))"
   ]
  },
  {
   "cell_type": "markdown",
   "id": "467dfec3-5b99-4ed5-80ac-7457b11c20d6",
   "metadata": {},
   "source": [
    "В целевой переменной Rating нет пропущенных значений, поэтому предобработка выполняется только в переименовании названий столбцов для удобства."
   ]
  },
  {
   "cell_type": "markdown",
   "id": "432d9cae-c729-454b-b646-6b7971741c71",
   "metadata": {},
   "source": [
    "Заменим в названиях колонок пробелы подчёркиванием."
   ]
  },
  {
   "cell_type": "code",
   "execution_count": 15,
   "id": "f906aa3f-a4d4-42eb-a147-c606cb8790ac",
   "metadata": {},
   "outputs": [],
   "source": [
    "df.columns = df.columns.str.replace(\" \", \"_\")"
   ]
  },
  {
   "cell_type": "code",
   "execution_count": 16,
   "id": "b4f046d4-e42e-4c15-9424-a785d713599d",
   "metadata": {},
   "outputs": [
    {
     "data": {
      "text/html": [
       "<div>\n",
       "<style scoped>\n",
       "    .dataframe tbody tr th:only-of-type {\n",
       "        vertical-align: middle;\n",
       "    }\n",
       "\n",
       "    .dataframe tbody tr th {\n",
       "        vertical-align: top;\n",
       "    }\n",
       "\n",
       "    .dataframe thead th {\n",
       "        text-align: right;\n",
       "    }\n",
       "</style>\n",
       "<table border=\"1\" class=\"dataframe\">\n",
       "  <thead>\n",
       "    <tr style=\"text-align: right;\">\n",
       "      <th></th>\n",
       "      <th>Restaurant_id</th>\n",
       "      <th>City</th>\n",
       "      <th>Cuisine_Style</th>\n",
       "      <th>Ranking</th>\n",
       "      <th>Rating</th>\n",
       "      <th>Price_Range</th>\n",
       "      <th>Number_of_Reviews</th>\n",
       "      <th>Reviews</th>\n",
       "      <th>URL_TA</th>\n",
       "      <th>ID_TA</th>\n",
       "    </tr>\n",
       "  </thead>\n",
       "  <tbody>\n",
       "    <tr>\n",
       "      <th>0</th>\n",
       "      <td>id_5569</td>\n",
       "      <td>Paris</td>\n",
       "      <td>['European', 'French', 'International']</td>\n",
       "      <td>5570.0</td>\n",
       "      <td>3.5</td>\n",
       "      <td>$$ - $$$</td>\n",
       "      <td>194.0</td>\n",
       "      <td>[['Good food at your doorstep', 'A good hotel ...</td>\n",
       "      <td>/Restaurant_Review-g187147-d1912643-Reviews-R_...</td>\n",
       "      <td>d1912643</td>\n",
       "    </tr>\n",
       "    <tr>\n",
       "      <th>1</th>\n",
       "      <td>id_1535</td>\n",
       "      <td>Stockholm</td>\n",
       "      <td>NaN</td>\n",
       "      <td>1537.0</td>\n",
       "      <td>4.0</td>\n",
       "      <td>NaN</td>\n",
       "      <td>10.0</td>\n",
       "      <td>[['Unique cuisine', 'Delicious Nepalese food']...</td>\n",
       "      <td>/Restaurant_Review-g189852-d7992032-Reviews-Bu...</td>\n",
       "      <td>d7992032</td>\n",
       "    </tr>\n",
       "    <tr>\n",
       "      <th>2</th>\n",
       "      <td>id_352</td>\n",
       "      <td>London</td>\n",
       "      <td>['Japanese', 'Sushi', 'Asian', 'Grill', 'Veget...</td>\n",
       "      <td>353.0</td>\n",
       "      <td>4.5</td>\n",
       "      <td>$$$$</td>\n",
       "      <td>688.0</td>\n",
       "      <td>[['Catch up with friends', 'Not exceptional'],...</td>\n",
       "      <td>/Restaurant_Review-g186338-d8632781-Reviews-RO...</td>\n",
       "      <td>d8632781</td>\n",
       "    </tr>\n",
       "    <tr>\n",
       "      <th>3</th>\n",
       "      <td>id_3456</td>\n",
       "      <td>Berlin</td>\n",
       "      <td>NaN</td>\n",
       "      <td>3458.0</td>\n",
       "      <td>5.0</td>\n",
       "      <td>NaN</td>\n",
       "      <td>3.0</td>\n",
       "      <td>[[], []]</td>\n",
       "      <td>/Restaurant_Review-g187323-d1358776-Reviews-Es...</td>\n",
       "      <td>d1358776</td>\n",
       "    </tr>\n",
       "    <tr>\n",
       "      <th>4</th>\n",
       "      <td>id_615</td>\n",
       "      <td>Munich</td>\n",
       "      <td>['German', 'Central European', 'Vegetarian Fri...</td>\n",
       "      <td>621.0</td>\n",
       "      <td>4.0</td>\n",
       "      <td>$$ - $$$</td>\n",
       "      <td>84.0</td>\n",
       "      <td>[['Best place to try a Bavarian food', 'Nice b...</td>\n",
       "      <td>/Restaurant_Review-g187309-d6864963-Reviews-Au...</td>\n",
       "      <td>d6864963</td>\n",
       "    </tr>\n",
       "  </tbody>\n",
       "</table>\n",
       "</div>"
      ],
      "text/plain": [
       "  Restaurant_id       City                                      Cuisine_Style  \\\n",
       "0       id_5569      Paris            ['European', 'French', 'International']   \n",
       "1       id_1535  Stockholm                                                NaN   \n",
       "2        id_352     London  ['Japanese', 'Sushi', 'Asian', 'Grill', 'Veget...   \n",
       "3       id_3456     Berlin                                                NaN   \n",
       "4        id_615     Munich  ['German', 'Central European', 'Vegetarian Fri...   \n",
       "\n",
       "   Ranking  Rating Price_Range  Number_of_Reviews  \\\n",
       "0   5570.0     3.5    $$ - $$$              194.0   \n",
       "1   1537.0     4.0         NaN               10.0   \n",
       "2    353.0     4.5        $$$$              688.0   \n",
       "3   3458.0     5.0         NaN                3.0   \n",
       "4    621.0     4.0    $$ - $$$               84.0   \n",
       "\n",
       "                                             Reviews  \\\n",
       "0  [['Good food at your doorstep', 'A good hotel ...   \n",
       "1  [['Unique cuisine', 'Delicious Nepalese food']...   \n",
       "2  [['Catch up with friends', 'Not exceptional'],...   \n",
       "3                                           [[], []]   \n",
       "4  [['Best place to try a Bavarian food', 'Nice b...   \n",
       "\n",
       "                                              URL_TA     ID_TA  \n",
       "0  /Restaurant_Review-g187147-d1912643-Reviews-R_...  d1912643  \n",
       "1  /Restaurant_Review-g189852-d7992032-Reviews-Bu...  d7992032  \n",
       "2  /Restaurant_Review-g186338-d8632781-Reviews-RO...  d8632781  \n",
       "3  /Restaurant_Review-g187323-d1358776-Reviews-Es...  d1358776  \n",
       "4  /Restaurant_Review-g187309-d6864963-Reviews-Au...  d6864963  "
      ]
     },
     "execution_count": 16,
     "metadata": {},
     "output_type": "execute_result"
    }
   ],
   "source": [
    "df.head()"
   ]
  },
  {
   "cell_type": "markdown",
   "id": "d7cba07c-87fe-4b11-bb16-cb12ef53c7d3",
   "metadata": {},
   "source": [
    "## Напишем функции для обработки данных"
   ]
  },
  {
   "cell_type": "code",
   "execution_count": 17,
   "id": "e15c0eb0-943f-4ff9-a520-c4f2c449d661",
   "metadata": {},
   "outputs": [],
   "source": [
    "# составим функцию для вывода начальных данных\n",
    "def test(df, colx):\n",
    "    # где df - фрейм данных, colx - название анализируемой колонки\n",
    "    dfx = df[colx]\n",
    "    a1 = pd.DataFrame(dfx.value_counts()) # создание таблицы с данными по столбцу\n",
    "    a1['percent'] = round((a1 * 100 / len(df)), 5) # создание таблицы с процентным соотношением данных по столбцу\n",
    "    b1 = round(abs(len(df) - a1['count'].sum()), 2) # вычисляем количество незаполненных данных\n",
    "    c1 = round(abs(100 - a1.percent.sum()), 2) # вычисляем процент незаполненных данных\n",
    "    print(a1), print(f'Количество незаполненных значений: {b1} ~ {c1}%.'), df.loc[:, [colx]].info()\n",
    "    if dfx.dtypes != 'O': # если столбец числовой, строим гистограмму распределения\n",
    "        dfx.hist()\n",
    "# составим функцию для обработки данных\n",
    "def objekt(df, colx): # функция для замены отсутствующих значений на наиболее часто встречающиеся или,\n",
    "    # при небольшой разнице в количестве значений, на любое из двух наиболее часто встречающихся.\n",
    "    # где df - фрейм данных, colx - название анализируемой колонки\n",
    "    dfx = df[colx]\n",
    "    a = pd.DataFrame(dfx.value_counts())\n",
    "    a['percent'] = round((a[colx] * 100 / len(df)), 2)\n",
    "    u = a.percent.values[0] - a.percent.values[1]\n",
    "    u1 = [a.index[0], a.index[1]]\n",
    "    if dfx.dtypes == 'O' and u > 15:\n",
    "    # заполнение строковых столбцов: когда строковые столбцы имеют пропущенные значения и значения NaN\n",
    "        dfx.fillna(dfx.mode().values[0], inplace = True)\n",
    "    elif dfx.dtypes == 'O' and u <= 15:\n",
    "        dfx.fillna(random.choice(u1), inplace = True)\n",
    "    # заполнение числовых столбцов: когда числовые столбцы имеют пропущенные значения и значения NaN\n",
    "    elif dfx.dtypes != 'O' and u > 15:\n",
    "        dfx.fillna(dfx.value_counts().index[0], inplace = True)\n",
    "    else:\n",
    "        dfx.fillna(random.choice(u1), inplace = True)\n",
    "    b = pd.DataFrame(dfx.value_counts()) # создание таблицы с данными по столбцу\n",
    "    b['percent'] = round((b[colx] * 100 / len(df)), 2) # создание таблицы с процентным соотношением данных по столбцу\n",
    "    return b\n",
    "def get_boxplot(df, colx, coly, n): # построение графиков сравнения\n",
    "    # где df - фрейм данных, colx - название анализируемой колонки, coly - название колонки для сравнения, n - выборка\n",
    "    fig, ax = plt.subplots(figsize = (14, 4))\n",
    "    sns.boxplot(x = colx, y = coly,\n",
    "            data = df.loc[df.loc[:, colx].isin(df.loc[:, colx].value_counts().index[:n])],\n",
    "            ax = ax)\n",
    "    plt.xticks(rotation = 45)\n",
    "    ax.set_title('Boxplot for ' + colx)\n",
    "    plt.show()"
   ]
  },
  {
   "cell_type": "markdown",
   "id": "aaf08297-9cec-4e50-8651-29ff0c403b3f",
   "metadata": {},
   "source": [
    "## Рассмотрим подробнее каждый столбец"
   ]
  },
  {
   "cell_type": "markdown",
   "id": "49c858bb-bec2-468d-b435-32377f48de6d",
   "metadata": {},
   "source": [
    "### Restaurant_id - идентификационный номер ресторана / сети ресторанов"
   ]
  },
  {
   "cell_type": "code",
   "execution_count": 18,
   "id": "921e6f3b-adbd-4bb1-a8bd-f1ec49d172bd",
   "metadata": {
    "tags": []
   },
   "outputs": [
    {
     "name": "stdout",
     "output_type": "stream",
     "text": [
      "<class 'pandas.core.frame.DataFrame'>\n",
      "Index: 9 entries, 4.0 to 1.5\n",
      "Data columns (total 1 columns):\n",
      " #   Column  Non-Null Count  Dtype\n",
      "---  ------  --------------  -----\n",
      " 0   count   9 non-null      int64\n",
      "dtypes: int64(1)\n",
      "memory usage: 144.0 bytes\n"
     ]
    }
   ],
   "source": [
    "a1 = pd.DataFrame(df['Rating'].value_counts())\n",
    "a1.info()"
   ]
  },
  {
   "cell_type": "code",
   "execution_count": 19,
   "id": "859f32d7-53e0-4f4f-9ca0-149fed46ceba",
   "metadata": {},
   "outputs": [
    {
     "name": "stdout",
     "output_type": "stream",
     "text": [
      "               count  percent\n",
      "Restaurant_id                \n",
      "id_633            18   0.0450\n",
      "id_436            18   0.0450\n",
      "id_227            18   0.0450\n",
      "id_871            18   0.0450\n",
      "id_430            17   0.0425\n",
      "...              ...      ...\n",
      "id_8716            1   0.0025\n",
      "id_14532           1   0.0025\n",
      "id_9738            1   0.0025\n",
      "id_11559           1   0.0025\n",
      "id_6057            1   0.0025\n",
      "\n",
      "[11909 rows x 2 columns]\n",
      "Количество незаполненных значений: 0 ~ 0.0%.\n",
      "<class 'pandas.core.frame.DataFrame'>\n",
      "RangeIndex: 40000 entries, 0 to 39999\n",
      "Data columns (total 1 columns):\n",
      " #   Column         Non-Null Count  Dtype \n",
      "---  ------         --------------  ----- \n",
      " 0   Restaurant_id  40000 non-null  object\n",
      "dtypes: object(1)\n",
      "memory usage: 312.6+ KB\n"
     ]
    }
   ],
   "source": [
    "test(df, 'Restaurant_id')"
   ]
  },
  {
   "cell_type": "markdown",
   "id": "55c94b6a-1b32-452e-bd2f-64269fea5d75",
   "metadata": {},
   "source": [
    "Пропущенных значений нет. Есть преобладающие значения, но это, возможно, рестораны одной сети."
   ]
  },
  {
   "cell_type": "markdown",
   "id": "25c140c2-e2cd-412b-bb7b-07c80513a9e4",
   "metadata": {},
   "source": [
    "Добавим колонку, где обозначим сетевые рестораны как 1, а встречающиеся 1 раз, как 0."
   ]
  },
  {
   "cell_type": "code",
   "execution_count": 20,
   "id": "4c330910-8bb7-4611-971b-91c29d2cb4f1",
   "metadata": {},
   "outputs": [],
   "source": [
    "a1 = df.Restaurant_id.value_counts() # составим список данных по столбцу\n",
    "Net_rest = a1[a1 > 1].index.tolist() # составим список значений > 1\n",
    "df['Net_rest'] = df[df.Restaurant_id.isin(Net_rest)].Restaurant_id.apply(lambda x: 1) # создадим колонку со значениями 1 на месте сетевых ресторанов\n",
    "df.Net_rest = df['Net_rest'].fillna(0) # в созданной колонке пустые значения заменим на 0"
   ]
  },
  {
   "cell_type": "markdown",
   "id": "4350db22-769f-4ebb-a89b-1a26cf22d6af",
   "metadata": {},
   "source": [
    "#### Проверим данные"
   ]
  },
  {
   "cell_type": "code",
   "execution_count": 21,
   "id": "5255db1f-ab48-45d9-8e12-7513bede0cac",
   "metadata": {},
   "outputs": [
    {
     "name": "stdout",
     "output_type": "stream",
     "text": [
      "          count  percent\n",
      "Net_rest                \n",
      "1.0       35295  88.2375\n",
      "0.0        4705  11.7625\n",
      "Количество незаполненных значений: 0 ~ 0.0%.\n",
      "<class 'pandas.core.frame.DataFrame'>\n",
      "RangeIndex: 40000 entries, 0 to 39999\n",
      "Data columns (total 1 columns):\n",
      " #   Column    Non-Null Count  Dtype  \n",
      "---  ------    --------------  -----  \n",
      " 0   Net_rest  40000 non-null  float64\n",
      "dtypes: float64(1)\n",
      "memory usage: 312.6 KB\n"
     ]
    },
    {
     "data": {
      "image/png": "[encoded data removed]",
      "text/plain": [
       "<Figure size 640x480 with 1 Axes>"
      ]
     },
     "metadata": {},
     "output_type": "display_data"
    }
   ],
   "source": [
    "test(df, 'Net_rest')"
   ]
  },
  {
   "cell_type": "markdown",
   "id": "1dbae1bd-e8bc-4e9b-a1b1-7edc9e0b343e",
   "metadata": {},
   "source": [
    "Отметим, что сетевых ресторанов большинство (> 88%)."
   ]
  },
  {
   "cell_type": "markdown",
   "id": "662dcac0-164a-4ea2-9a8d-11e0b92617db",
   "metadata": {},
   "source": [
    "### City - город, в котором находится ресторан"
   ]
  },
  {
   "cell_type": "code",
   "execution_count": 22,
   "id": "92d5ba23-c9f8-45c7-837f-1c0db2cac09f",
   "metadata": {},
   "outputs": [
    {
     "name": "stdout",
     "output_type": "stream",
     "text": [
      "            count  percent\n",
      "City                      \n",
      "London       5757  14.3925\n",
      "Paris        4897  12.2425\n",
      "Madrid       3108   7.7700\n",
      "Barcelona    2734   6.8350\n",
      "Berlin       2155   5.3875\n",
      "Milan        2133   5.3325\n",
      "Rome         2078   5.1950\n",
      "Prague       1443   3.6075\n",
      "Lisbon       1300   3.2500\n",
      "Vienna       1166   2.9150\n",
      "Amsterdam    1086   2.7150\n",
      "Brussels     1060   2.6500\n",
      "Hamburg       949   2.3725\n",
      "Munich        893   2.2325\n",
      "Lyon          892   2.2300\n",
      "Stockholm     820   2.0500\n",
      "Budapest      816   2.0400\n",
      "Warsaw        727   1.8175\n",
      "Dublin        673   1.6825\n",
      "Copenhagen    659   1.6475\n",
      "Athens        628   1.5700\n",
      "Edinburgh     596   1.4900\n",
      "Zurich        538   1.3450\n",
      "Oporto        513   1.2825\n",
      "Geneva        481   1.2025\n",
      "Krakow        443   1.1075\n",
      "Oslo          385   0.9625\n",
      "Helsinki      376   0.9400\n",
      "Bratislava    301   0.7525\n",
      "Luxembourg    210   0.5250\n",
      "Ljubljana     183   0.4575\n",
      "Количество незаполненных значений: 0 ~ 0.0%.\n",
      "<class 'pandas.core.frame.DataFrame'>\n",
      "RangeIndex: 40000 entries, 0 to 39999\n",
      "Data columns (total 1 columns):\n",
      " #   Column  Non-Null Count  Dtype \n",
      "---  ------  --------------  ----- \n",
      " 0   City    40000 non-null  object\n",
      "dtypes: object(1)\n",
      "memory usage: 312.6+ KB\n"
     ]
    }
   ],
   "source": [
    "test(df, 'City')"
   ]
  },
  {
   "cell_type": "markdown",
   "id": "aca132ea-87ad-421f-9090-52a6a784f2ab",
   "metadata": {},
   "source": [
    "Все значения заполнены. Пропусков нет. Грамматических ошибок и неточностей в названиях городов нет."
   ]
  },
  {
   "cell_type": "markdown",
   "id": "92bb7a56-68c7-418e-9e9c-1ca4bcb34b47",
   "metadata": {},
   "source": [
    "Сделаем из этой колонки dummy- переменные."
   ]
  },
  {
   "cell_type": "code",
   "execution_count": 23,
   "id": "e459102f-8ca7-4765-b779-45224471c391",
   "metadata": {},
   "outputs": [],
   "source": [
    "df['City_new'] = df['City'] # создадим копию колонки для разбивки\n",
    "df = pd.get_dummies(df, columns = ['City_new', ], drop_first = False) # разобъём новую колонку на dummy переменные"
   ]
  },
  {
   "cell_type": "code",
   "execution_count": 24,
   "id": "02bfc77d-33cf-4fab-acf8-6f717ec0589f",
   "metadata": {},
   "outputs": [
    {
     "data": {
      "text/plain": [
       "Index(['Restaurant_id', 'City', 'Cuisine_Style', 'Ranking', 'Rating',\n",
       "       'Price_Range', 'Number_of_Reviews', 'Reviews', 'URL_TA', 'ID_TA',\n",
       "       'Net_rest', 'City_new_Amsterdam', 'City_new_Athens',\n",
       "       'City_new_Barcelona', 'City_new_Berlin', 'City_new_Bratislava',\n",
       "       'City_new_Brussels', 'City_new_Budapest', 'City_new_Copenhagen',\n",
       "       'City_new_Dublin', 'City_new_Edinburgh', 'City_new_Geneva',\n",
       "       'City_new_Hamburg', 'City_new_Helsinki', 'City_new_Krakow',\n",
       "       'City_new_Lisbon', 'City_new_Ljubljana', 'City_new_London',\n",
       "       'City_new_Luxembourg', 'City_new_Lyon', 'City_new_Madrid',\n",
       "       'City_new_Milan', 'City_new_Munich', 'City_new_Oporto', 'City_new_Oslo',\n",
       "       'City_new_Paris', 'City_new_Prague', 'City_new_Rome',\n",
       "       'City_new_Stockholm', 'City_new_Vienna', 'City_new_Warsaw',\n",
       "       'City_new_Zurich'],\n",
       "      dtype='object')"
      ]
     },
     "execution_count": 24,
     "metadata": {},
     "output_type": "execute_result"
    }
   ],
   "source": [
    "df.columns"
   ]
  },
  {
   "cell_type": "markdown",
   "id": "c83ea8f5-b0dd-48d5-b959-ba621bee25e0",
   "metadata": {},
   "source": [
    "### Cuisine Style - кухня или кухни, к которым можно отнести блюда, предлагаемые в ресторане"
   ]
  },
  {
   "cell_type": "code",
   "execution_count": 25,
   "id": "a1b710d9-fd82-4cad-9e39-12161a9dbb7c",
   "metadata": {},
   "outputs": [
    {
     "name": "stdout",
     "output_type": "stream",
     "text": [
      "                                                    count  percent\n",
      "Cuisine_Style                                                     \n",
      "['Italian']                                          1032   2.5800\n",
      "['French']                                            805   2.0125\n",
      "['Spanish']                                           695   1.7375\n",
      "['French', 'European']                                405   1.0125\n",
      "['Cafe']                                              403   1.0075\n",
      "...                                                   ...      ...\n",
      "['European', 'Spanish', 'Vegetarian Friendly', ...      1   0.0025\n",
      "['Brew Pub', 'French']                                  1   0.0025\n",
      "['Bar', 'Cafe', 'Asian', 'Pub', 'Fusion']               1   0.0025\n",
      "['European', 'Turkish', 'Greek', 'Hungarian']           1   0.0025\n",
      "['French', 'Contemporary', 'Fusion', 'Gastropub']       1   0.0025\n",
      "\n",
      "[9007 rows x 2 columns]\n",
      "Количество незаполненных значений: 9283 ~ 23.21%.\n",
      "<class 'pandas.core.frame.DataFrame'>\n",
      "RangeIndex: 40000 entries, 0 to 39999\n",
      "Data columns (total 1 columns):\n",
      " #   Column         Non-Null Count  Dtype \n",
      "---  ------         --------------  ----- \n",
      " 0   Cuisine_Style  30717 non-null  object\n",
      "dtypes: object(1)\n",
      "memory usage: 312.6+ KB\n"
     ]
    }
   ],
   "source": [
    "test(df, 'Cuisine_Style')"
   ]
  },
  {
   "cell_type": "markdown",
   "id": "83a17cdd-b6ef-48e0-bd5f-e6e9c38cb1e4",
   "metadata": {},
   "source": [
    "Данные заполнены строками. Пропусков 23%. Для разбивки строки данных на списки, необходимо заполнить строки без значений.  \n",
    "Для этого необходима обработка остальных столбцов, так что пока отложим работу с данными этого столбца."
   ]
  },
  {
   "cell_type": "code",
   "execution_count": null,
   "id": "672d661d-6642-49df-b4e2-6f53bc228c07",
   "metadata": {},
   "outputs": [],
   "source": []
  },
  {
   "cell_type": "markdown",
   "id": "7323fe0d-f5c0-4c7d-879c-292df00a9a5e",
   "metadata": {},
   "source": [
    "Найдём наиболее часто встречающийся тип кухонь для замены отсутствующих значений"
   ]
  },
  {
   "cell_type": "code",
   "execution_count": 26,
   "id": "56d3833d-87e5-4662-8393-7054a26a1362",
   "metadata": {},
   "outputs": [],
   "source": [
    "df0 = pd.read_csv('main_task.csv')\n",
    "df = df0.copy()\n",
    "df.columns = df.columns.str.replace(\" \", \"_\")\n",
    "a1 = df.Restaurant_id.value_counts() # составим список данных по столбцу\n",
    "Net_rest = a1[a1 > 1].index.tolist() # составим список значений > 1\n",
    "df['Net_rest'] = df[df.Restaurant_id.isin(Net_rest)].Restaurant_id.apply(lambda x: 1) # создадим колонку со значениями 1 на месте сетевых ресторанов\n",
    "df.Net_rest = df['Net_rest'].fillna(0) # в созданной колонке пустые значения заменим на 0"
   ]
  },
  {
   "cell_type": "code",
   "execution_count": 27,
   "id": "b6a69aef-26bb-4d8b-a791-efb303198f51",
   "metadata": {
    "tags": []
   },
   "outputs": [
    {
     "data": {
      "text/html": [
       "<div>\n",
       "<style scoped>\n",
       "    .dataframe tbody tr th:only-of-type {\n",
       "        vertical-align: middle;\n",
       "    }\n",
       "\n",
       "    .dataframe tbody tr th {\n",
       "        vertical-align: top;\n",
       "    }\n",
       "\n",
       "    .dataframe thead th {\n",
       "        text-align: right;\n",
       "    }\n",
       "</style>\n",
       "<table border=\"1\" class=\"dataframe\">\n",
       "  <thead>\n",
       "    <tr style=\"text-align: right;\">\n",
       "      <th></th>\n",
       "      <th>Restaurant_id</th>\n",
       "      <th>Cuisine_Style</th>\n",
       "      <th>Net_rest</th>\n",
       "      <th>City</th>\n",
       "    </tr>\n",
       "  </thead>\n",
       "  <tbody>\n",
       "    <tr>\n",
       "      <th>0</th>\n",
       "      <td>id_5569</td>\n",
       "      <td>['European', 'French', 'International']</td>\n",
       "      <td>1.0</td>\n",
       "      <td>Paris</td>\n",
       "    </tr>\n",
       "    <tr>\n",
       "      <th>1</th>\n",
       "      <td>id_1535</td>\n",
       "      <td>NaN</td>\n",
       "      <td>1.0</td>\n",
       "      <td>Stockholm</td>\n",
       "    </tr>\n",
       "    <tr>\n",
       "      <th>2</th>\n",
       "      <td>id_352</td>\n",
       "      <td>['Japanese', 'Sushi', 'Asian', 'Grill', 'Veget...</td>\n",
       "      <td>1.0</td>\n",
       "      <td>London</td>\n",
       "    </tr>\n",
       "    <tr>\n",
       "      <th>3</th>\n",
       "      <td>id_3456</td>\n",
       "      <td>NaN</td>\n",
       "      <td>1.0</td>\n",
       "      <td>Berlin</td>\n",
       "    </tr>\n",
       "    <tr>\n",
       "      <th>4</th>\n",
       "      <td>id_615</td>\n",
       "      <td>['German', 'Central European', 'Vegetarian Fri...</td>\n",
       "      <td>1.0</td>\n",
       "      <td>Munich</td>\n",
       "    </tr>\n",
       "  </tbody>\n",
       "</table>\n",
       "</div>"
      ],
      "text/plain": [
       "  Restaurant_id                                      Cuisine_Style  Net_rest  \\\n",
       "0       id_5569            ['European', 'French', 'International']       1.0   \n",
       "1       id_1535                                                NaN       1.0   \n",
       "2        id_352  ['Japanese', 'Sushi', 'Asian', 'Grill', 'Veget...       1.0   \n",
       "3       id_3456                                                NaN       1.0   \n",
       "4        id_615  ['German', 'Central European', 'Vegetarian Fri...       1.0   \n",
       "\n",
       "        City  \n",
       "0      Paris  \n",
       "1  Stockholm  \n",
       "2     London  \n",
       "3     Berlin  \n",
       "4     Munich  "
      ]
     },
     "execution_count": 27,
     "metadata": {},
     "output_type": "execute_result"
    }
   ],
   "source": [
    "df1 = df.loc[:, ['Restaurant_id', 'Cuisine_Style', 'Net_rest', 'City']]\n",
    "\n",
    "#df1['Cuisine_Style'] = df1['Cuisine_Style'].fillna(\"['No_Style']\") # заменяем отсутствующие значения на число для упрощения сортировки\n",
    "#df1['Cuisine_Style'] = df1['Cuisine_Style'].apply(lambda x: x[1:-1].replace(\"'\", '').split(', ')) # убираем передние и задние кавычки/ убираем кавычки и пробелы у каждого слова/ делаем список из значений\n",
    "df1.head(5)"
   ]
  },
  {
   "cell_type": "code",
   "execution_count": 28,
   "id": "7ce73690-5306-49ce-9016-adcc5d93fbd7",
   "metadata": {},
   "outputs": [
    {
     "data": {
      "text/plain": [
       "Cuisine_Style\n",
       "['Italian']                                                                               1032\n",
       "['French']                                                                                 805\n",
       "['Spanish']                                                                                695\n",
       "['French', 'European']                                                                     405\n",
       "['Cafe']                                                                                   403\n",
       "                                                                                          ... \n",
       "['European', 'Spanish', 'Vegetarian Friendly', 'Vegan Options', 'Gluten Free Options']       1\n",
       "['Brew Pub', 'French']                                                                       1\n",
       "['Bar', 'Cafe', 'Asian', 'Pub', 'Fusion']                                                    1\n",
       "['European', 'Turkish', 'Greek', 'Hungarian']                                                1\n",
       "['French', 'Contemporary', 'Fusion', 'Gastropub']                                            1\n",
       "Name: count, Length: 9007, dtype: int64"
      ]
     },
     "execution_count": 28,
     "metadata": {},
     "output_type": "execute_result"
    }
   ],
   "source": [
    "df1['Cuisine_Style'].value_counts()"
   ]
  },
  {
   "cell_type": "code",
   "execution_count": 29,
   "id": "a6fb4ac8-806e-4684-96bf-ecd7963c3696",
   "metadata": {},
   "outputs": [
    {
     "data": {
      "text/plain": [
       "City\n",
       "London        5757\n",
       "Paris         4897\n",
       "Madrid        3108\n",
       "Barcelona     2734\n",
       "Berlin        2155\n",
       "Milan         2133\n",
       "Rome          2078\n",
       "Prague        1443\n",
       "Lisbon        1300\n",
       "Vienna        1166\n",
       "Amsterdam     1086\n",
       "Brussels      1060\n",
       "Hamburg        949\n",
       "Munich         893\n",
       "Lyon           892\n",
       "Stockholm      820\n",
       "Budapest       816\n",
       "Warsaw         727\n",
       "Dublin         673\n",
       "Copenhagen     659\n",
       "Athens         628\n",
       "Edinburgh      596\n",
       "Zurich         538\n",
       "Oporto         513\n",
       "Geneva         481\n",
       "Krakow         443\n",
       "Oslo           385\n",
       "Helsinki       376\n",
       "Bratislava     301\n",
       "Luxembourg     210\n",
       "Ljubljana      183\n",
       "Name: count, dtype: int64"
      ]
     },
     "execution_count": 29,
     "metadata": {},
     "output_type": "execute_result"
    }
   ],
   "source": [
    "df1['City'].value_counts()"
   ]
  },
  {
   "cell_type": "code",
   "execution_count": 30,
   "id": "768dfb26-7a5f-4367-85d4-95e69f3b7a9a",
   "metadata": {},
   "outputs": [],
   "source": [
    "#df2 = df1[df1['Cuisine_Style']==[No_Style]]"
   ]
  },
  {
   "cell_type": "code",
   "execution_count": 31,
   "id": "c19400a9-d4e8-4d93-9914-8282e24a1e4d",
   "metadata": {},
   "outputs": [],
   "source": [
    "#df2"
   ]
  },
  {
   "cell_type": "code",
   "execution_count": 32,
   "id": "2bf0d8dd-57cb-4f32-88b0-8747c5c70b3d",
   "metadata": {},
   "outputs": [],
   "source": [
    "#df2['Net_rest'].value_counts()"
   ]
  },
  {
   "cell_type": "code",
   "execution_count": 33,
   "id": "e3fc6b8d-f39a-4704-904e-ab26e5885316",
   "metadata": {},
   "outputs": [
    {
     "data": {
      "text/html": [
       "<div>\n",
       "<style scoped>\n",
       "    .dataframe tbody tr th:only-of-type {\n",
       "        vertical-align: middle;\n",
       "    }\n",
       "\n",
       "    .dataframe tbody tr th {\n",
       "        vertical-align: top;\n",
       "    }\n",
       "\n",
       "    .dataframe thead th {\n",
       "        text-align: right;\n",
       "    }\n",
       "</style>\n",
       "<table border=\"1\" class=\"dataframe\">\n",
       "  <thead>\n",
       "    <tr style=\"text-align: right;\">\n",
       "      <th></th>\n",
       "      <th>Restaurant_id</th>\n",
       "      <th>Cuisine_Style</th>\n",
       "      <th>Net_rest</th>\n",
       "      <th>City</th>\n",
       "      <th>Temp</th>\n",
       "    </tr>\n",
       "  </thead>\n",
       "  <tbody>\n",
       "    <tr>\n",
       "      <th>0</th>\n",
       "      <td>id_5569</td>\n",
       "      <td>['European', 'French', 'International']</td>\n",
       "      <td>1.0</td>\n",
       "      <td>Paris</td>\n",
       "      <td>['French']</td>\n",
       "    </tr>\n",
       "    <tr>\n",
       "      <th>1</th>\n",
       "      <td>id_1535</td>\n",
       "      <td>['No_Style']</td>\n",
       "      <td>1.0</td>\n",
       "      <td>Stockholm</td>\n",
       "      <td>['European', 'Swedish']</td>\n",
       "    </tr>\n",
       "    <tr>\n",
       "      <th>2</th>\n",
       "      <td>id_352</td>\n",
       "      <td>['Japanese', 'Sushi', 'Asian', 'Grill', 'Veget...</td>\n",
       "      <td>1.0</td>\n",
       "      <td>London</td>\n",
       "      <td>['Bar', 'British', 'Pub']</td>\n",
       "    </tr>\n",
       "    <tr>\n",
       "      <th>3</th>\n",
       "      <td>id_3456</td>\n",
       "      <td>['No_Style']</td>\n",
       "      <td>1.0</td>\n",
       "      <td>Berlin</td>\n",
       "      <td>['Italian']</td>\n",
       "    </tr>\n",
       "    <tr>\n",
       "      <th>4</th>\n",
       "      <td>id_615</td>\n",
       "      <td>['German', 'Central European', 'Vegetarian Fri...</td>\n",
       "      <td>1.0</td>\n",
       "      <td>Munich</td>\n",
       "      <td>['Italian']</td>\n",
       "    </tr>\n",
       "    <tr>\n",
       "      <th>...</th>\n",
       "      <td>...</td>\n",
       "      <td>...</td>\n",
       "      <td>...</td>\n",
       "      <td>...</td>\n",
       "      <td>...</td>\n",
       "    </tr>\n",
       "    <tr>\n",
       "      <th>39995</th>\n",
       "      <td>id_499</td>\n",
       "      <td>['Italian', 'Vegetarian Friendly', 'Vegan Opti...</td>\n",
       "      <td>1.0</td>\n",
       "      <td>Milan</td>\n",
       "      <td>['Italian']</td>\n",
       "    </tr>\n",
       "    <tr>\n",
       "      <th>39996</th>\n",
       "      <td>id_6340</td>\n",
       "      <td>['French', 'American', 'Bar', 'European', 'Veg...</td>\n",
       "      <td>1.0</td>\n",
       "      <td>Paris</td>\n",
       "      <td>['French']</td>\n",
       "    </tr>\n",
       "    <tr>\n",
       "      <th>39997</th>\n",
       "      <td>id_1649</td>\n",
       "      <td>['Japanese', 'Sushi']</td>\n",
       "      <td>1.0</td>\n",
       "      <td>Stockholm</td>\n",
       "      <td>['European', 'Swedish']</td>\n",
       "    </tr>\n",
       "    <tr>\n",
       "      <th>39998</th>\n",
       "      <td>id_640</td>\n",
       "      <td>['Polish', 'European', 'Eastern European', 'Ce...</td>\n",
       "      <td>1.0</td>\n",
       "      <td>Warsaw</td>\n",
       "      <td>['Polish', 'European']</td>\n",
       "    </tr>\n",
       "    <tr>\n",
       "      <th>39999</th>\n",
       "      <td>id_4824</td>\n",
       "      <td>['Spanish']</td>\n",
       "      <td>1.0</td>\n",
       "      <td>Milan</td>\n",
       "      <td>['Italian']</td>\n",
       "    </tr>\n",
       "  </tbody>\n",
       "</table>\n",
       "<p>40000 rows × 5 columns</p>\n",
       "</div>"
      ],
      "text/plain": [
       "      Restaurant_id                                      Cuisine_Style  \\\n",
       "0           id_5569            ['European', 'French', 'International']   \n",
       "1           id_1535                                       ['No_Style']   \n",
       "2            id_352  ['Japanese', 'Sushi', 'Asian', 'Grill', 'Veget...   \n",
       "3           id_3456                                       ['No_Style']   \n",
       "4            id_615  ['German', 'Central European', 'Vegetarian Fri...   \n",
       "...             ...                                                ...   \n",
       "39995        id_499  ['Italian', 'Vegetarian Friendly', 'Vegan Opti...   \n",
       "39996       id_6340  ['French', 'American', 'Bar', 'European', 'Veg...   \n",
       "39997       id_1649                              ['Japanese', 'Sushi']   \n",
       "39998        id_640  ['Polish', 'European', 'Eastern European', 'Ce...   \n",
       "39999       id_4824                                        ['Spanish']   \n",
       "\n",
       "       Net_rest       City                       Temp  \n",
       "0           1.0      Paris                 ['French']  \n",
       "1           1.0  Stockholm    ['European', 'Swedish']  \n",
       "2           1.0     London  ['Bar', 'British', 'Pub']  \n",
       "3           1.0     Berlin                ['Italian']  \n",
       "4           1.0     Munich                ['Italian']  \n",
       "...         ...        ...                        ...  \n",
       "39995       1.0      Milan                ['Italian']  \n",
       "39996       1.0      Paris                 ['French']  \n",
       "39997       1.0  Stockholm    ['European', 'Swedish']  \n",
       "39998       1.0     Warsaw     ['Polish', 'European']  \n",
       "39999       1.0      Milan                ['Italian']  \n",
       "\n",
       "[40000 rows x 5 columns]"
      ]
     },
     "execution_count": 33,
     "metadata": {},
     "output_type": "execute_result"
    }
   ],
   "source": [
    "def sort_max(df, colx, coly, colz): # создадим функцию, что создаёт столбец со значениями наиболее часто встречающихся для этого города типов ресторанов\n",
    "    # где df - фрейм данных, colx - название анализируемой колонки, coly - название колонки сравнения, colz - название колонки с результатами сравнения\n",
    "    df[colz] = df.groupby(colx)[coly].transform(lambda x: x.mode()[0])\n",
    "    df[coly] = df[coly].fillna(\"['No_Style']\")\n",
    "    return df\n",
    "sort_max(df1, 'City', 'Cuisine_Style', 'Temp')"
   ]
  },
  {
   "cell_type": "code",
   "execution_count": null,
   "id": "c7e02277-7aa2-49c8-a0f4-7fdc3723798b",
   "metadata": {},
   "outputs": [],
   "source": []
  },
  {
   "cell_type": "code",
   "execution_count": 34,
   "id": "0416cb92-534e-4445-b155-4b96ede6b652",
   "metadata": {
    "tags": []
   },
   "outputs": [
    {
     "ename": "NameError",
     "evalue": "name 'No_Style' is not defined",
     "output_type": "error",
     "traceback": [
      "\u001b[1;31m---------------------------------------------------------------------------\u001b[0m",
      "\u001b[1;31mNameError\u001b[0m                                 Traceback (most recent call last)",
      "Cell \u001b[1;32mIn[34], line 1\u001b[0m\n\u001b[1;32m----> 1\u001b[0m df2 \u001b[38;5;241m=\u001b[39m df1[df1[\u001b[38;5;124m'\u001b[39m\u001b[38;5;124mCuisine_Style\u001b[39m\u001b[38;5;124m'\u001b[39m]\u001b[38;5;241m==\u001b[39mNo_Style]\n",
      "\u001b[1;31mNameError\u001b[0m: name 'No_Style' is not defined"
     ]
    }
   ],
   "source": [
    "df2 = df1[df1['Cuisine_Style']==No_Style]"
   ]
  },
  {
   "cell_type": "code",
   "execution_count": null,
   "id": "7ffdb34a-3dc2-4a65-9327-211cd27db0e2",
   "metadata": {},
   "outputs": [],
   "source": [
    "df1['Net_rest'].value_counts()"
   ]
  },
  {
   "cell_type": "markdown",
   "id": "80663270-9cfd-4295-bfd5-1b719d3bf4fa",
   "metadata": {},
   "source": [
    "### Ranking - место, которое занимает данный ресторан среди всех ресторанов своего города"
   ]
  },
  {
   "cell_type": "code",
   "execution_count": null,
   "id": "622f73aa-d49e-4104-8ffe-8fb6c8b76f33",
   "metadata": {},
   "outputs": [],
   "source": [
    "test(df, 'Ranking')"
   ]
  },
  {
   "cell_type": "markdown",
   "id": "6ecb58f0-4efe-423c-ad14-894ed8a8d727",
   "metadata": {},
   "source": [
    "Все данные заполнены, пропусков нет. Данные представлены большими числами. Для работы модели необходимо нормализовать значения."
   ]
  },
  {
   "cell_type": "code",
   "execution_count": null,
   "id": "0c290d49-83cb-4dc0-9f5c-cf761e423e74",
   "metadata": {},
   "outputs": [],
   "source": [
    "from sklearn import preprocessing\n",
    "from sklearn.preprocessing import QuantileTransformer # импортируем библиотеку со способом нормализации\n",
    "\n",
    "scaler = preprocessing.QuantileTransformer()\n",
    "float_array = df['Ranking'].values.astype(float).reshape(-1 , 1) # создаём список из столбца\n",
    "df['Ranking'] = scaler.fit_transform(float_array) # заменим данные в столбце на нормализованные\n",
    "\n",
    "df.head() # проверим изменения"
   ]
  },
  {
   "cell_type": "markdown",
   "id": "2fd222b8-12a9-47e6-a501-32f529039f45",
   "metadata": {},
   "source": [
    "### Rating - рейтинг ресторана по данным TripAdvisor (именно это значение должна была предсказывать модель)"
   ]
  },
  {
   "cell_type": "code",
   "execution_count": null,
   "id": "9c08a299-fa3c-49e6-b075-855b972c1196",
   "metadata": {},
   "outputs": [],
   "source": [
    "test(df, 'Rating')"
   ]
  },
  {
   "cell_type": "markdown",
   "id": "2a542891-7cae-45cb-9849-1dcf357c440e",
   "metadata": {},
   "source": [
    "Пропусков нет. Данные введены корректно и без ошибок - значения распределены от 1 до 5 с шагом 0.5. Оставляем эти данные без изменений."
   ]
  },
  {
   "cell_type": "markdown",
   "id": "fce464bb-8dd6-4e82-9f5b-756ac2214a27",
   "metadata": {},
   "source": [
    "### Price Range - диапазон цен в ресторане"
   ]
  },
  {
   "cell_type": "code",
   "execution_count": null,
   "id": "093c59e7-0eee-4600-895a-953e6c5d01e9",
   "metadata": {},
   "outputs": [],
   "source": [
    "test(df, 'Price_Range')"
   ]
  },
  {
   "cell_type": "markdown",
   "id": "b5583511-3303-476a-9aff-3a7e0e2709ce",
   "metadata": {},
   "source": [
    "Пропусков достаточно много - почти 35%. Данные распределены без выбросов. Ошибок в данных нет."
   ]
  },
  {
   "cell_type": "markdown",
   "id": "3344e2aa-9f7e-47c0-8beb-582390e8bf2d",
   "metadata": {},
   "source": [
    "Данные заменим на числовые, согласно величине диапазона."
   ]
  },
  {
   "cell_type": "code",
   "execution_count": null,
   "id": "a6962f39-ae02-4108-9de2-5e2e7afa29d1",
   "metadata": {},
   "outputs": [],
   "source": [
    "price_dict = {'$': 1, '$$ - $$$': 2, '$$$$': 3} # создадим словарь для преобразования значений уровня цен\n",
    "df['Price_Range'].replace(price_dict, inplace=True) # заменим значения в колонке"
   ]
  },
  {
   "cell_type": "markdown",
   "id": "855f36d4-1f47-499f-9c0c-acace1ee9cd1",
   "metadata": {},
   "source": [
    "Заполним пропущенные значения. Эти данные должны перекликаться с расположением ресторана (т.к. в более населённых городах цены выше)  \n",
    "и принадлежностью ресторана к сети (т.к. в сетевых ресторанах цены устанавливаются по своим схемам).\n",
    "Наиболее населённым считаем город с большим количеством ресторанов."
   ]
  },
  {
   "cell_type": "code",
   "execution_count": null,
   "id": "6d236dca-6147-4896-afac-52d0612ed8f9",
   "metadata": {},
   "outputs": [],
   "source": [
    "test(df, 'Price_Range')"
   ]
  },
  {
   "cell_type": "code",
   "execution_count": null,
   "id": "65ca833a-09af-46aa-bec6-f1ac74a9cca2",
   "metadata": {},
   "outputs": [],
   "source": [
    "# удалить столбцы, содержащие данные типа object\n",
    "# заполнить пропущенные значения нулём или средним арифметическим\n",
    "#df1 = df.drop([col for col in df.columns if df[col].dtype == 'O'],axis=1)\n",
    "df1 = df.drop(df.select_dtypes(include=['object']), axis = 1)\n",
    "df1 = df1.fillna(df1.mean())\n",
    "df1.head()"
   ]
  },
  {
   "cell_type": "code",
   "execution_count": null,
   "id": "519de870-7bd9-4d70-aad4-4e63b710f70a",
   "metadata": {},
   "outputs": [],
   "source": [
    "df1.info()"
   ]
  },
  {
   "cell_type": "code",
   "execution_count": null,
   "id": "ac40b540-1d1d-4797-8c12-a8390f1689bf",
   "metadata": {},
   "outputs": [],
   "source": [
    "df['City'].dtype"
   ]
  },
  {
   "cell_type": "markdown",
   "id": "3735a78c-0778-4175-a7f1-7d74d871182c",
   "metadata": {},
   "source": [
    "# Разбиваем датафрейм на части, необходимые для обучения и тестирования модели"
   ]
  },
  {
   "cell_type": "code",
   "execution_count": null,
   "id": "5cde9ca8-94ac-4f2e-a194-b050b582d941",
   "metadata": {},
   "outputs": [],
   "source": [
    "# Х - данные с информацией о ресторанах, у - целевая переменная (рейтинги ресторанов)\n",
    "X = df1.drop('Rating', axis = 1)\n",
    "y = df1['Rating']"
   ]
  },
  {
   "cell_type": "code",
   "execution_count": null,
   "id": "657ae47c-91e9-4edb-a611-a9cfda00015b",
   "metadata": {},
   "outputs": [],
   "source": [
    "# Загружаем специальный инструмент для разбивки:\n",
    "from sklearn.model_selection import train_test_split"
   ]
  },
  {
   "cell_type": "code",
   "execution_count": null,
   "id": "d7c55dd5-246b-471b-b131-f1dce7ed9893",
   "metadata": {},
   "outputs": [],
   "source": [
    "# Наборы данных с меткой \"train\" будут использоваться для обучения модели, \"test\" - для тестирования.\n",
    "# Для тестирования мы будем использовать 25% от исходного датасета.\n",
    "X_train, X_test, y_train, y_test = train_test_split(X, y, test_size=0.25)"
   ]
  },
  {
   "cell_type": "markdown",
   "id": "84b8cdb5-27a0-4e0a-b372-7bc980b34c40",
   "metadata": {},
   "source": [
    "# Создаём, обучаем и тестируем модель"
   ]
  },
  {
   "cell_type": "code",
   "execution_count": null,
   "id": "6cd2b1d0-f28b-4866-bc19-f11912e11f03",
   "metadata": {},
   "outputs": [],
   "source": [
    "# Импортируем необходимые библиотеки:\n",
    "from sklearn.ensemble import RandomForestRegressor # инструмент для создания и обучения модели\n",
    "from sklearn import metrics # инструменты для оценки точности модели"
   ]
  },
  {
   "cell_type": "code",
   "execution_count": null,
   "id": "bdf5fd00-2e42-4ceb-94b6-8f9f1f570498",
   "metadata": {
    "tags": []
   },
   "outputs": [],
   "source": [
    "# Создаём модель\n",
    "regr = RandomForestRegressor(n_estimators=100)\n",
    "\n",
    "# Обучаем модель на тестовом наборе данных\n",
    "regr.fit(X_train, y_train)\n",
    "\n",
    "# Используем обученную модель для предсказания рейтинга ресторанов в тестовой выборке.\n",
    "# Предсказанные значения записываем в переменную y_pred\n",
    "y_pred = regr.predict(X_test)"
   ]
  },
  {
   "cell_type": "code",
   "execution_count": null,
   "id": "70fa6b5a-bbc0-4724-b060-bbaa72d83c61",
   "metadata": {},
   "outputs": [],
   "source": [
    "# Сравниваем предсказанные значения (y_pred) с реальными (y_test), и смотрим насколько они в среднем отличаются\n",
    "# Метрика называется Mean Absolute Error (MAE) и показывает среднее отклонение предсказанных значений от фактических.\n",
    "print('MAE:', round(metrics.mean_absolute_error(y_test, y_pred), 4)*100, '%')"
   ]
  },
  {
   "cell_type": "code",
   "execution_count": null,
   "id": "3bb062fd-d14f-4d78-84f6-d6d114b1b50a",
   "metadata": {
    "tags": []
   },
   "outputs": [],
   "source": [
    "df"
   ]
  }
 ],
 "metadata": {
  "kernelspec": {
   "display_name": "Python 3 (ipykernel)",
   "language": "python",
   "name": "python3"
  },
  "language_info": {
   "codemirror_mode": {
    "name": "ipython",
    "version": 3
   },
   "file_extension": ".py",
   "mimetype": "text/x-python",
   "name": "python",
   "nbconvert_exporter": "python",
   "pygments_lexer": "ipython3",
   "version": "3.11.4"
  }
 },
 "nbformat": 4,
 "nbformat_minor": 5
}
