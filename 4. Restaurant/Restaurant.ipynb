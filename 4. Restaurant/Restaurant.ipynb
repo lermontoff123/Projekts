{
 "cells": [
  {
   "cell_type": "markdown",
   "id": "06470954-750b-41d9-bef2-14a17e20890f",
   "metadata": {},
   "source": [
    "## Подготовительные упражнения к проекту"
   ]
  },
  {
   "cell_type": "code",
   "execution_count": 1,
   "id": "f09c2942-f677-4224-8256-5acaeda8bd86",
   "metadata": {},
   "outputs": [],
   "source": [
    "import pandas as pd\n",
    "import re\n",
    "import datetime"
   ]
  },
  {
   "cell_type": "code",
   "execution_count": 2,
   "id": "479c33e9-c97e-4523-8fbf-8e490dc692a6",
   "metadata": {},
   "outputs": [],
   "source": [
    "df0 = pd.read_csv('main_task.csv')\n",
    "df = df0.copy()"
   ]
  },
  {
   "cell_type": "code",
   "execution_count": 3,
   "id": "aecdfd58-f33e-4cad-891e-e7a09d43d46d",
   "metadata": {},
   "outputs": [
    {
     "data": {
      "text/plain": [
       "3"
      ]
     },
     "execution_count": 3,
     "metadata": {},
     "output_type": "execute_result"
    }
   ],
   "source": [
    "# сколько вариантов непустых значений в столбце Price Range\n",
    "b = df['Price Range'].value_counts()\n",
    "len(b)"
   ]
  },
  {
   "cell_type": "code",
   "execution_count": 4,
   "id": "7ebd8fcb-6148-4826-a709-a008415d9fe5",
   "metadata": {},
   "outputs": [
    {
     "data": {
      "text/plain": [
       "18412"
      ]
     },
     "execution_count": 4,
     "metadata": {},
     "output_type": "execute_result"
    }
   ],
   "source": [
    "# сколько средних значений\n",
    "b['$$ - $$$']"
   ]
  },
  {
   "cell_type": "code",
   "execution_count": 5,
   "id": "daf7cf97-cde3-4f57-8f05-90ecd15fe095",
   "metadata": {},
   "outputs": [
    {
     "data": {
      "text/plain": [
       "31"
      ]
     },
     "execution_count": 5,
     "metadata": {},
     "output_type": "execute_result"
    }
   ],
   "source": [
    "# сколько городов\n",
    "len(df['City'].value_counts())"
   ]
  },
  {
   "cell_type": "code",
   "execution_count": 6,
   "id": "0b79f6bd-e438-4ce3-95bc-037633de114b",
   "metadata": {},
   "outputs": [
    {
     "data": {
      "text/plain": [
       "125"
      ]
     },
     "execution_count": 6,
     "metadata": {},
     "output_type": "execute_result"
    }
   ],
   "source": [
    "# сколько типов кухонь -- разбить и посчитать\n",
    "df1 = df.loc[:, ['Restaurant_id', 'Cuisine Style']]\n",
    "df1 = df1.dropna()\n",
    "df1['Cuisine Style'] = df1['Cuisine Style'].apply(lambda x: x[1:-1].replace(\"'\", '').split(', ')) # убираем передние и задние кавычки/ убираем кавычки у каждого слова/ делаем список из значений\n",
    "cuisine = df1['Cuisine Style'].explode().value_counts() # разбиваем по кухням/ считаем количество упоминаний каждой/ считаем количество разных кухонь\n",
    "cuisine.count() # считаем количество разных кухонь"
   ]
  },
  {
   "cell_type": "code",
   "execution_count": 7,
   "id": "57e73ba1-5349-47c5-a656-ef2bf712c4d4",
   "metadata": {},
   "outputs": [
    {
     "name": "stdout",
     "output_type": "stream",
     "text": [
      "Vegetarian Friendly\n"
     ]
    }
   ],
   "source": [
    "# какая кухня наиболее часто встречается\n",
    "print(cuisine.index[0])"
   ]
  },
  {
   "cell_type": "code",
   "execution_count": 8,
   "id": "732b3b68-3264-4acd-90cb-791cbebe773b",
   "metadata": {},
   "outputs": [
    {
     "data": {
      "text/plain": [
       "2.6"
      ]
     },
     "execution_count": 8,
     "metadata": {},
     "output_type": "execute_result"
    }
   ],
   "source": [
    "# среднее количество кухонь на 1 ресторан. Если NaN, то 1. Округлить до 1\n",
    "df2 = df.loc[:, ['Restaurant_id', 'Cuisine Style']] # выбираем 2 колонки - рестораны и кухни\n",
    "df2.loc[:, 'Cuisine Style'].fillna('1', inplace = True) # заменяем отсутствующие значения любой строкой \n",
    "# убираем передние и задние кавычки/ убираем кавычки у каждого слова/ делаем список из значений/ считаем количество кухонь в ресторане\n",
    "df2['Cuisine Style'] = df2.loc[:, 'Cuisine Style'].apply(lambda x: len(x[1:-1].replace(\"'\", '').split(', ')))\n",
    "round(df2['Cuisine Style'].mean(), 1) # считаем среднее значение количества кухонь по столбцу/ округляем до 1"
   ]
  },
  {
   "cell_type": "code",
   "execution_count": 9,
   "id": "960986be-00d8-427a-9c06-7dbcdc92e830",
   "metadata": {},
   "outputs": [
    {
     "name": "stdout",
     "output_type": "stream",
     "text": [
      "2018-02-26\n"
     ]
    }
   ],
   "source": [
    "# самый ранний отзыв\n",
    "df3 = df.loc[:, 'Reviews'] # выбираем столбец с отзывами\n",
    "df3 = df3.apply(lambda x: re.findall(r'\\d{2}/\\d{2}/\\d{4}', x)) # выбираем даты отзывов\n",
    "df3 = df3[df3.astype(bool)] # убираем пустые списки\n",
    "df3 = df3.apply(lambda x: x[0]) # выбираем первую дату\n",
    "df3 = pd.to_datetime(df3, format=\"%m/%d/%Y\") # переводим данные столбца в формат даты\n",
    "print(df3.max().date()) # находим последнюю дату"
   ]
  },
  {
   "cell_type": "code",
   "execution_count": 10,
   "id": "77ead9e0-4384-452c-83e7-bcf85435c936",
   "metadata": {},
   "outputs": [
    {
     "name": "stdout",
     "output_type": "stream",
     "text": [
      "3207 days 00:00:00\n"
     ]
    }
   ],
   "source": [
    "# макс. количество дней между отзывами\n",
    "df4 = df.loc[:, ['Restaurant_id', 'Reviews']] # выбираем столбец с отзывами\n",
    "df4['Reviews'] = df4.loc[:, 'Reviews'].map(lambda x: re.findall(r'\\d{2}/\\d{2}/\\d{4}', x)) # выбираем даты отзывов\n",
    "df4 = df4[df4['Reviews'].apply(len) > 0] # удаляем пустые списки\n",
    "df4['a'] = df4['Reviews'].apply(lambda x: x[0]) # создаём столбец с последней датой\n",
    "df4['b'] = df4['Reviews'].apply(lambda x: x[-1]) # создаём столбец с предпоследней датой\n",
    "df4['a'] = pd.to_datetime(df4['a'], format=\"%m/%d/%Y\") # переводим данные столбца a в формат даты\n",
    "df4['b'] = pd.to_datetime(df4['b'], format=\"%m/%d/%Y\") # переводим данные столбца b в формат даты\n",
    "df4['c'] = df4.a - df4.b # создаём столбец с разницей между отзывами\n",
    "print(df4['c'].max()) # находим максимальной разницей"
   ]
  },
  {
   "cell_type": "markdown",
   "id": "501df1ef-fada-4144-8b4f-21f55804ee9e",
   "metadata": {},
   "source": [
    "## Содержание фрейма"
   ]
  },
  {
   "cell_type": "markdown",
   "id": "402eaa98-cc03-4747-9539-2716f6e9e3e3",
   "metadata": {},
   "source": [
    "**Restaurant_id** - идентификационный номер ресторана / сети ресторанов  \n",
    "**City** - город, в котором находится ресторан  \n",
    "**Cuisine Style** - кухня или кухни, к которым можно отнести блюда, предлагаемые в ресторане  \n",
    "**Ranking** - место, которое занимает данный ресторан среди всех ресторанов своего города  \n",
    "**Rating** - рейтинг ресторана по данным TripAdvisor (именно это значение должна была предсказывать модель)  \n",
    "**Price Range** - диапазон цен в ресторане  \n",
    "**Number of Reviews** - количетво отзывов в ресторане  \n",
    "**Reviews** - данные о двух отзывах, которые отображаются на сайте ресторана  \n",
    "**URL_TA** - URL страницы ресторана на TripAdvisor  \n",
    "**ID_TA** - идентификатор ресторана в базе данных TripAdvisor"
   ]
  },
  {
   "cell_type": "markdown",
   "id": "601cf06d-7715-4b74-8628-9e4eb73c9b88",
   "metadata": {},
   "source": [
    "## Загрузка Pandas и очистка данных"
   ]
  },
  {
   "cell_type": "code",
   "execution_count": 11,
   "id": "5a6543c1-3542-476f-ad40-ea3746c0ba9a",
   "metadata": {},
   "outputs": [
    {
     "name": "stdout",
     "output_type": "stream",
     "text": [
      "<class 'pandas.core.frame.DataFrame'>\n",
      "RangeIndex: 40000 entries, 0 to 39999\n",
      "Data columns (total 10 columns):\n",
      " #   Column             Non-Null Count  Dtype  \n",
      "---  ------             --------------  -----  \n",
      " 0   Restaurant_id      40000 non-null  object \n",
      " 1   City               40000 non-null  object \n",
      " 2   Cuisine Style      30717 non-null  object \n",
      " 3   Ranking            40000 non-null  float64\n",
      " 4   Rating             40000 non-null  float64\n",
      " 5   Price Range        26114 non-null  object \n",
      " 6   Number of Reviews  37457 non-null  float64\n",
      " 7   Reviews            40000 non-null  object \n",
      " 8   URL_TA             40000 non-null  object \n",
      " 9   ID_TA              40000 non-null  object \n",
      "dtypes: float64(3), object(7)\n",
      "memory usage: 3.1+ MB\n"
     ]
    }
   ],
   "source": [
    "df.info()"
   ]
  },
  {
   "cell_type": "code",
   "execution_count": 12,
   "id": "d35cfcd9-f356-460d-8745-e9e5ed4415ab",
   "metadata": {},
   "outputs": [
    {
     "data": {
      "text/plain": [
       "Restaurant_id            0\n",
       "City                     0\n",
       "Cuisine Style         9283\n",
       "Ranking                  0\n",
       "Rating                   0\n",
       "Price Range          13886\n",
       "Number of Reviews     2543\n",
       "Reviews                  0\n",
       "URL_TA                   0\n",
       "ID_TA                    0\n",
       "dtype: int64"
      ]
     },
     "execution_count": 12,
     "metadata": {},
     "output_type": "execute_result"
    }
   ],
   "source": [
    "# количество пропущенных значений в каждом столбце\n",
    "df.isnull().sum()"
   ]
  },
  {
   "cell_type": "markdown",
   "id": "467dfec3-5b99-4ed5-80ac-7457b11c20d6",
   "metadata": {},
   "source": [
    "В целевой переменной Rating нет пропущенных значений, поэтому предобработка выполняется только в переименовании названий столбцов для удобства."
   ]
  },
  {
   "cell_type": "markdown",
   "id": "432d9cae-c729-454b-b646-6b7971741c71",
   "metadata": {},
   "source": [
    "Заменим в названиях колонок пробелы подчёркиванием."
   ]
  },
  {
   "cell_type": "code",
   "execution_count": 13,
   "id": "f906aa3f-a4d4-42eb-a147-c606cb8790ac",
   "metadata": {},
   "outputs": [],
   "source": [
    "df.columns = df.columns.str.replace(\" \", \"_\")"
   ]
  },
  {
   "cell_type": "code",
   "execution_count": 14,
   "id": "b4f046d4-e42e-4c15-9424-a785d713599d",
   "metadata": {},
   "outputs": [
    {
     "data": {
      "text/html": [
       "<div>\n",
       "<style scoped>\n",
       "    .dataframe tbody tr th:only-of-type {\n",
       "        vertical-align: middle;\n",
       "    }\n",
       "\n",
       "    .dataframe tbody tr th {\n",
       "        vertical-align: top;\n",
       "    }\n",
       "\n",
       "    .dataframe thead th {\n",
       "        text-align: right;\n",
       "    }\n",
       "</style>\n",
       "<table border=\"1\" class=\"dataframe\">\n",
       "  <thead>\n",
       "    <tr style=\"text-align: right;\">\n",
       "      <th></th>\n",
       "      <th>Restaurant_id</th>\n",
       "      <th>City</th>\n",
       "      <th>Cuisine_Style</th>\n",
       "      <th>Ranking</th>\n",
       "      <th>Rating</th>\n",
       "      <th>Price_Range</th>\n",
       "      <th>Number_of_Reviews</th>\n",
       "      <th>Reviews</th>\n",
       "      <th>URL_TA</th>\n",
       "      <th>ID_TA</th>\n",
       "    </tr>\n",
       "  </thead>\n",
       "  <tbody>\n",
       "    <tr>\n",
       "      <th>0</th>\n",
       "      <td>id_5569</td>\n",
       "      <td>Paris</td>\n",
       "      <td>['European', 'French', 'International']</td>\n",
       "      <td>5570.0</td>\n",
       "      <td>3.5</td>\n",
       "      <td>$$ - $$$</td>\n",
       "      <td>194.0</td>\n",
       "      <td>[['Good food at your doorstep', 'A good hotel ...</td>\n",
       "      <td>/Restaurant_Review-g187147-d1912643-Reviews-R_...</td>\n",
       "      <td>d1912643</td>\n",
       "    </tr>\n",
       "    <tr>\n",
       "      <th>1</th>\n",
       "      <td>id_1535</td>\n",
       "      <td>Stockholm</td>\n",
       "      <td>NaN</td>\n",
       "      <td>1537.0</td>\n",
       "      <td>4.0</td>\n",
       "      <td>NaN</td>\n",
       "      <td>10.0</td>\n",
       "      <td>[['Unique cuisine', 'Delicious Nepalese food']...</td>\n",
       "      <td>/Restaurant_Review-g189852-d7992032-Reviews-Bu...</td>\n",
       "      <td>d7992032</td>\n",
       "    </tr>\n",
       "    <tr>\n",
       "      <th>2</th>\n",
       "      <td>id_352</td>\n",
       "      <td>London</td>\n",
       "      <td>['Japanese', 'Sushi', 'Asian', 'Grill', 'Veget...</td>\n",
       "      <td>353.0</td>\n",
       "      <td>4.5</td>\n",
       "      <td>$$$$</td>\n",
       "      <td>688.0</td>\n",
       "      <td>[['Catch up with friends', 'Not exceptional'],...</td>\n",
       "      <td>/Restaurant_Review-g186338-d8632781-Reviews-RO...</td>\n",
       "      <td>d8632781</td>\n",
       "    </tr>\n",
       "    <tr>\n",
       "      <th>3</th>\n",
       "      <td>id_3456</td>\n",
       "      <td>Berlin</td>\n",
       "      <td>NaN</td>\n",
       "      <td>3458.0</td>\n",
       "      <td>5.0</td>\n",
       "      <td>NaN</td>\n",
       "      <td>3.0</td>\n",
       "      <td>[[], []]</td>\n",
       "      <td>/Restaurant_Review-g187323-d1358776-Reviews-Es...</td>\n",
       "      <td>d1358776</td>\n",
       "    </tr>\n",
       "    <tr>\n",
       "      <th>4</th>\n",
       "      <td>id_615</td>\n",
       "      <td>Munich</td>\n",
       "      <td>['German', 'Central European', 'Vegetarian Fri...</td>\n",
       "      <td>621.0</td>\n",
       "      <td>4.0</td>\n",
       "      <td>$$ - $$$</td>\n",
       "      <td>84.0</td>\n",
       "      <td>[['Best place to try a Bavarian food', 'Nice b...</td>\n",
       "      <td>/Restaurant_Review-g187309-d6864963-Reviews-Au...</td>\n",
       "      <td>d6864963</td>\n",
       "    </tr>\n",
       "  </tbody>\n",
       "</table>\n",
       "</div>"
      ],
      "text/plain": [
       "  Restaurant_id       City                                      Cuisine_Style  \\\n",
       "0       id_5569      Paris            ['European', 'French', 'International']   \n",
       "1       id_1535  Stockholm                                                NaN   \n",
       "2        id_352     London  ['Japanese', 'Sushi', 'Asian', 'Grill', 'Veget...   \n",
       "3       id_3456     Berlin                                                NaN   \n",
       "4        id_615     Munich  ['German', 'Central European', 'Vegetarian Fri...   \n",
       "\n",
       "   Ranking  Rating Price_Range  Number_of_Reviews  \\\n",
       "0   5570.0     3.5    $$ - $$$              194.0   \n",
       "1   1537.0     4.0         NaN               10.0   \n",
       "2    353.0     4.5        $$$$              688.0   \n",
       "3   3458.0     5.0         NaN                3.0   \n",
       "4    621.0     4.0    $$ - $$$               84.0   \n",
       "\n",
       "                                             Reviews  \\\n",
       "0  [['Good food at your doorstep', 'A good hotel ...   \n",
       "1  [['Unique cuisine', 'Delicious Nepalese food']...   \n",
       "2  [['Catch up with friends', 'Not exceptional'],...   \n",
       "3                                           [[], []]   \n",
       "4  [['Best place to try a Bavarian food', 'Nice b...   \n",
       "\n",
       "                                              URL_TA     ID_TA  \n",
       "0  /Restaurant_Review-g187147-d1912643-Reviews-R_...  d1912643  \n",
       "1  /Restaurant_Review-g189852-d7992032-Reviews-Bu...  d7992032  \n",
       "2  /Restaurant_Review-g186338-d8632781-Reviews-RO...  d8632781  \n",
       "3  /Restaurant_Review-g187323-d1358776-Reviews-Es...  d1358776  \n",
       "4  /Restaurant_Review-g187309-d6864963-Reviews-Au...  d6864963  "
      ]
     },
     "execution_count": 14,
     "metadata": {},
     "output_type": "execute_result"
    }
   ],
   "source": [
    "df.head()"
   ]
  },
  {
   "cell_type": "markdown",
   "id": "d7cba07c-87fe-4b11-bb16-cb12ef53c7d3",
   "metadata": {},
   "source": [
    "## Напишем функции для обработки данных"
   ]
  },
  {
   "cell_type": "code",
   "execution_count": 15,
   "id": "e15c0eb0-943f-4ff9-a520-c4f2c449d661",
   "metadata": {},
   "outputs": [],
   "source": [
    "# составим функцию для вывода начальных данных\n",
    "def test(df, colx):\n",
    "    # где df - фрейм данных, colx - название анализируемой колонки\n",
    "    dfx = df[colx]\n",
    "    a1 = pd.DataFrame(dfx.value_counts()) # создание таблицы с данными по столбцу\n",
    "    a1['percent'] = round((a1[colx] * 100 / len(df)), 5) # создание таблицы с процентным соотношением данных по столбцу\n",
    "    b1 = round(abs(len(df) - a1[colx].sum()), 2) # вычисляем количество незаполненных данных\n",
    "    c1 = round(abs(100 - a1.percent.sum()), 2) # вычисляем процент незаполненных данных\n",
    "    print(a1), print(f'Количество незаполненных значений: {b1} ~ {c1}%.'), df.loc[:, [colx]].info()\n",
    "    if dfx.dtypes != 'O': # если столбец числовой, строим гистограмму распределения\n",
    "        dfx.hist()\n",
    "# составим функцию для обработки данных\n",
    "def objekt(df, colx): # функция для замены отсутствующих значений на наиболее часто встречающиеся или,\n",
    "    # при небольшой разнице в количестве значений, на любое из двух наиболее часто встречающихся.\n",
    "    # где df - фрейм данных, colx - название анализируемой колонки\n",
    "    dfx = df[colx]\n",
    "    a = pd.DataFrame(dfx.value_counts())\n",
    "    a['percent'] = round((a[colx] * 100 / len(df)), 2)\n",
    "    u = a.percent.values[0] - a.percent.values[1]\n",
    "    u1 = [a.index[0], a.index[1]]\n",
    "    if dfx.dtypes == 'O' and u > 15:\n",
    "    # заполнение строковых столбцов: когда строковые столбцы имеют пропущенные значения и значения NaN\n",
    "        dfx.fillna(dfx.mode().values[0], inplace = True)\n",
    "    elif dfx.dtypes == 'O' and u <= 15:\n",
    "        dfx.fillna(random.choice(u1), inplace = True)\n",
    "    # заполнение числовых столбцов: когда числовые столбцы имеют пропущенные значения и значения NaN\n",
    "    elif dfx.dtypes != 'O' and u > 15:\n",
    "        dfx.fillna(dfx.value_counts().index[0], inplace = True)\n",
    "    else:\n",
    "        dfx.fillna(random.choice(u1), inplace = True)\n",
    "    b = pd.DataFrame(dfx.value_counts()) # создание таблицы с данными по столбцу\n",
    "    b['percent'] = round((b[colx] * 100 / len(df)), 2) # создание таблицы с процентным соотношением данных по столбцу\n",
    "    return b\n",
    "def get_boxplot(df, colx, coly, n): # построение графиков сравнения\n",
    "    # где df - фрейм данных, colx - название анализируемой колонки, coly - название колонки для сравнения, n - выборка\n",
    "    fig, ax = plt.subplots(figsize = (14, 4))\n",
    "    sns.boxplot(x = colx, y = coly,\n",
    "            data = df.loc[df.loc[:, colx].isin(df.loc[:, colx].value_counts().index[:n])],\n",
    "            ax = ax)\n",
    "    plt.xticks(rotation = 45)\n",
    "    ax.set_title('Boxplot for ' + colx)\n",
    "    plt.show()"
   ]
  },
  {
   "cell_type": "markdown",
   "id": "aaf08297-9cec-4e50-8651-29ff0c403b3f",
   "metadata": {},
   "source": [
    "## Рассмотрим подробнее каждый столбец"
   ]
  },
  {
   "cell_type": "markdown",
   "id": "49c858bb-bec2-468d-b435-32377f48de6d",
   "metadata": {},
   "source": [
    "### Restaurant_id - идентификационный номер ресторана / сети ресторанов"
   ]
  },
  {
   "cell_type": "code",
   "execution_count": 16,
   "id": "859f32d7-53e0-4f4f-9ca0-149fed46ceba",
   "metadata": {},
   "outputs": [
    {
     "name": "stdout",
     "output_type": "stream",
     "text": [
      "          Restaurant_id  percent\n",
      "id_871               18   0.0450\n",
      "id_436               18   0.0450\n",
      "id_227               18   0.0450\n",
      "id_633               18   0.0450\n",
      "id_321               17   0.0425\n",
      "...                 ...      ...\n",
      "id_11542              1   0.0025\n",
      "id_6574               1   0.0025\n",
      "id_15869              1   0.0025\n",
      "id_14510              1   0.0025\n",
      "id_11004              1   0.0025\n",
      "\n",
      "[11909 rows x 2 columns]\n",
      "Количество незаполненных значений: 0 ~ 0.0%.\n",
      "<class 'pandas.core.frame.DataFrame'>\n",
      "RangeIndex: 40000 entries, 0 to 39999\n",
      "Data columns (total 1 columns):\n",
      " #   Column         Non-Null Count  Dtype \n",
      "---  ------         --------------  ----- \n",
      " 0   Restaurant_id  40000 non-null  object\n",
      "dtypes: object(1)\n",
      "memory usage: 312.6+ KB\n"
     ]
    }
   ],
   "source": [
    "test(df, 'Restaurant_id')"
   ]
  },
  {
   "cell_type": "markdown",
   "id": "55c94b6a-1b32-452e-bd2f-64269fea5d75",
   "metadata": {},
   "source": [
    "Пропущенных значений нет. Есть преобладающие значения, но это, возможно, рестораны одной сети."
   ]
  },
  {
   "cell_type": "markdown",
   "id": "25c140c2-e2cd-412b-bb7b-07c80513a9e4",
   "metadata": {},
   "source": [
    "Добавим колонку, где обозначим сетевые рестораны как 1, а встречающиеся 1 раз, как 0."
   ]
  },
  {
   "cell_type": "code",
   "execution_count": 17,
   "id": "4c330910-8bb7-4611-971b-91c29d2cb4f1",
   "metadata": {},
   "outputs": [],
   "source": [
    "a1 = df.Restaurant_id.value_counts() # составим список данных по столбцу\n",
    "Net_rest = a1[a1 > 1].index.tolist() # составим список значений > 1\n",
    "df['Net_rest'] = df[df.Restaurant_id.isin(Net_rest)].Restaurant_id.apply(lambda x: 1) # создадим колонку со значениями 1 на месте сетевых ресторанов\n",
    "df.Net_rest = df['Net_rest'].fillna(0) # в созданной колонке пустые значения заменим на 0"
   ]
  },
  {
   "cell_type": "markdown",
   "id": "4350db22-769f-4ebb-a89b-1a26cf22d6af",
   "metadata": {},
   "source": [
    "#### Проверим данные"
   ]
  },
  {
   "cell_type": "code",
   "execution_count": 18,
   "id": "5255db1f-ab48-45d9-8e12-7513bede0cac",
   "metadata": {},
   "outputs": [
    {
     "name": "stdout",
     "output_type": "stream",
     "text": [
      "     Net_rest  percent\n",
      "1.0     35295  88.2375\n",
      "0.0      4705  11.7625\n",
      "Количество незаполненных значений: 0 ~ 0.0%.\n",
      "<class 'pandas.core.frame.DataFrame'>\n",
      "RangeIndex: 40000 entries, 0 to 39999\n",
      "Data columns (total 1 columns):\n",
      " #   Column    Non-Null Count  Dtype  \n",
      "---  ------    --------------  -----  \n",
      " 0   Net_rest  40000 non-null  float64\n",
      "dtypes: float64(1)\n",
      "memory usage: 312.6 KB\n"
     ]
    },
    {
     "data": {
      "image/png": "[encoded data removed]",
      "text/plain": [
       "<Figure size 432x288 with 1 Axes>"
      ]
     },
     "metadata": {
      "needs_background": "light"
     },
     "output_type": "display_data"
    }
   ],
   "source": [
    "test(df, 'Net_rest')"
   ]
  },
  {
   "cell_type": "markdown",
   "id": "1dbae1bd-e8bc-4e9b-a1b1-7edc9e0b343e",
   "metadata": {},
   "source": [
    "Отметим, что сетевых ресторанов большинство (> 88%)."
   ]
  },
  {
   "cell_type": "markdown",
   "id": "662dcac0-164a-4ea2-9a8d-11e0b92617db",
   "metadata": {},
   "source": [
    "### City - город, в котором находится ресторан"
   ]
  },
  {
   "cell_type": "code",
   "execution_count": 19,
   "id": "92d5ba23-c9f8-45c7-837f-1c0db2cac09f",
   "metadata": {},
   "outputs": [
    {
     "name": "stdout",
     "output_type": "stream",
     "text": [
      "            City  percent\n",
      "London      5757  14.3925\n",
      "Paris       4897  12.2425\n",
      "Madrid      3108   7.7700\n",
      "Barcelona   2734   6.8350\n",
      "Berlin      2155   5.3875\n",
      "Milan       2133   5.3325\n",
      "Rome        2078   5.1950\n",
      "Prague      1443   3.6075\n",
      "Lisbon      1300   3.2500\n",
      "Vienna      1166   2.9150\n",
      "Amsterdam   1086   2.7150\n",
      "Brussels    1060   2.6500\n",
      "Hamburg      949   2.3725\n",
      "Munich       893   2.2325\n",
      "Lyon         892   2.2300\n",
      "Stockholm    820   2.0500\n",
      "Budapest     816   2.0400\n",
      "Warsaw       727   1.8175\n",
      "Dublin       673   1.6825\n",
      "Copenhagen   659   1.6475\n",
      "Athens       628   1.5700\n",
      "Edinburgh    596   1.4900\n",
      "Zurich       538   1.3450\n",
      "Oporto       513   1.2825\n",
      "Geneva       481   1.2025\n",
      "Krakow       443   1.1075\n",
      "Oslo         385   0.9625\n",
      "Helsinki     376   0.9400\n",
      "Bratislava   301   0.7525\n",
      "Luxembourg   210   0.5250\n",
      "Ljubljana    183   0.4575\n",
      "Количество незаполненных значений: 0 ~ 0.0%.\n",
      "<class 'pandas.core.frame.DataFrame'>\n",
      "RangeIndex: 40000 entries, 0 to 39999\n",
      "Data columns (total 1 columns):\n",
      " #   Column  Non-Null Count  Dtype \n",
      "---  ------  --------------  ----- \n",
      " 0   City    40000 non-null  object\n",
      "dtypes: object(1)\n",
      "memory usage: 312.6+ KB\n"
     ]
    }
   ],
   "source": [
    "test(df, 'City')"
   ]
  },
  {
   "cell_type": "markdown",
   "id": "aca132ea-87ad-421f-9090-52a6a784f2ab",
   "metadata": {},
   "source": [
    "Все значения заполнены. Пропусков нет. Грамматических ошибок и неточностей в названиях городов нет."
   ]
  },
  {
   "cell_type": "markdown",
   "id": "92bb7a56-68c7-418e-9e9c-1ca4bcb34b47",
   "metadata": {},
   "source": [
    "Сделаем из этой колонки dummy- переменные."
   ]
  },
  {
   "cell_type": "code",
   "execution_count": 20,
   "id": "e459102f-8ca7-4765-b779-45224471c391",
   "metadata": {},
   "outputs": [],
   "source": [
    "df['City_new'] = df['City'] # создадим копию колонки для разбивки\n",
    "df = pd.get_dummies(df, columns = ['City_new', ], drop_first = False) # разобъём новую колонку на dummy переменные"
   ]
  },
  {
   "cell_type": "code",
   "execution_count": 21,
   "id": "02bfc77d-33cf-4fab-acf8-6f717ec0589f",
   "metadata": {},
   "outputs": [
    {
     "data": {
      "text/plain": [
       "Index(['Restaurant_id', 'City', 'Cuisine_Style', 'Ranking', 'Rating',\n",
       "       'Price_Range', 'Number_of_Reviews', 'Reviews', 'URL_TA', 'ID_TA',\n",
       "       'Net_rest', 'City_new_Amsterdam', 'City_new_Athens',\n",
       "       'City_new_Barcelona', 'City_new_Berlin', 'City_new_Bratislava',\n",
       "       'City_new_Brussels', 'City_new_Budapest', 'City_new_Copenhagen',\n",
       "       'City_new_Dublin', 'City_new_Edinburgh', 'City_new_Geneva',\n",
       "       'City_new_Hamburg', 'City_new_Helsinki', 'City_new_Krakow',\n",
       "       'City_new_Lisbon', 'City_new_Ljubljana', 'City_new_London',\n",
       "       'City_new_Luxembourg', 'City_new_Lyon', 'City_new_Madrid',\n",
       "       'City_new_Milan', 'City_new_Munich', 'City_new_Oporto', 'City_new_Oslo',\n",
       "       'City_new_Paris', 'City_new_Prague', 'City_new_Rome',\n",
       "       'City_new_Stockholm', 'City_new_Vienna', 'City_new_Warsaw',\n",
       "       'City_new_Zurich'],\n",
       "      dtype='object')"
      ]
     },
     "execution_count": 21,
     "metadata": {},
     "output_type": "execute_result"
    }
   ],
   "source": [
    "df.columns"
   ]
  },
  {
   "cell_type": "markdown",
   "id": "c83ea8f5-b0dd-48d5-b959-ba621bee25e0",
   "metadata": {},
   "source": [
    "### Cuisine Style - кухня или кухни, к которым можно отнести блюда, предлагаемые в ресторане"
   ]
  },
  {
   "cell_type": "code",
   "execution_count": 22,
   "id": "a1b710d9-fd82-4cad-9e39-12161a9dbb7c",
   "metadata": {},
   "outputs": [
    {
     "name": "stdout",
     "output_type": "stream",
     "text": [
      "                                                    Cuisine_Style  percent\n",
      "['Italian']                                                  1032   2.5800\n",
      "['French']                                                    805   2.0125\n",
      "['Spanish']                                                   695   1.7375\n",
      "['French', 'European']                                        405   1.0125\n",
      "['Cafe']                                                      403   1.0075\n",
      "...                                                           ...      ...\n",
      "['Asian', 'Korean', 'Street Food', 'Fast Food']                 1   0.0025\n",
      "['Italian', 'Bar', 'Pizza', 'Delicatessen', 'Pub']              1   0.0025\n",
      "['Pizza', 'Italian', 'Mediterranean', 'Vegetari...              1   0.0025\n",
      "['Cafe', 'American', 'Danish', 'Vegetarian Frie...              1   0.0025\n",
      "['Fast Food', 'Turkish', 'Mediterranean', 'Midd...              1   0.0025\n",
      "\n",
      "[9007 rows x 2 columns]\n",
      "Количество незаполненных значений: 9283 ~ 23.21%.\n",
      "<class 'pandas.core.frame.DataFrame'>\n",
      "RangeIndex: 40000 entries, 0 to 39999\n",
      "Data columns (total 1 columns):\n",
      " #   Column         Non-Null Count  Dtype \n",
      "---  ------         --------------  ----- \n",
      " 0   Cuisine_Style  30717 non-null  object\n",
      "dtypes: object(1)\n",
      "memory usage: 312.6+ KB\n"
     ]
    }
   ],
   "source": [
    "test(df, 'Cuisine_Style')"
   ]
  },
  {
   "cell_type": "markdown",
   "id": "83a17cdd-b6ef-48e0-bd5f-e6e9c38cb1e4",
   "metadata": {},
   "source": [
    "Данные заполнены строками. Пропусков 23%. Для разбивки строки данных на списки, необходимо заполнить строки без значений.  \n",
    "Для этого необходима обработка остальных столбцов, так ччто пока отложим работу с данными этого."
   ]
  },
  {
   "cell_type": "code",
   "execution_count": null,
   "id": "672d661d-6642-49df-b4e2-6f53bc228c07",
   "metadata": {},
   "outputs": [],
   "source": []
  },
  {
   "cell_type": "markdown",
   "id": "7323fe0d-f5c0-4c7d-879c-292df00a9a5e",
   "metadata": {},
   "source": [
    "Найдём наиболее часто встречающийся тип кухонь для замены отсутствующих значений"
   ]
  },
  {
   "cell_type": "code",
   "execution_count": 23,
   "id": "b6a69aef-26bb-4d8b-a791-efb303198f51",
   "metadata": {
    "tags": []
   },
   "outputs": [],
   "source": [
    "#df1 = df.loc[:, ['Restaurant_id', 'Cuisine Style']]\n",
    "#df1 = df1.dropna()\n",
    "#df1['Cuisine Style'] = df1['Cuisine Style'].apply(lambda x: x[1:-1].replace(\"'\", '').split(', ')) # убираем передние и задние кавычки/ убираем кавычки у каждого слова/ делаем список из значений"
   ]
  },
  {
   "cell_type": "markdown",
   "id": "80663270-9cfd-4295-bfd5-1b719d3bf4fa",
   "metadata": {},
   "source": [
    "### Ranking - место, которое занимает данный ресторан среди всех ресторанов своего города"
   ]
  },
  {
   "cell_type": "code",
   "execution_count": 24,
   "id": "622f73aa-d49e-4104-8ffe-8fb6c8b76f33",
   "metadata": {},
   "outputs": [
    {
     "name": "stdout",
     "output_type": "stream",
     "text": [
      "         Ranking  percent\n",
      "1080.0        19   0.0475\n",
      "431.0         18   0.0450\n",
      "491.0         18   0.0450\n",
      "437.0         18   0.0450\n",
      "345.0         18   0.0450\n",
      "...          ...      ...\n",
      "16095.0        1   0.0025\n",
      "14765.0        1   0.0025\n",
      "12661.0        1   0.0025\n",
      "11635.0        1   0.0025\n",
      "9606.0         1   0.0025\n",
      "\n",
      "[11936 rows x 2 columns]\n",
      "Количество незаполненных значений: 0 ~ 0.0%.\n",
      "<class 'pandas.core.frame.DataFrame'>\n",
      "RangeIndex: 40000 entries, 0 to 39999\n",
      "Data columns (total 1 columns):\n",
      " #   Column   Non-Null Count  Dtype  \n",
      "---  ------   --------------  -----  \n",
      " 0   Ranking  40000 non-null  float64\n",
      "dtypes: float64(1)\n",
      "memory usage: 312.6 KB\n"
     ]
    },
    {
     "data": {
      "image/png": "[encoded data removed]",
      "text/plain": [
       "<Figure size 432x288 with 1 Axes>"
      ]
     },
     "metadata": {
      "needs_background": "light"
     },
     "output_type": "display_data"
    }
   ],
   "source": [
    "test(df, 'Ranking')"
   ]
  },
  {
   "cell_type": "markdown",
   "id": "6ecb58f0-4efe-423c-ad14-894ed8a8d727",
   "metadata": {},
   "source": [
    "Все данные заполнены, пропусков нет. Данные представлены большими числами. Для работы модели необходимо нормализовать значения."
   ]
  },
  {
   "cell_type": "code",
   "execution_count": 25,
   "id": "0c290d49-83cb-4dc0-9f5c-cf761e423e74",
   "metadata": {},
   "outputs": [
    {
     "data": {
      "text/html": [
       "<div>\n",
       "<style scoped>\n",
       "    .dataframe tbody tr th:only-of-type {\n",
       "        vertical-align: middle;\n",
       "    }\n",
       "\n",
       "    .dataframe tbody tr th {\n",
       "        vertical-align: top;\n",
       "    }\n",
       "\n",
       "    .dataframe thead th {\n",
       "        text-align: right;\n",
       "    }\n",
       "</style>\n",
       "<table border=\"1\" class=\"dataframe\">\n",
       "  <thead>\n",
       "    <tr style=\"text-align: right;\">\n",
       "      <th></th>\n",
       "      <th>Restaurant_id</th>\n",
       "      <th>City</th>\n",
       "      <th>Cuisine_Style</th>\n",
       "      <th>Ranking</th>\n",
       "      <th>Rating</th>\n",
       "      <th>Price_Range</th>\n",
       "      <th>Number_of_Reviews</th>\n",
       "      <th>Reviews</th>\n",
       "      <th>URL_TA</th>\n",
       "      <th>ID_TA</th>\n",
       "      <th>...</th>\n",
       "      <th>City_new_Munich</th>\n",
       "      <th>City_new_Oporto</th>\n",
       "      <th>City_new_Oslo</th>\n",
       "      <th>City_new_Paris</th>\n",
       "      <th>City_new_Prague</th>\n",
       "      <th>City_new_Rome</th>\n",
       "      <th>City_new_Stockholm</th>\n",
       "      <th>City_new_Vienna</th>\n",
       "      <th>City_new_Warsaw</th>\n",
       "      <th>City_new_Zurich</th>\n",
       "    </tr>\n",
       "  </thead>\n",
       "  <tbody>\n",
       "    <tr>\n",
       "      <th>0</th>\n",
       "      <td>id_5569</td>\n",
       "      <td>Paris</td>\n",
       "      <td>['European', 'French', 'International']</td>\n",
       "      <td>0.769644</td>\n",
       "      <td>3.5</td>\n",
       "      <td>$$ - $$$</td>\n",
       "      <td>194.0</td>\n",
       "      <td>[['Good food at your doorstep', 'A good hotel ...</td>\n",
       "      <td>/Restaurant_Review-g187147-d1912643-Reviews-R_...</td>\n",
       "      <td>d1912643</td>\n",
       "      <td>...</td>\n",
       "      <td>0</td>\n",
       "      <td>0</td>\n",
       "      <td>0</td>\n",
       "      <td>1</td>\n",
       "      <td>0</td>\n",
       "      <td>0</td>\n",
       "      <td>0</td>\n",
       "      <td>0</td>\n",
       "      <td>0</td>\n",
       "      <td>0</td>\n",
       "    </tr>\n",
       "    <tr>\n",
       "      <th>1</th>\n",
       "      <td>id_1535</td>\n",
       "      <td>Stockholm</td>\n",
       "      <td>NaN</td>\n",
       "      <td>0.374575</td>\n",
       "      <td>4.0</td>\n",
       "      <td>NaN</td>\n",
       "      <td>10.0</td>\n",
       "      <td>[['Unique cuisine', 'Delicious Nepalese food']...</td>\n",
       "      <td>/Restaurant_Review-g189852-d7992032-Reviews-Bu...</td>\n",
       "      <td>d7992032</td>\n",
       "      <td>...</td>\n",
       "      <td>0</td>\n",
       "      <td>0</td>\n",
       "      <td>0</td>\n",
       "      <td>0</td>\n",
       "      <td>0</td>\n",
       "      <td>0</td>\n",
       "      <td>1</td>\n",
       "      <td>0</td>\n",
       "      <td>0</td>\n",
       "      <td>0</td>\n",
       "    </tr>\n",
       "    <tr>\n",
       "      <th>2</th>\n",
       "      <td>id_352</td>\n",
       "      <td>London</td>\n",
       "      <td>['Japanese', 'Sushi', 'Asian', 'Grill', 'Veget...</td>\n",
       "      <td>0.094094</td>\n",
       "      <td>4.5</td>\n",
       "      <td>$$$$</td>\n",
       "      <td>688.0</td>\n",
       "      <td>[['Catch up with friends', 'Not exceptional'],...</td>\n",
       "      <td>/Restaurant_Review-g186338-d8632781-Reviews-RO...</td>\n",
       "      <td>d8632781</td>\n",
       "      <td>...</td>\n",
       "      <td>0</td>\n",
       "      <td>0</td>\n",
       "      <td>0</td>\n",
       "      <td>0</td>\n",
       "      <td>0</td>\n",
       "      <td>0</td>\n",
       "      <td>0</td>\n",
       "      <td>0</td>\n",
       "      <td>0</td>\n",
       "      <td>0</td>\n",
       "    </tr>\n",
       "    <tr>\n",
       "      <th>3</th>\n",
       "      <td>id_3456</td>\n",
       "      <td>Berlin</td>\n",
       "      <td>NaN</td>\n",
       "      <td>0.629685</td>\n",
       "      <td>5.0</td>\n",
       "      <td>NaN</td>\n",
       "      <td>3.0</td>\n",
       "      <td>[[], []]</td>\n",
       "      <td>/Restaurant_Review-g187323-d1358776-Reviews-Es...</td>\n",
       "      <td>d1358776</td>\n",
       "      <td>...</td>\n",
       "      <td>0</td>\n",
       "      <td>0</td>\n",
       "      <td>0</td>\n",
       "      <td>0</td>\n",
       "      <td>0</td>\n",
       "      <td>0</td>\n",
       "      <td>0</td>\n",
       "      <td>0</td>\n",
       "      <td>0</td>\n",
       "      <td>0</td>\n",
       "    </tr>\n",
       "    <tr>\n",
       "      <th>4</th>\n",
       "      <td>id_615</td>\n",
       "      <td>Munich</td>\n",
       "      <td>['German', 'Central European', 'Vegetarian Fri...</td>\n",
       "      <td>0.165165</td>\n",
       "      <td>4.0</td>\n",
       "      <td>$$ - $$$</td>\n",
       "      <td>84.0</td>\n",
       "      <td>[['Best place to try a Bavarian food', 'Nice b...</td>\n",
       "      <td>/Restaurant_Review-g187309-d6864963-Reviews-Au...</td>\n",
       "      <td>d6864963</td>\n",
       "      <td>...</td>\n",
       "      <td>1</td>\n",
       "      <td>0</td>\n",
       "      <td>0</td>\n",
       "      <td>0</td>\n",
       "      <td>0</td>\n",
       "      <td>0</td>\n",
       "      <td>0</td>\n",
       "      <td>0</td>\n",
       "      <td>0</td>\n",
       "      <td>0</td>\n",
       "    </tr>\n",
       "  </tbody>\n",
       "</table>\n",
       "<p>5 rows × 42 columns</p>\n",
       "</div>"
      ],
      "text/plain": [
       "  Restaurant_id       City                                      Cuisine_Style  \\\n",
       "0       id_5569      Paris            ['European', 'French', 'International']   \n",
       "1       id_1535  Stockholm                                                NaN   \n",
       "2        id_352     London  ['Japanese', 'Sushi', 'Asian', 'Grill', 'Veget...   \n",
       "3       id_3456     Berlin                                                NaN   \n",
       "4        id_615     Munich  ['German', 'Central European', 'Vegetarian Fri...   \n",
       "\n",
       "    Ranking  Rating Price_Range  Number_of_Reviews  \\\n",
       "0  0.769644     3.5    $$ - $$$              194.0   \n",
       "1  0.374575     4.0         NaN               10.0   \n",
       "2  0.094094     4.5        $$$$              688.0   \n",
       "3  0.629685     5.0         NaN                3.0   \n",
       "4  0.165165     4.0    $$ - $$$               84.0   \n",
       "\n",
       "                                             Reviews  \\\n",
       "0  [['Good food at your doorstep', 'A good hotel ...   \n",
       "1  [['Unique cuisine', 'Delicious Nepalese food']...   \n",
       "2  [['Catch up with friends', 'Not exceptional'],...   \n",
       "3                                           [[], []]   \n",
       "4  [['Best place to try a Bavarian food', 'Nice b...   \n",
       "\n",
       "                                              URL_TA     ID_TA  ...  \\\n",
       "0  /Restaurant_Review-g187147-d1912643-Reviews-R_...  d1912643  ...   \n",
       "1  /Restaurant_Review-g189852-d7992032-Reviews-Bu...  d7992032  ...   \n",
       "2  /Restaurant_Review-g186338-d8632781-Reviews-RO...  d8632781  ...   \n",
       "3  /Restaurant_Review-g187323-d1358776-Reviews-Es...  d1358776  ...   \n",
       "4  /Restaurant_Review-g187309-d6864963-Reviews-Au...  d6864963  ...   \n",
       "\n",
       "   City_new_Munich  City_new_Oporto  City_new_Oslo  City_new_Paris  \\\n",
       "0                0                0              0               1   \n",
       "1                0                0              0               0   \n",
       "2                0                0              0               0   \n",
       "3                0                0              0               0   \n",
       "4                1                0              0               0   \n",
       "\n",
       "   City_new_Prague  City_new_Rome  City_new_Stockholm  City_new_Vienna  \\\n",
       "0                0              0                   0                0   \n",
       "1                0              0                   1                0   \n",
       "2                0              0                   0                0   \n",
       "3                0              0                   0                0   \n",
       "4                0              0                   0                0   \n",
       "\n",
       "   City_new_Warsaw  City_new_Zurich  \n",
       "0                0                0  \n",
       "1                0                0  \n",
       "2                0                0  \n",
       "3                0                0  \n",
       "4                0                0  \n",
       "\n",
       "[5 rows x 42 columns]"
      ]
     },
     "execution_count": 25,
     "metadata": {},
     "output_type": "execute_result"
    }
   ],
   "source": [
    "from sklearn import preprocessing\n",
    "from sklearn.preprocessing import QuantileTransformer # импортируем библиотеку со способом нормализации\n",
    "\n",
    "scaler = preprocessing.QuantileTransformer()\n",
    "float_array = df['Ranking'].values.astype(float).reshape(-1 , 1) # создаём список из столбца\n",
    "df['Ranking'] = scaler.fit_transform(float_array) # заменим данные в столбце на нормализованные\n",
    "\n",
    "df.head() # проверим изменения"
   ]
  },
  {
   "cell_type": "markdown",
   "id": "2fd222b8-12a9-47e6-a501-32f529039f45",
   "metadata": {},
   "source": [
    "### Rating - рейтинг ресторана по данным TripAdvisor (именно это значение должна была предсказывать модель)"
   ]
  },
  {
   "cell_type": "code",
   "execution_count": 26,
   "id": "9c08a299-fa3c-49e6-b075-855b972c1196",
   "metadata": {},
   "outputs": [
    {
     "name": "stdout",
     "output_type": "stream",
     "text": [
      "     Rating  percent\n",
      "4.0   13692  34.2300\n",
      "4.5   10929  27.3225\n",
      "3.5    6824  17.0600\n",
      "5.0    3879   9.6975\n",
      "3.0    2955   7.3875\n",
      "2.5     915   2.2875\n",
      "2.0     466   1.1650\n",
      "1.0     201   0.5025\n",
      "1.5     139   0.3475\n",
      "Количество незаполненных значений: 0 ~ 0.0%.\n",
      "<class 'pandas.core.frame.DataFrame'>\n",
      "RangeIndex: 40000 entries, 0 to 39999\n",
      "Data columns (total 1 columns):\n",
      " #   Column  Non-Null Count  Dtype  \n",
      "---  ------  --------------  -----  \n",
      " 0   Rating  40000 non-null  float64\n",
      "dtypes: float64(1)\n",
      "memory usage: 312.6 KB\n"
     ]
    },
    {
     "data": {
      "image/png": "[encoded data removed]",
      "text/plain": [
       "<Figure size 432x288 with 1 Axes>"
      ]
     },
     "metadata": {
      "needs_background": "light"
     },
     "output_type": "display_data"
    }
   ],
   "source": [
    "test(df, 'Rating')"
   ]
  },
  {
   "cell_type": "markdown",
   "id": "2a542891-7cae-45cb-9849-1dcf357c440e",
   "metadata": {},
   "source": [
    "Пропусков нет. Данные введены корректно и без ошибок - значения распределены от 1 до 5 с шагом 0.5. Оставляем эти данные без изменений."
   ]
  },
  {
   "cell_type": "markdown",
   "id": "fce464bb-8dd6-4e82-9f5b-756ac2214a27",
   "metadata": {},
   "source": [
    "### Price Range - диапазон цен в ресторане"
   ]
  },
  {
   "cell_type": "code",
   "execution_count": 27,
   "id": "093c59e7-0eee-4600-895a-953e6c5d01e9",
   "metadata": {},
   "outputs": [
    {
     "name": "stdout",
     "output_type": "stream",
     "text": [
      "          Price_Range  percent\n",
      "$$ - $$$        18412  46.0300\n",
      "$                6279  15.6975\n",
      "$$$$             1423   3.5575\n",
      "Количество незаполненных значений: 13886 ~ 34.72%.\n",
      "<class 'pandas.core.frame.DataFrame'>\n",
      "RangeIndex: 40000 entries, 0 to 39999\n",
      "Data columns (total 1 columns):\n",
      " #   Column       Non-Null Count  Dtype \n",
      "---  ------       --------------  ----- \n",
      " 0   Price_Range  26114 non-null  object\n",
      "dtypes: object(1)\n",
      "memory usage: 312.6+ KB\n"
     ]
    }
   ],
   "source": [
    "test(df, 'Price_Range')"
   ]
  },
  {
   "cell_type": "markdown",
   "id": "b5583511-3303-476a-9aff-3a7e0e2709ce",
   "metadata": {},
   "source": [
    "Пропусков достаточно много - почти 35%. Данные распределены без выбросов. Ошибок в данных нет."
   ]
  },
  {
   "cell_type": "markdown",
   "id": "3344e2aa-9f7e-47c0-8beb-582390e8bf2d",
   "metadata": {},
   "source": [
    "Данные заменим на числовые, согласно величине диапазона."
   ]
  },
  {
   "cell_type": "code",
   "execution_count": 28,
   "id": "a6962f39-ae02-4108-9de2-5e2e7afa29d1",
   "metadata": {},
   "outputs": [],
   "source": [
    "price_dict = {'$': 1, '$$ - $$$': 2, '$$$$': 3} # создадим словарь для преобразования значений уровня цен\n",
    "df['Price_Range'].replace(price_dict, inplace=True) # заменим значения в колонке"
   ]
  },
  {
   "cell_type": "markdown",
   "id": "855f36d4-1f47-499f-9c0c-acace1ee9cd1",
   "metadata": {},
   "source": [
    "Заполним пропущенные значения. Эти данные должны перекликаться с расположением ресторана (т.к. в более населённых городах цены выше)  \n",
    "и принадлежностью ресторана к сети (т.к. в сетевых ресторанах цены устанавливаются по своим схемам).\n",
    "Наиболее населённым считаем город с большим количеством ресторанов."
   ]
  },
  {
   "cell_type": "code",
   "execution_count": null,
   "id": "6d236dca-6147-4896-afac-52d0612ed8f9",
   "metadata": {},
   "outputs": [],
   "source": []
  },
  {
   "cell_type": "code",
   "execution_count": 29,
   "id": "65ca833a-09af-46aa-bec6-f1ac74a9cca2",
   "metadata": {},
   "outputs": [
    {
     "data": {
      "text/html": [
       "<div>\n",
       "<style scoped>\n",
       "    .dataframe tbody tr th:only-of-type {\n",
       "        vertical-align: middle;\n",
       "    }\n",
       "\n",
       "    .dataframe tbody tr th {\n",
       "        vertical-align: top;\n",
       "    }\n",
       "\n",
       "    .dataframe thead th {\n",
       "        text-align: right;\n",
       "    }\n",
       "</style>\n",
       "<table border=\"1\" class=\"dataframe\">\n",
       "  <thead>\n",
       "    <tr style=\"text-align: right;\">\n",
       "      <th></th>\n",
       "      <th>Ranking</th>\n",
       "      <th>Rating</th>\n",
       "      <th>Price_Range</th>\n",
       "      <th>Number_of_Reviews</th>\n",
       "      <th>Net_rest</th>\n",
       "      <th>City_new_Amsterdam</th>\n",
       "      <th>City_new_Athens</th>\n",
       "      <th>City_new_Barcelona</th>\n",
       "      <th>City_new_Berlin</th>\n",
       "      <th>City_new_Bratislava</th>\n",
       "      <th>...</th>\n",
       "      <th>City_new_Munich</th>\n",
       "      <th>City_new_Oporto</th>\n",
       "      <th>City_new_Oslo</th>\n",
       "      <th>City_new_Paris</th>\n",
       "      <th>City_new_Prague</th>\n",
       "      <th>City_new_Rome</th>\n",
       "      <th>City_new_Stockholm</th>\n",
       "      <th>City_new_Vienna</th>\n",
       "      <th>City_new_Warsaw</th>\n",
       "      <th>City_new_Zurich</th>\n",
       "    </tr>\n",
       "  </thead>\n",
       "  <tbody>\n",
       "    <tr>\n",
       "      <th>0</th>\n",
       "      <td>0.769644</td>\n",
       "      <td>3.5</td>\n",
       "      <td>2.000000</td>\n",
       "      <td>194.0</td>\n",
       "      <td>1.0</td>\n",
       "      <td>0</td>\n",
       "      <td>0</td>\n",
       "      <td>0</td>\n",
       "      <td>0</td>\n",
       "      <td>0</td>\n",
       "      <td>...</td>\n",
       "      <td>0</td>\n",
       "      <td>0</td>\n",
       "      <td>0</td>\n",
       "      <td>1</td>\n",
       "      <td>0</td>\n",
       "      <td>0</td>\n",
       "      <td>0</td>\n",
       "      <td>0</td>\n",
       "      <td>0</td>\n",
       "      <td>0</td>\n",
       "    </tr>\n",
       "    <tr>\n",
       "      <th>1</th>\n",
       "      <td>0.374575</td>\n",
       "      <td>4.0</td>\n",
       "      <td>1.814046</td>\n",
       "      <td>10.0</td>\n",
       "      <td>1.0</td>\n",
       "      <td>0</td>\n",
       "      <td>0</td>\n",
       "      <td>0</td>\n",
       "      <td>0</td>\n",
       "      <td>0</td>\n",
       "      <td>...</td>\n",
       "      <td>0</td>\n",
       "      <td>0</td>\n",
       "      <td>0</td>\n",
       "      <td>0</td>\n",
       "      <td>0</td>\n",
       "      <td>0</td>\n",
       "      <td>1</td>\n",
       "      <td>0</td>\n",
       "      <td>0</td>\n",
       "      <td>0</td>\n",
       "    </tr>\n",
       "    <tr>\n",
       "      <th>2</th>\n",
       "      <td>0.094094</td>\n",
       "      <td>4.5</td>\n",
       "      <td>3.000000</td>\n",
       "      <td>688.0</td>\n",
       "      <td>1.0</td>\n",
       "      <td>0</td>\n",
       "      <td>0</td>\n",
       "      <td>0</td>\n",
       "      <td>0</td>\n",
       "      <td>0</td>\n",
       "      <td>...</td>\n",
       "      <td>0</td>\n",
       "      <td>0</td>\n",
       "      <td>0</td>\n",
       "      <td>0</td>\n",
       "      <td>0</td>\n",
       "      <td>0</td>\n",
       "      <td>0</td>\n",
       "      <td>0</td>\n",
       "      <td>0</td>\n",
       "      <td>0</td>\n",
       "    </tr>\n",
       "    <tr>\n",
       "      <th>3</th>\n",
       "      <td>0.629685</td>\n",
       "      <td>5.0</td>\n",
       "      <td>1.814046</td>\n",
       "      <td>3.0</td>\n",
       "      <td>1.0</td>\n",
       "      <td>0</td>\n",
       "      <td>0</td>\n",
       "      <td>0</td>\n",
       "      <td>1</td>\n",
       "      <td>0</td>\n",
       "      <td>...</td>\n",
       "      <td>0</td>\n",
       "      <td>0</td>\n",
       "      <td>0</td>\n",
       "      <td>0</td>\n",
       "      <td>0</td>\n",
       "      <td>0</td>\n",
       "      <td>0</td>\n",
       "      <td>0</td>\n",
       "      <td>0</td>\n",
       "      <td>0</td>\n",
       "    </tr>\n",
       "    <tr>\n",
       "      <th>4</th>\n",
       "      <td>0.165165</td>\n",
       "      <td>4.0</td>\n",
       "      <td>2.000000</td>\n",
       "      <td>84.0</td>\n",
       "      <td>1.0</td>\n",
       "      <td>0</td>\n",
       "      <td>0</td>\n",
       "      <td>0</td>\n",
       "      <td>0</td>\n",
       "      <td>0</td>\n",
       "      <td>...</td>\n",
       "      <td>1</td>\n",
       "      <td>0</td>\n",
       "      <td>0</td>\n",
       "      <td>0</td>\n",
       "      <td>0</td>\n",
       "      <td>0</td>\n",
       "      <td>0</td>\n",
       "      <td>0</td>\n",
       "      <td>0</td>\n",
       "      <td>0</td>\n",
       "    </tr>\n",
       "  </tbody>\n",
       "</table>\n",
       "<p>5 rows × 36 columns</p>\n",
       "</div>"
      ],
      "text/plain": [
       "    Ranking  Rating  Price_Range  Number_of_Reviews  Net_rest  \\\n",
       "0  0.769644     3.5     2.000000              194.0       1.0   \n",
       "1  0.374575     4.0     1.814046               10.0       1.0   \n",
       "2  0.094094     4.5     3.000000              688.0       1.0   \n",
       "3  0.629685     5.0     1.814046                3.0       1.0   \n",
       "4  0.165165     4.0     2.000000               84.0       1.0   \n",
       "\n",
       "   City_new_Amsterdam  City_new_Athens  City_new_Barcelona  City_new_Berlin  \\\n",
       "0                   0                0                   0                0   \n",
       "1                   0                0                   0                0   \n",
       "2                   0                0                   0                0   \n",
       "3                   0                0                   0                1   \n",
       "4                   0                0                   0                0   \n",
       "\n",
       "   City_new_Bratislava  ...  City_new_Munich  City_new_Oporto  City_new_Oslo  \\\n",
       "0                    0  ...                0                0              0   \n",
       "1                    0  ...                0                0              0   \n",
       "2                    0  ...                0                0              0   \n",
       "3                    0  ...                0                0              0   \n",
       "4                    0  ...                1                0              0   \n",
       "\n",
       "   City_new_Paris  City_new_Prague  City_new_Rome  City_new_Stockholm  \\\n",
       "0               1                0              0                   0   \n",
       "1               0                0              0                   1   \n",
       "2               0                0              0                   0   \n",
       "3               0                0              0                   0   \n",
       "4               0                0              0                   0   \n",
       "\n",
       "   City_new_Vienna  City_new_Warsaw  City_new_Zurich  \n",
       "0                0                0                0  \n",
       "1                0                0                0  \n",
       "2                0                0                0  \n",
       "3                0                0                0  \n",
       "4                0                0                0  \n",
       "\n",
       "[5 rows x 36 columns]"
      ]
     },
     "execution_count": 29,
     "metadata": {},
     "output_type": "execute_result"
    }
   ],
   "source": [
    "# удалить столбцы, содержащие данные типа object\n",
    "# заполнить пропущенные значения нулём или средним арифметическим\n",
    "#df1 = df.drop([col for col in df.columns if df[col].dtype == 'O'],axis=1)\n",
    "df1 = df.drop(df.select_dtypes(include=['object']), axis = 1)\n",
    "df1 = df1.fillna(df1.mean())\n",
    "df1.head()"
   ]
  },
  {
   "cell_type": "code",
   "execution_count": 30,
   "id": "519de870-7bd9-4d70-aad4-4e63b710f70a",
   "metadata": {},
   "outputs": [
    {
     "name": "stdout",
     "output_type": "stream",
     "text": [
      "<class 'pandas.core.frame.DataFrame'>\n",
      "RangeIndex: 40000 entries, 0 to 39999\n",
      "Data columns (total 36 columns):\n",
      " #   Column               Non-Null Count  Dtype  \n",
      "---  ------               --------------  -----  \n",
      " 0   Ranking              40000 non-null  float64\n",
      " 1   Rating               40000 non-null  float64\n",
      " 2   Price_Range          40000 non-null  float64\n",
      " 3   Number_of_Reviews    40000 non-null  float64\n",
      " 4   Net_rest             40000 non-null  float64\n",
      " 5   City_new_Amsterdam   40000 non-null  uint8  \n",
      " 6   City_new_Athens      40000 non-null  uint8  \n",
      " 7   City_new_Barcelona   40000 non-null  uint8  \n",
      " 8   City_new_Berlin      40000 non-null  uint8  \n",
      " 9   City_new_Bratislava  40000 non-null  uint8  \n",
      " 10  City_new_Brussels    40000 non-null  uint8  \n",
      " 11  City_new_Budapest    40000 non-null  uint8  \n",
      " 12  City_new_Copenhagen  40000 non-null  uint8  \n",
      " 13  City_new_Dublin      40000 non-null  uint8  \n",
      " 14  City_new_Edinburgh   40000 non-null  uint8  \n",
      " 15  City_new_Geneva      40000 non-null  uint8  \n",
      " 16  City_new_Hamburg     40000 non-null  uint8  \n",
      " 17  City_new_Helsinki    40000 non-null  uint8  \n",
      " 18  City_new_Krakow      40000 non-null  uint8  \n",
      " 19  City_new_Lisbon      40000 non-null  uint8  \n",
      " 20  City_new_Ljubljana   40000 non-null  uint8  \n",
      " 21  City_new_London      40000 non-null  uint8  \n",
      " 22  City_new_Luxembourg  40000 non-null  uint8  \n",
      " 23  City_new_Lyon        40000 non-null  uint8  \n",
      " 24  City_new_Madrid      40000 non-null  uint8  \n",
      " 25  City_new_Milan       40000 non-null  uint8  \n",
      " 26  City_new_Munich      40000 non-null  uint8  \n",
      " 27  City_new_Oporto      40000 non-null  uint8  \n",
      " 28  City_new_Oslo        40000 non-null  uint8  \n",
      " 29  City_new_Paris       40000 non-null  uint8  \n",
      " 30  City_new_Prague      40000 non-null  uint8  \n",
      " 31  City_new_Rome        40000 non-null  uint8  \n",
      " 32  City_new_Stockholm   40000 non-null  uint8  \n",
      " 33  City_new_Vienna      40000 non-null  uint8  \n",
      " 34  City_new_Warsaw      40000 non-null  uint8  \n",
      " 35  City_new_Zurich      40000 non-null  uint8  \n",
      "dtypes: float64(5), uint8(31)\n",
      "memory usage: 2.7 MB\n"
     ]
    }
   ],
   "source": [
    "df1.info()"
   ]
  },
  {
   "cell_type": "code",
   "execution_count": 31,
   "id": "ac40b540-1d1d-4797-8c12-a8390f1689bf",
   "metadata": {},
   "outputs": [
    {
     "data": {
      "text/plain": [
       "dtype('O')"
      ]
     },
     "execution_count": 31,
     "metadata": {},
     "output_type": "execute_result"
    }
   ],
   "source": [
    "df['City'].dtype"
   ]
  },
  {
   "cell_type": "markdown",
   "id": "3735a78c-0778-4175-a7f1-7d74d871182c",
   "metadata": {},
   "source": [
    "# Разбиваем датафрейм на части, необходимые для обучения и тестирования модели"
   ]
  },
  {
   "cell_type": "code",
   "execution_count": 32,
   "id": "5cde9ca8-94ac-4f2e-a194-b050b582d941",
   "metadata": {},
   "outputs": [],
   "source": [
    "# Х - данные с информацией о ресторанах, у - целевая переменная (рейтинги ресторанов)\n",
    "X = df1.drop('Rating', axis = 1)\n",
    "y = df1['Rating']"
   ]
  },
  {
   "cell_type": "code",
   "execution_count": 33,
   "id": "657ae47c-91e9-4edb-a611-a9cfda00015b",
   "metadata": {},
   "outputs": [],
   "source": [
    "# Загружаем специальный инструмент для разбивки:\n",
    "from sklearn.model_selection import train_test_split"
   ]
  },
  {
   "cell_type": "code",
   "execution_count": 34,
   "id": "d7c55dd5-246b-471b-b131-f1dce7ed9893",
   "metadata": {},
   "outputs": [],
   "source": [
    "# Наборы данных с меткой \"train\" будут использоваться для обучения модели, \"test\" - для тестирования.\n",
    "# Для тестирования мы будем использовать 25% от исходного датасета.\n",
    "X_train, X_test, y_train, y_test = train_test_split(X, y, test_size=0.25)"
   ]
  },
  {
   "cell_type": "markdown",
   "id": "84b8cdb5-27a0-4e0a-b372-7bc980b34c40",
   "metadata": {},
   "source": [
    "# Создаём, обучаем и тестируем модель"
   ]
  },
  {
   "cell_type": "code",
   "execution_count": 35,
   "id": "6cd2b1d0-f28b-4866-bc19-f11912e11f03",
   "metadata": {},
   "outputs": [],
   "source": [
    "# Импортируем необходимые библиотеки:\n",
    "from sklearn.ensemble import RandomForestRegressor # инструмент для создания и обучения модели\n",
    "from sklearn import metrics # инструменты для оценки точности модели"
   ]
  },
  {
   "cell_type": "code",
   "execution_count": 36,
   "id": "bdf5fd00-2e42-4ceb-94b6-8f9f1f570498",
   "metadata": {
    "tags": []
   },
   "outputs": [],
   "source": [
    "# Создаём модель\n",
    "regr = RandomForestRegressor(n_estimators=100)\n",
    "\n",
    "# Обучаем модель на тестовом наборе данных\n",
    "regr.fit(X_train, y_train)\n",
    "\n",
    "# Используем обученную модель для предсказания рейтинга ресторанов в тестовой выборке.\n",
    "# Предсказанные значения записываем в переменную y_pred\n",
    "y_pred = regr.predict(X_test)"
   ]
  },
  {
   "cell_type": "code",
   "execution_count": 37,
   "id": "70fa6b5a-bbc0-4724-b060-bbaa72d83c61",
   "metadata": {},
   "outputs": [
    {
     "name": "stdout",
     "output_type": "stream",
     "text": [
      "MAE: 0.2179415\n"
     ]
    }
   ],
   "source": [
    "# Сравниваем предсказанные значения (y_pred) с реальными (y_test), и смотрим насколько они в среднем отличаются\n",
    "# Метрика называется Mean Absolute Error (MAE) и показывает среднее отклонение предсказанных значений от фактических.\n",
    "print('MAE:', metrics.mean_absolute_error(y_test, y_pred))"
   ]
  },
  {
   "cell_type": "code",
   "execution_count": 38,
   "id": "3bb062fd-d14f-4d78-84f6-d6d114b1b50a",
   "metadata": {},
   "outputs": [
    {
     "data": {
      "text/html": [
       "<div>\n",
       "<style scoped>\n",
       "    .dataframe tbody tr th:only-of-type {\n",
       "        vertical-align: middle;\n",
       "    }\n",
       "\n",
       "    .dataframe tbody tr th {\n",
       "        vertical-align: top;\n",
       "    }\n",
       "\n",
       "    .dataframe thead th {\n",
       "        text-align: right;\n",
       "    }\n",
       "</style>\n",
       "<table border=\"1\" class=\"dataframe\">\n",
       "  <thead>\n",
       "    <tr style=\"text-align: right;\">\n",
       "      <th></th>\n",
       "      <th>Restaurant_id</th>\n",
       "      <th>City</th>\n",
       "      <th>Cuisine_Style</th>\n",
       "      <th>Ranking</th>\n",
       "      <th>Rating</th>\n",
       "      <th>Price_Range</th>\n",
       "      <th>Number_of_Reviews</th>\n",
       "      <th>Reviews</th>\n",
       "      <th>URL_TA</th>\n",
       "      <th>ID_TA</th>\n",
       "      <th>...</th>\n",
       "      <th>City_new_Munich</th>\n",
       "      <th>City_new_Oporto</th>\n",
       "      <th>City_new_Oslo</th>\n",
       "      <th>City_new_Paris</th>\n",
       "      <th>City_new_Prague</th>\n",
       "      <th>City_new_Rome</th>\n",
       "      <th>City_new_Stockholm</th>\n",
       "      <th>City_new_Vienna</th>\n",
       "      <th>City_new_Warsaw</th>\n",
       "      <th>City_new_Zurich</th>\n",
       "    </tr>\n",
       "  </thead>\n",
       "  <tbody>\n",
       "    <tr>\n",
       "      <th>0</th>\n",
       "      <td>id_5569</td>\n",
       "      <td>Paris</td>\n",
       "      <td>['European', 'French', 'International']</td>\n",
       "      <td>0.769644</td>\n",
       "      <td>3.5</td>\n",
       "      <td>2.0</td>\n",
       "      <td>194.0</td>\n",
       "      <td>[['Good food at your doorstep', 'A good hotel ...</td>\n",
       "      <td>/Restaurant_Review-g187147-d1912643-Reviews-R_...</td>\n",
       "      <td>d1912643</td>\n",
       "      <td>...</td>\n",
       "      <td>0</td>\n",
       "      <td>0</td>\n",
       "      <td>0</td>\n",
       "      <td>1</td>\n",
       "      <td>0</td>\n",
       "      <td>0</td>\n",
       "      <td>0</td>\n",
       "      <td>0</td>\n",
       "      <td>0</td>\n",
       "      <td>0</td>\n",
       "    </tr>\n",
       "    <tr>\n",
       "      <th>1</th>\n",
       "      <td>id_1535</td>\n",
       "      <td>Stockholm</td>\n",
       "      <td>NaN</td>\n",
       "      <td>0.374575</td>\n",
       "      <td>4.0</td>\n",
       "      <td>NaN</td>\n",
       "      <td>10.0</td>\n",
       "      <td>[['Unique cuisine', 'Delicious Nepalese food']...</td>\n",
       "      <td>/Restaurant_Review-g189852-d7992032-Reviews-Bu...</td>\n",
       "      <td>d7992032</td>\n",
       "      <td>...</td>\n",
       "      <td>0</td>\n",
       "      <td>0</td>\n",
       "      <td>0</td>\n",
       "      <td>0</td>\n",
       "      <td>0</td>\n",
       "      <td>0</td>\n",
       "      <td>1</td>\n",
       "      <td>0</td>\n",
       "      <td>0</td>\n",
       "      <td>0</td>\n",
       "    </tr>\n",
       "    <tr>\n",
       "      <th>2</th>\n",
       "      <td>id_352</td>\n",
       "      <td>London</td>\n",
       "      <td>['Japanese', 'Sushi', 'Asian', 'Grill', 'Veget...</td>\n",
       "      <td>0.094094</td>\n",
       "      <td>4.5</td>\n",
       "      <td>3.0</td>\n",
       "      <td>688.0</td>\n",
       "      <td>[['Catch up with friends', 'Not exceptional'],...</td>\n",
       "      <td>/Restaurant_Review-g186338-d8632781-Reviews-RO...</td>\n",
       "      <td>d8632781</td>\n",
       "      <td>...</td>\n",
       "      <td>0</td>\n",
       "      <td>0</td>\n",
       "      <td>0</td>\n",
       "      <td>0</td>\n",
       "      <td>0</td>\n",
       "      <td>0</td>\n",
       "      <td>0</td>\n",
       "      <td>0</td>\n",
       "      <td>0</td>\n",
       "      <td>0</td>\n",
       "    </tr>\n",
       "    <tr>\n",
       "      <th>3</th>\n",
       "      <td>id_3456</td>\n",
       "      <td>Berlin</td>\n",
       "      <td>NaN</td>\n",
       "      <td>0.629685</td>\n",
       "      <td>5.0</td>\n",
       "      <td>NaN</td>\n",
       "      <td>3.0</td>\n",
       "      <td>[[], []]</td>\n",
       "      <td>/Restaurant_Review-g187323-d1358776-Reviews-Es...</td>\n",
       "      <td>d1358776</td>\n",
       "      <td>...</td>\n",
       "      <td>0</td>\n",
       "      <td>0</td>\n",
       "      <td>0</td>\n",
       "      <td>0</td>\n",
       "      <td>0</td>\n",
       "      <td>0</td>\n",
       "      <td>0</td>\n",
       "      <td>0</td>\n",
       "      <td>0</td>\n",
       "      <td>0</td>\n",
       "    </tr>\n",
       "    <tr>\n",
       "      <th>4</th>\n",
       "      <td>id_615</td>\n",
       "      <td>Munich</td>\n",
       "      <td>['German', 'Central European', 'Vegetarian Fri...</td>\n",
       "      <td>0.165165</td>\n",
       "      <td>4.0</td>\n",
       "      <td>2.0</td>\n",
       "      <td>84.0</td>\n",
       "      <td>[['Best place to try a Bavarian food', 'Nice b...</td>\n",
       "      <td>/Restaurant_Review-g187309-d6864963-Reviews-Au...</td>\n",
       "      <td>d6864963</td>\n",
       "      <td>...</td>\n",
       "      <td>1</td>\n",
       "      <td>0</td>\n",
       "      <td>0</td>\n",
       "      <td>0</td>\n",
       "      <td>0</td>\n",
       "      <td>0</td>\n",
       "      <td>0</td>\n",
       "      <td>0</td>\n",
       "      <td>0</td>\n",
       "      <td>0</td>\n",
       "    </tr>\n",
       "    <tr>\n",
       "      <th>...</th>\n",
       "      <td>...</td>\n",
       "      <td>...</td>\n",
       "      <td>...</td>\n",
       "      <td>...</td>\n",
       "      <td>...</td>\n",
       "      <td>...</td>\n",
       "      <td>...</td>\n",
       "      <td>...</td>\n",
       "      <td>...</td>\n",
       "      <td>...</td>\n",
       "      <td>...</td>\n",
       "      <td>...</td>\n",
       "      <td>...</td>\n",
       "      <td>...</td>\n",
       "      <td>...</td>\n",
       "      <td>...</td>\n",
       "      <td>...</td>\n",
       "      <td>...</td>\n",
       "      <td>...</td>\n",
       "      <td>...</td>\n",
       "      <td>...</td>\n",
       "    </tr>\n",
       "    <tr>\n",
       "      <th>39995</th>\n",
       "      <td>id_499</td>\n",
       "      <td>Milan</td>\n",
       "      <td>['Italian', 'Vegetarian Friendly', 'Vegan Opti...</td>\n",
       "      <td>0.133467</td>\n",
       "      <td>4.5</td>\n",
       "      <td>2.0</td>\n",
       "      <td>79.0</td>\n",
       "      <td>[['The real Italian experience!', 'Wonderful f...</td>\n",
       "      <td>/Restaurant_Review-g187849-d2104414-Reviews-Ro...</td>\n",
       "      <td>d2104414</td>\n",
       "      <td>...</td>\n",
       "      <td>0</td>\n",
       "      <td>0</td>\n",
       "      <td>0</td>\n",
       "      <td>0</td>\n",
       "      <td>0</td>\n",
       "      <td>0</td>\n",
       "      <td>0</td>\n",
       "      <td>0</td>\n",
       "      <td>0</td>\n",
       "      <td>0</td>\n",
       "    </tr>\n",
       "    <tr>\n",
       "      <th>39996</th>\n",
       "      <td>id_6340</td>\n",
       "      <td>Paris</td>\n",
       "      <td>['French', 'American', 'Bar', 'European', 'Veg...</td>\n",
       "      <td>0.811442</td>\n",
       "      <td>3.5</td>\n",
       "      <td>2.0</td>\n",
       "      <td>542.0</td>\n",
       "      <td>[['Parisian atmosphere', 'Bit pricey but inter...</td>\n",
       "      <td>/Restaurant_Review-g187147-d1800036-Reviews-La...</td>\n",
       "      <td>d1800036</td>\n",
       "      <td>...</td>\n",
       "      <td>0</td>\n",
       "      <td>0</td>\n",
       "      <td>0</td>\n",
       "      <td>1</td>\n",
       "      <td>0</td>\n",
       "      <td>0</td>\n",
       "      <td>0</td>\n",
       "      <td>0</td>\n",
       "      <td>0</td>\n",
       "      <td>0</td>\n",
       "    </tr>\n",
       "    <tr>\n",
       "      <th>39997</th>\n",
       "      <td>id_1649</td>\n",
       "      <td>Stockholm</td>\n",
       "      <td>['Japanese', 'Sushi']</td>\n",
       "      <td>0.396797</td>\n",
       "      <td>4.5</td>\n",
       "      <td>NaN</td>\n",
       "      <td>4.0</td>\n",
       "      <td>[['Good by swedish standards', 'A hidden jewel...</td>\n",
       "      <td>/Restaurant_Review-g189852-d947615-Reviews-Sus...</td>\n",
       "      <td>d947615</td>\n",
       "      <td>...</td>\n",
       "      <td>0</td>\n",
       "      <td>0</td>\n",
       "      <td>0</td>\n",
       "      <td>0</td>\n",
       "      <td>0</td>\n",
       "      <td>0</td>\n",
       "      <td>1</td>\n",
       "      <td>0</td>\n",
       "      <td>0</td>\n",
       "      <td>0</td>\n",
       "    </tr>\n",
       "    <tr>\n",
       "      <th>39998</th>\n",
       "      <td>id_640</td>\n",
       "      <td>Warsaw</td>\n",
       "      <td>['Polish', 'European', 'Eastern European', 'Ce...</td>\n",
       "      <td>0.169770</td>\n",
       "      <td>4.0</td>\n",
       "      <td>2.0</td>\n",
       "      <td>70.0</td>\n",
       "      <td>[['Underground restaurant', 'Oldest Restaurant...</td>\n",
       "      <td>/Restaurant_Review-g274856-d1100838-Reviews-Ho...</td>\n",
       "      <td>d1100838</td>\n",
       "      <td>...</td>\n",
       "      <td>0</td>\n",
       "      <td>0</td>\n",
       "      <td>0</td>\n",
       "      <td>0</td>\n",
       "      <td>0</td>\n",
       "      <td>0</td>\n",
       "      <td>0</td>\n",
       "      <td>0</td>\n",
       "      <td>1</td>\n",
       "      <td>0</td>\n",
       "    </tr>\n",
       "    <tr>\n",
       "      <th>39999</th>\n",
       "      <td>id_4824</td>\n",
       "      <td>Milan</td>\n",
       "      <td>['Spanish']</td>\n",
       "      <td>0.722789</td>\n",
       "      <td>3.0</td>\n",
       "      <td>2.0</td>\n",
       "      <td>260.0</td>\n",
       "      <td>[['Average', 'Nice an informal'], ['01/31/2016...</td>\n",
       "      <td>/Restaurant_Review-g187849-d1109020-Reviews-Ta...</td>\n",
       "      <td>d1109020</td>\n",
       "      <td>...</td>\n",
       "      <td>0</td>\n",
       "      <td>0</td>\n",
       "      <td>0</td>\n",
       "      <td>0</td>\n",
       "      <td>0</td>\n",
       "      <td>0</td>\n",
       "      <td>0</td>\n",
       "      <td>0</td>\n",
       "      <td>0</td>\n",
       "      <td>0</td>\n",
       "    </tr>\n",
       "  </tbody>\n",
       "</table>\n",
       "<p>40000 rows × 42 columns</p>\n",
       "</div>"
      ],
      "text/plain": [
       "      Restaurant_id       City  \\\n",
       "0           id_5569      Paris   \n",
       "1           id_1535  Stockholm   \n",
       "2            id_352     London   \n",
       "3           id_3456     Berlin   \n",
       "4            id_615     Munich   \n",
       "...             ...        ...   \n",
       "39995        id_499      Milan   \n",
       "39996       id_6340      Paris   \n",
       "39997       id_1649  Stockholm   \n",
       "39998        id_640     Warsaw   \n",
       "39999       id_4824      Milan   \n",
       "\n",
       "                                           Cuisine_Style   Ranking  Rating  \\\n",
       "0                ['European', 'French', 'International']  0.769644     3.5   \n",
       "1                                                    NaN  0.374575     4.0   \n",
       "2      ['Japanese', 'Sushi', 'Asian', 'Grill', 'Veget...  0.094094     4.5   \n",
       "3                                                    NaN  0.629685     5.0   \n",
       "4      ['German', 'Central European', 'Vegetarian Fri...  0.165165     4.0   \n",
       "...                                                  ...       ...     ...   \n",
       "39995  ['Italian', 'Vegetarian Friendly', 'Vegan Opti...  0.133467     4.5   \n",
       "39996  ['French', 'American', 'Bar', 'European', 'Veg...  0.811442     3.5   \n",
       "39997                              ['Japanese', 'Sushi']  0.396797     4.5   \n",
       "39998  ['Polish', 'European', 'Eastern European', 'Ce...  0.169770     4.0   \n",
       "39999                                        ['Spanish']  0.722789     3.0   \n",
       "\n",
       "       Price_Range  Number_of_Reviews  \\\n",
       "0              2.0              194.0   \n",
       "1              NaN               10.0   \n",
       "2              3.0              688.0   \n",
       "3              NaN                3.0   \n",
       "4              2.0               84.0   \n",
       "...            ...                ...   \n",
       "39995          2.0               79.0   \n",
       "39996          2.0              542.0   \n",
       "39997          NaN                4.0   \n",
       "39998          2.0               70.0   \n",
       "39999          2.0              260.0   \n",
       "\n",
       "                                                 Reviews  \\\n",
       "0      [['Good food at your doorstep', 'A good hotel ...   \n",
       "1      [['Unique cuisine', 'Delicious Nepalese food']...   \n",
       "2      [['Catch up with friends', 'Not exceptional'],...   \n",
       "3                                               [[], []]   \n",
       "4      [['Best place to try a Bavarian food', 'Nice b...   \n",
       "...                                                  ...   \n",
       "39995  [['The real Italian experience!', 'Wonderful f...   \n",
       "39996  [['Parisian atmosphere', 'Bit pricey but inter...   \n",
       "39997  [['Good by swedish standards', 'A hidden jewel...   \n",
       "39998  [['Underground restaurant', 'Oldest Restaurant...   \n",
       "39999  [['Average', 'Nice an informal'], ['01/31/2016...   \n",
       "\n",
       "                                                  URL_TA     ID_TA  ...  \\\n",
       "0      /Restaurant_Review-g187147-d1912643-Reviews-R_...  d1912643  ...   \n",
       "1      /Restaurant_Review-g189852-d7992032-Reviews-Bu...  d7992032  ...   \n",
       "2      /Restaurant_Review-g186338-d8632781-Reviews-RO...  d8632781  ...   \n",
       "3      /Restaurant_Review-g187323-d1358776-Reviews-Es...  d1358776  ...   \n",
       "4      /Restaurant_Review-g187309-d6864963-Reviews-Au...  d6864963  ...   \n",
       "...                                                  ...       ...  ...   \n",
       "39995  /Restaurant_Review-g187849-d2104414-Reviews-Ro...  d2104414  ...   \n",
       "39996  /Restaurant_Review-g187147-d1800036-Reviews-La...  d1800036  ...   \n",
       "39997  /Restaurant_Review-g189852-d947615-Reviews-Sus...   d947615  ...   \n",
       "39998  /Restaurant_Review-g274856-d1100838-Reviews-Ho...  d1100838  ...   \n",
       "39999  /Restaurant_Review-g187849-d1109020-Reviews-Ta...  d1109020  ...   \n",
       "\n",
       "       City_new_Munich  City_new_Oporto  City_new_Oslo  City_new_Paris  \\\n",
       "0                    0                0              0               1   \n",
       "1                    0                0              0               0   \n",
       "2                    0                0              0               0   \n",
       "3                    0                0              0               0   \n",
       "4                    1                0              0               0   \n",
       "...                ...              ...            ...             ...   \n",
       "39995                0                0              0               0   \n",
       "39996                0                0              0               1   \n",
       "39997                0                0              0               0   \n",
       "39998                0                0              0               0   \n",
       "39999                0                0              0               0   \n",
       "\n",
       "       City_new_Prague  City_new_Rome  City_new_Stockholm  City_new_Vienna  \\\n",
       "0                    0              0                   0                0   \n",
       "1                    0              0                   1                0   \n",
       "2                    0              0                   0                0   \n",
       "3                    0              0                   0                0   \n",
       "4                    0              0                   0                0   \n",
       "...                ...            ...                 ...              ...   \n",
       "39995                0              0                   0                0   \n",
       "39996                0              0                   0                0   \n",
       "39997                0              0                   1                0   \n",
       "39998                0              0                   0                0   \n",
       "39999                0              0                   0                0   \n",
       "\n",
       "       City_new_Warsaw  City_new_Zurich  \n",
       "0                    0                0  \n",
       "1                    0                0  \n",
       "2                    0                0  \n",
       "3                    0                0  \n",
       "4                    0                0  \n",
       "...                ...              ...  \n",
       "39995                0                0  \n",
       "39996                0                0  \n",
       "39997                0                0  \n",
       "39998                1                0  \n",
       "39999                0                0  \n",
       "\n",
       "[40000 rows x 42 columns]"
      ]
     },
     "execution_count": 38,
     "metadata": {},
     "output_type": "execute_result"
    }
   ],
   "source": [
    "df"
   ]
  }
 ],
 "metadata": {
  "kernelspec": {
   "display_name": "Python 3",
   "language": "python",
   "name": "python3"
  },
  "language_info": {
   "codemirror_mode": {
    "name": "ipython",
    "version": 3
   },
   "file_extension": ".py",
   "mimetype": "text/x-python",
   "name": "python",
   "nbconvert_exporter": "python",
   "pygments_lexer": "ipython3",
   "version": "3.8.8"
  }
 },
 "nbformat": 4,
 "nbformat_minor": 5
}
