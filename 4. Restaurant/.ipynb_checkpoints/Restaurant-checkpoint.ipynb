{
 "cells": [
  {
   "cell_type": "markdown",
   "id": "402eaa98-cc03-4747-9539-2716f6e9e3e3",
   "metadata": {},
   "source": [
    "Restaurant_id - идентификационный номер ресторана / сети ресторанов  \n",
    "City - город, в котором находится ресторан  \n",
    "Cuisine Style - кухня или кухни, к которым можно отнести блюда, предлагаемые в ресторане  \n",
    "Ranking - место, которое занимает данный ресторан среди всех ресторанов своего города  \n",
    "Rating - рейтинг ресторана по данным TripAdvisor (именно это значение должна была предсказывать модель)  \n",
    "Price Range - диапазон цен в ресторане  \n",
    "Number of Reviews - количетво отзывов в ресторане  \n",
    "Reviews - данные о двух отзывах, которые отображаются на сайте ресторана  \n",
    "URL_TA - URL страницы ресторана на TripAdvisor  \n",
    "ID_TA - идентификатор ресторана в базе данных TripAdvisor"
   ]
  }
 ],
 "metadata": {
  "kernelspec": {
   "display_name": "Python 3",
   "language": "python",
   "name": "python3"
  },
  "language_info": {
   "codemirror_mode": {
    "name": "ipython",
    "version": 3
   },
   "file_extension": ".py",
   "mimetype": "text/x-python",
   "name": "python",
   "nbconvert_exporter": "python",
   "pygments_lexer": "ipython3",
   "version": "3.8.8"
  }
 },
 "nbformat": 4,
 "nbformat_minor": 5
}
