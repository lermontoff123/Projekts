{
 "cells": [
  {
   "cell_type": "code",
   "execution_count": 1,
   "id": "2b048a78-673d-4e22-8d7f-470b2aa16af6",
   "metadata": {
    "tags": []
   },
   "outputs": [],
   "source": [
    "import os\n",
    "\n",
    "# Для Windows\n",
    "os.environ['PATH'] += r';C:\\Users\\user\\AppData\\Local\\Programs\\Ollama'\n",
    "\n",
    "# Для Linux/macOS\n",
    "# os.environ['PATH'] += ':/usr/local/bin'"
   ]
  },
  {
   "cell_type": "raw",
   "id": "21cde43f-2ce8-499e-8cc3-5c05d60a5841",
   "metadata": {
    "tags": []
   },
   "source": [
    "# Запуск сервера (если не работает)\n",
    "!ollama serve &  # Linux/macOS\n",
    "# Или для Windows в отдельном терминале"
   ]
  },
  {
   "cell_type": "raw",
   "id": "b879722f-3a34-4f2c-9251-6fff29bbe782",
   "metadata": {
    "jupyter": {
     "outputs_hidden": true
    },
    "tags": []
   },
   "source": [
    "# Скачиваем модель (7B параметров, ~4.1 GB)\n",
    "!ollama pull mistral"
   ]
  },
  {
   "cell_type": "code",
   "execution_count": 7,
   "id": "d9f9502a-73da-482a-8559-07a7f6e5780d",
   "metadata": {
    "tags": []
   },
   "outputs": [
    {
     "data": {
      "application/vnd.jupyter.widget-view+json": {
       "model_id": "51cf72c8ca86446c9a18464b95dcf785",
       "version_major": 2,
       "version_minor": 0
      },
      "text/plain": [
       "VBox(children=(Output(), HBox(children=(Text(value='', placeholder='Введите сообщение...'), Button(description…"
      ]
     },
     "metadata": {},
     "output_type": "display_data"
    }
   ],
   "source": [
    "from datetime import datetime, timezone\n",
    "from langgraph.graph import MessageGraph\n",
    "from langgraph.prebuilt import ToolNode\n",
    "from langchain_core.messages import HumanMessage, AIMessage\n",
    "from langchain_community.llms import Ollama\n",
    "import ipywidgets as widgets\n",
    "from IPython.display import display\n",
    "\n",
    "# Инициализация модели\n",
    "model = Ollama(model=\"mistral\", temperature=0.1)\n",
    "\n",
    "# Инструмент времени\n",
    "def get_current_time():\n",
    "    return {\"utc\": datetime.now(timezone.utc).strftime(\"%Y-%m-%dT%H:%M:%SZ\")}\n",
    "\n",
    "chat_history = widgets.Output()\n",
    "msg_input = widgets.Text(placeholder=\"Введите сообщение...\")\n",
    "send_btn = widgets.Button(description=\"Отправить\")\n",
    "\n",
    "TIME_PHRASES = {\n",
    "    # Русские\n",
    "    \"который час\", \"сколько времени\", \"текущее время\",\n",
    "    \"точное время\", \"часочки\", \"сколько на часах\",\n",
    "    # Английские\n",
    "    \"what time is it\", \"what's the time\", \"current time\",\n",
    "    \"do you have the time\", \"time please\"\n",
    "}\n",
    "\n",
    "def on_click(btn):\n",
    "    with chat_history:\n",
    "        # Получаем сообщение\n",
    "        user_msg = msg_input.value\n",
    "        if not user_msg.strip():\n",
    "            return\n",
    "            \n",
    "        print(f\"Вы: {user_msg}\")\n",
    "        msg_input.value = \"\"\n",
    "        \n",
    "        # Обработка сообщения\n",
    "        messages = [HumanMessage(content=user_msg)]\n",
    "        response = model.invoke(messages)\n",
    "        \n",
    "        # Проверка на запрос времени\n",
    "        if user_msg.lower() in TIME_PHRASES:\n",
    "            time_data = get_current_time()\n",
    "            print(f\"Бот: Сейчас {time_data['utc']} (UTC)\")\n",
    "        else:\n",
    "            print(f\"Бот: {response}\")\n",
    "\n",
    "send_btn.on_click(on_click)\n",
    "display(widgets.VBox([chat_history, widgets.HBox([msg_input, send_btn])]))"
   ]
  }
 ],
 "metadata": {
  "kernelspec": {
   "display_name": "Python 3 (ipykernel)",
   "language": "python",
   "name": "python3"
  },
  "language_info": {
   "codemirror_mode": {
    "name": "ipython",
    "version": 3
   },
   "file_extension": ".py",
   "mimetype": "text/x-python",
   "name": "python",
   "nbconvert_exporter": "python",
   "pygments_lexer": "ipython3",
   "version": "3.11.4"
  }
 },
 "nbformat": 4,
 "nbformat_minor": 5
}
