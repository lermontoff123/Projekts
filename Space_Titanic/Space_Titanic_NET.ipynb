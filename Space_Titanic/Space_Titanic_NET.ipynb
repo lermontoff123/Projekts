{
 "cells": [
  {
   "cell_type": "code",
   "execution_count": 1,
   "id": "3f776321-84bb-4016-a9a4-ea0a58234d69",
   "metadata": {
    "tags": []
   },
   "outputs": [],
   "source": [
    "import pandas as pd\n",
    "import numpy as np\n",
    "import random\n",
    "import datetime\n",
    "\n",
    "from sklearn.preprocessing import RobustScaler, MinMaxScaler, PolynomialFeatures\n",
    "from sklearn.model_selection import train_test_split\n",
    "import torch\n",
    "import torch.utils.data as data_torch\n",
    "import torch.nn as nn\n",
    "import torch.nn.functional as F\n",
    "import torch.optim as optim\n",
    "import matplotlib.pyplot as plt\n",
    "\n",
    "from ydata_profiling import ProfileReport # подробный разбор признаков"
   ]
  },
  {
   "cell_type": "code",
   "execution_count": 2,
   "id": "8a647c34-9f04-4dc2-b7c4-1598bdbdbc50",
   "metadata": {
    "tags": []
   },
   "outputs": [],
   "source": [
    "data_patch = '.\\\\'"
   ]
  },
  {
   "cell_type": "code",
   "execution_count": 3,
   "id": "b2518778-e0f3-4b9e-a1dc-d9dc3bb440d2",
   "metadata": {
    "tags": []
   },
   "outputs": [
    {
     "data": {
      "text/html": [
       "<div>\n",
       "<style scoped>\n",
       "    .dataframe tbody tr th:only-of-type {\n",
       "        vertical-align: middle;\n",
       "    }\n",
       "\n",
       "    .dataframe tbody tr th {\n",
       "        vertical-align: top;\n",
       "    }\n",
       "\n",
       "    .dataframe thead th {\n",
       "        text-align: right;\n",
       "    }\n",
       "</style>\n",
       "<table border=\"1\" class=\"dataframe\">\n",
       "  <thead>\n",
       "    <tr style=\"text-align: right;\">\n",
       "      <th></th>\n",
       "      <th>PassengerId</th>\n",
       "      <th>HomePlanet</th>\n",
       "      <th>CryoSleep</th>\n",
       "      <th>Cabin</th>\n",
       "      <th>Destination</th>\n",
       "      <th>Age</th>\n",
       "      <th>VIP</th>\n",
       "      <th>RoomService</th>\n",
       "      <th>FoodCourt</th>\n",
       "      <th>ShoppingMall</th>\n",
       "      <th>Spa</th>\n",
       "      <th>VRDeck</th>\n",
       "      <th>Name</th>\n",
       "      <th>Transported</th>\n",
       "    </tr>\n",
       "  </thead>\n",
       "  <tbody>\n",
       "    <tr>\n",
       "      <th>0</th>\n",
       "      <td>0001_01</td>\n",
       "      <td>Europa</td>\n",
       "      <td>False</td>\n",
       "      <td>B/0/P</td>\n",
       "      <td>TRAPPIST-1e</td>\n",
       "      <td>39.0</td>\n",
       "      <td>False</td>\n",
       "      <td>0.0</td>\n",
       "      <td>0.0</td>\n",
       "      <td>0.0</td>\n",
       "      <td>0.0</td>\n",
       "      <td>0.0</td>\n",
       "      <td>Maham Ofracculy</td>\n",
       "      <td>False</td>\n",
       "    </tr>\n",
       "    <tr>\n",
       "      <th>1</th>\n",
       "      <td>0002_01</td>\n",
       "      <td>Earth</td>\n",
       "      <td>False</td>\n",
       "      <td>F/0/S</td>\n",
       "      <td>TRAPPIST-1e</td>\n",
       "      <td>24.0</td>\n",
       "      <td>False</td>\n",
       "      <td>109.0</td>\n",
       "      <td>9.0</td>\n",
       "      <td>25.0</td>\n",
       "      <td>549.0</td>\n",
       "      <td>44.0</td>\n",
       "      <td>Juanna Vines</td>\n",
       "      <td>True</td>\n",
       "    </tr>\n",
       "    <tr>\n",
       "      <th>2</th>\n",
       "      <td>0003_01</td>\n",
       "      <td>Europa</td>\n",
       "      <td>False</td>\n",
       "      <td>A/0/S</td>\n",
       "      <td>TRAPPIST-1e</td>\n",
       "      <td>58.0</td>\n",
       "      <td>True</td>\n",
       "      <td>43.0</td>\n",
       "      <td>3576.0</td>\n",
       "      <td>0.0</td>\n",
       "      <td>6715.0</td>\n",
       "      <td>49.0</td>\n",
       "      <td>Altark Susent</td>\n",
       "      <td>False</td>\n",
       "    </tr>\n",
       "    <tr>\n",
       "      <th>3</th>\n",
       "      <td>0003_02</td>\n",
       "      <td>Europa</td>\n",
       "      <td>False</td>\n",
       "      <td>A/0/S</td>\n",
       "      <td>TRAPPIST-1e</td>\n",
       "      <td>33.0</td>\n",
       "      <td>False</td>\n",
       "      <td>0.0</td>\n",
       "      <td>1283.0</td>\n",
       "      <td>371.0</td>\n",
       "      <td>3329.0</td>\n",
       "      <td>193.0</td>\n",
       "      <td>Solam Susent</td>\n",
       "      <td>False</td>\n",
       "    </tr>\n",
       "    <tr>\n",
       "      <th>4</th>\n",
       "      <td>0004_01</td>\n",
       "      <td>Earth</td>\n",
       "      <td>False</td>\n",
       "      <td>F/1/S</td>\n",
       "      <td>TRAPPIST-1e</td>\n",
       "      <td>16.0</td>\n",
       "      <td>False</td>\n",
       "      <td>303.0</td>\n",
       "      <td>70.0</td>\n",
       "      <td>151.0</td>\n",
       "      <td>565.0</td>\n",
       "      <td>2.0</td>\n",
       "      <td>Willy Santantines</td>\n",
       "      <td>True</td>\n",
       "    </tr>\n",
       "    <tr>\n",
       "      <th>...</th>\n",
       "      <td>...</td>\n",
       "      <td>...</td>\n",
       "      <td>...</td>\n",
       "      <td>...</td>\n",
       "      <td>...</td>\n",
       "      <td>...</td>\n",
       "      <td>...</td>\n",
       "      <td>...</td>\n",
       "      <td>...</td>\n",
       "      <td>...</td>\n",
       "      <td>...</td>\n",
       "      <td>...</td>\n",
       "      <td>...</td>\n",
       "      <td>...</td>\n",
       "    </tr>\n",
       "    <tr>\n",
       "      <th>8688</th>\n",
       "      <td>9276_01</td>\n",
       "      <td>Europa</td>\n",
       "      <td>False</td>\n",
       "      <td>A/98/P</td>\n",
       "      <td>55 Cancri e</td>\n",
       "      <td>41.0</td>\n",
       "      <td>True</td>\n",
       "      <td>0.0</td>\n",
       "      <td>6819.0</td>\n",
       "      <td>0.0</td>\n",
       "      <td>1643.0</td>\n",
       "      <td>74.0</td>\n",
       "      <td>Gravior Noxnuther</td>\n",
       "      <td>False</td>\n",
       "    </tr>\n",
       "    <tr>\n",
       "      <th>8689</th>\n",
       "      <td>9278_01</td>\n",
       "      <td>Earth</td>\n",
       "      <td>True</td>\n",
       "      <td>G/1499/S</td>\n",
       "      <td>PSO J318.5-22</td>\n",
       "      <td>18.0</td>\n",
       "      <td>False</td>\n",
       "      <td>0.0</td>\n",
       "      <td>0.0</td>\n",
       "      <td>0.0</td>\n",
       "      <td>0.0</td>\n",
       "      <td>0.0</td>\n",
       "      <td>Kurta Mondalley</td>\n",
       "      <td>False</td>\n",
       "    </tr>\n",
       "    <tr>\n",
       "      <th>8690</th>\n",
       "      <td>9279_01</td>\n",
       "      <td>Earth</td>\n",
       "      <td>False</td>\n",
       "      <td>G/1500/S</td>\n",
       "      <td>TRAPPIST-1e</td>\n",
       "      <td>26.0</td>\n",
       "      <td>False</td>\n",
       "      <td>0.0</td>\n",
       "      <td>0.0</td>\n",
       "      <td>1872.0</td>\n",
       "      <td>1.0</td>\n",
       "      <td>0.0</td>\n",
       "      <td>Fayey Connon</td>\n",
       "      <td>True</td>\n",
       "    </tr>\n",
       "    <tr>\n",
       "      <th>8691</th>\n",
       "      <td>9280_01</td>\n",
       "      <td>Europa</td>\n",
       "      <td>False</td>\n",
       "      <td>E/608/S</td>\n",
       "      <td>55 Cancri e</td>\n",
       "      <td>32.0</td>\n",
       "      <td>False</td>\n",
       "      <td>0.0</td>\n",
       "      <td>1049.0</td>\n",
       "      <td>0.0</td>\n",
       "      <td>353.0</td>\n",
       "      <td>3235.0</td>\n",
       "      <td>Celeon Hontichre</td>\n",
       "      <td>False</td>\n",
       "    </tr>\n",
       "    <tr>\n",
       "      <th>8692</th>\n",
       "      <td>9280_02</td>\n",
       "      <td>Europa</td>\n",
       "      <td>False</td>\n",
       "      <td>E/608/S</td>\n",
       "      <td>TRAPPIST-1e</td>\n",
       "      <td>44.0</td>\n",
       "      <td>False</td>\n",
       "      <td>126.0</td>\n",
       "      <td>4688.0</td>\n",
       "      <td>0.0</td>\n",
       "      <td>0.0</td>\n",
       "      <td>12.0</td>\n",
       "      <td>Propsh Hontichre</td>\n",
       "      <td>True</td>\n",
       "    </tr>\n",
       "  </tbody>\n",
       "</table>\n",
       "<p>8693 rows × 14 columns</p>\n",
       "</div>"
      ],
      "text/plain": [
       "     PassengerId HomePlanet CryoSleep     Cabin    Destination   Age    VIP  \\\n",
       "0        0001_01     Europa     False     B/0/P    TRAPPIST-1e  39.0  False   \n",
       "1        0002_01      Earth     False     F/0/S    TRAPPIST-1e  24.0  False   \n",
       "2        0003_01     Europa     False     A/0/S    TRAPPIST-1e  58.0   True   \n",
       "3        0003_02     Europa     False     A/0/S    TRAPPIST-1e  33.0  False   \n",
       "4        0004_01      Earth     False     F/1/S    TRAPPIST-1e  16.0  False   \n",
       "...          ...        ...       ...       ...            ...   ...    ...   \n",
       "8688     9276_01     Europa     False    A/98/P    55 Cancri e  41.0   True   \n",
       "8689     9278_01      Earth      True  G/1499/S  PSO J318.5-22  18.0  False   \n",
       "8690     9279_01      Earth     False  G/1500/S    TRAPPIST-1e  26.0  False   \n",
       "8691     9280_01     Europa     False   E/608/S    55 Cancri e  32.0  False   \n",
       "8692     9280_02     Europa     False   E/608/S    TRAPPIST-1e  44.0  False   \n",
       "\n",
       "      RoomService  FoodCourt  ShoppingMall     Spa  VRDeck               Name  \\\n",
       "0             0.0        0.0           0.0     0.0     0.0    Maham Ofracculy   \n",
       "1           109.0        9.0          25.0   549.0    44.0       Juanna Vines   \n",
       "2            43.0     3576.0           0.0  6715.0    49.0      Altark Susent   \n",
       "3             0.0     1283.0         371.0  3329.0   193.0       Solam Susent   \n",
       "4           303.0       70.0         151.0   565.0     2.0  Willy Santantines   \n",
       "...           ...        ...           ...     ...     ...                ...   \n",
       "8688          0.0     6819.0           0.0  1643.0    74.0  Gravior Noxnuther   \n",
       "8689          0.0        0.0           0.0     0.0     0.0    Kurta Mondalley   \n",
       "8690          0.0        0.0        1872.0     1.0     0.0       Fayey Connon   \n",
       "8691          0.0     1049.0           0.0   353.0  3235.0   Celeon Hontichre   \n",
       "8692        126.0     4688.0           0.0     0.0    12.0   Propsh Hontichre   \n",
       "\n",
       "      Transported  \n",
       "0           False  \n",
       "1            True  \n",
       "2           False  \n",
       "3           False  \n",
       "4            True  \n",
       "...           ...  \n",
       "8688        False  \n",
       "8689        False  \n",
       "8690         True  \n",
       "8691        False  \n",
       "8692         True  \n",
       "\n",
       "[8693 rows x 14 columns]"
      ]
     },
     "execution_count": 3,
     "metadata": {},
     "output_type": "execute_result"
    }
   ],
   "source": [
    "pd.read_csv(data_patch + 'train.csv')"
   ]
  },
  {
   "cell_type": "code",
   "execution_count": 4,
   "id": "906dac1e-df80-4499-8925-f5bb8317f400",
   "metadata": {},
   "outputs": [],
   "source": [
    "def preprocessing_data(filename, test=False):\n",
    "    \n",
    "    dataframe = pd.read_csv(filename).copy()\n",
    "    if test:\n",
    "        dataframe['PassengerId'].to_csv('sample_submission_NET.csv', sep=',', index=False)\n",
    "    else:\n",
    "        dataframe['Transported'] = dataframe['Transported'].map({True:1,False:0})\n",
    "        transported = dataframe['Transported']\n",
    "        dataframe = dataframe.drop(['Transported'], axis=1)\n",
    "                    \n",
    "    mask = dataframe['Age'].isna()\n",
    "    dataframe.loc[mask, 'Age'] = np.random.randint(10, 50, mask.sum())\n",
    "    dataframe['Cabin'] = dataframe['Cabin'].fillna(dataframe['Cabin'].mode()[0])\n",
    "    dataframe['PassengerId'] = dataframe['PassengerId'].apply(lambda x: str(x).split('_')[0])\n",
    "    dataframe['Name'] = dataframe['Name'].fillna(dataframe['Name'].mode()[0])\n",
    "    dataframe['Surname'] = dataframe['Name'].apply(lambda x: str(x).split(' ')[1])\n",
    "                \n",
    "    for i, col in enumerate(['Cabin_deck', 'Cabin_num', 'Cabin_side']):\n",
    "        dataframe[col] = dataframe['Cabin'].apply(lambda x: str(x).split('/')[i])\n",
    "    \n",
    "    for col in ['PassengerId', 'Cabin_deck', 'Cabin_side', 'Surname', 'HomePlanet', 'CryoSleep', 'Destination', 'VIP']:\n",
    "        for i, x in enumerate(list(dataframe[col].value_counts(ascending = True).index[:])):\n",
    "            dataframe[col] = dataframe[col].replace(x, (i+1))\n",
    "        \n",
    "    # for col in ['RoomService', 'FoodCourt', 'ShoppingMall', 'Spa', 'VRDeck']:\n",
    "    #     dataframe[col] = dataframe[col].apply(lambda x: 1 if x!=0 else 0)\n",
    "    \n",
    "    dataframe = dataframe.drop(['Cabin', 'Cabin_num', 'Name'], axis=1)\n",
    "    \n",
    "    for col in dataframe.columns:\n",
    "        modde = dataframe[col].mode()[0]\n",
    "        dataframe[col] = dataframe[col].fillna(modde)\n",
    "        a = dataframe[col].unique()\n",
    "        if col in ['HomePlanet', 'Destination']:\n",
    "            b = [1, 2, 3]\n",
    "            dataframe[col] = dataframe[col].replace(list(set(a).symmetric_difference(b)), modde)\n",
    "        elif col in ['CryoSleep', 'VIP']:\n",
    "            b = [1, 0]\n",
    "            dataframe[col] = dataframe[col].replace(list(set(a).symmetric_difference(b)), modde)\n",
    "                       \n",
    "    data_scaled = RobustScaler().fit_transform(dataframe)\n",
    "    data_scaled = MinMaxScaler().fit_transform(data_scaled)\n",
    "    data_scaled = pd.DataFrame(data=data_scaled)\n",
    "      \n",
    "    if test:        \n",
    "        data_scaled.to_csv('test_data.csv', sep=',', index=False)\n",
    "    else:\n",
    "        X_train, X_val, y_train, y_val = train_test_split(data_scaled, transported, test_size=0.2, random_state=2, stratify=transported, shuffle=True)\n",
    "        \n",
    "        X_train['Transported'] = y_train\n",
    "        X_val['Transported'] = y_val\n",
    "        X_train.to_csv('train_data.csv', sep=',', index=False)\n",
    "        X_val.to_csv('val_data.csv', sep=',', index=False)"
   ]
  },
  {
   "cell_type": "code",
   "execution_count": 5,
   "id": "3c3d53fd-ff2c-4f79-8b6a-a89f73bd6154",
   "metadata": {},
   "outputs": [],
   "source": [
    "preprocessing_data(data_patch + 'train.csv')\n",
    "preprocessing_data(data_patch + 'test.csv', test=True)"
   ]
  },
  {
   "cell_type": "code",
   "execution_count": 6,
   "id": "d792d296-1050-4133-8c46-fce206bb4510",
   "metadata": {
    "tags": []
   },
   "outputs": [],
   "source": [
    "class TitanicDataset(data_torch.Dataset):\n",
    "    \n",
    "    def __init__(self, filename, Train=True):\n",
    "        self.dataframe = pd.read_csv(filename).copy()\n",
    "                      \n",
    "        self.Train = Train\n",
    "        \n",
    "    def __len__(self):\n",
    "        return self.dataframe.shape[0]\n",
    "    \n",
    "    def __getitem__(self, idx):\n",
    "        if(self.Train):\n",
    "            survived = self.dataframe['Transported']\n",
    "            survived = np.array(survived)[idx]\n",
    "            features = self.dataframe.drop(['Transported'], axis=1)\n",
    "            features = np.array(features)[idx]\n",
    "        else:\n",
    "            features = np.array(self.dataframe)[idx]\n",
    "                \n",
    "        if(self.Train):\n",
    "            return features, survived\n",
    "        else:\n",
    "            return features"
   ]
  },
  {
   "cell_type": "code",
   "execution_count": 7,
   "id": "65d665d3-9c21-478c-8ae1-18b335c0310e",
   "metadata": {
    "tags": []
   },
   "outputs": [],
   "source": [
    "train_dataset = TitanicDataset(data_patch + 'train_data.csv')\n",
    "val_dataset = TitanicDataset(data_patch + 'val_data.csv')\n",
    "testing_dataset = TitanicDataset(data_patch + 'test_data.csv', Train=False)"
   ]
  },
  {
   "cell_type": "code",
   "execution_count": 8,
   "id": "8706a68a-192e-40ea-890d-4f2c373029c8",
   "metadata": {
    "tags": []
   },
   "outputs": [
    {
     "data": {
      "text/plain": [
       "(array([6.08108108e-01, 1.00000000e+00, 1.00000000e+00, 1.00000000e+00,\n",
       "        4.68354430e-01, 1.00000000e+00, 1.95435192e-03, 8.38560360e-04,\n",
       "        1.10675975e-03, 3.59692967e-02, 1.24311109e-04, 9.25992780e-01,\n",
       "        8.57142857e-01, 0.00000000e+00]),\n",
       " 0)"
      ]
     },
     "execution_count": 8,
     "metadata": {},
     "output_type": "execute_result"
    }
   ],
   "source": [
    "train_dataset.__getitem__(5)"
   ]
  },
  {
   "cell_type": "code",
   "execution_count": 9,
   "id": "563bb03d-f51c-436c-8655-784a80a21602",
   "metadata": {
    "tags": []
   },
   "outputs": [
    {
     "name": "stdout",
     "output_type": "stream",
     "text": [
      "[tensor([[0.5857, 0.0000, 1.0000,  ..., 0.4034, 0.2857, 0.0000],\n",
      "        [0.9641, 0.5000, 1.0000,  ..., 0.6471, 0.4286, 1.0000],\n",
      "        [0.6744, 0.0000, 0.0000,  ..., 0.6489, 0.7143, 0.0000],\n",
      "        ...,\n",
      "        [0.5796, 1.0000, 1.0000,  ..., 0.9003, 1.0000, 0.0000],\n",
      "        [0.7124, 0.5000, 1.0000,  ..., 0.5230, 0.4286, 0.0000],\n",
      "        [0.8020, 1.0000, 1.0000,  ..., 0.9851, 0.7143, 1.0000]],\n",
      "       dtype=torch.float64), tensor([0, 0, 0, 1, 1, 1, 1, 1, 1, 1, 0, 0, 1, 1, 1, 1, 0, 0, 1, 0, 0, 0, 0, 1,\n",
      "        1, 1, 0, 0, 0, 0, 0, 1, 1, 0, 0, 0, 0, 1, 1, 1, 1, 1, 1, 1, 1, 0, 0, 0,\n",
      "        1, 1, 1, 1, 1, 1, 1, 1, 1, 1, 0, 0, 1, 0, 0, 1, 1, 1, 0, 0, 0, 1, 1, 1,\n",
      "        0, 1, 1, 0, 1, 0, 0, 0, 0, 0, 1, 0, 0, 0, 0, 1, 1, 0, 0, 0, 1, 1, 0, 0,\n",
      "        0, 0, 0, 1])]\n"
     ]
    }
   ],
   "source": [
    "train_dataload = data_torch.DataLoader(train_dataset, shuffle=True, batch_size=100)\n",
    "t = iter(train_dataload)\n",
    "print(next(t))"
   ]
  },
  {
   "cell_type": "code",
   "execution_count": 10,
   "id": "3e57b904-14d7-4bc8-bfeb-e54272585dca",
   "metadata": {},
   "outputs": [
    {
     "name": "stdout",
     "output_type": "stream",
     "text": [
      "[tensor([[0.3851, 0.0000, 1.0000,  ..., 0.4084, 1.0000, 1.0000],\n",
      "        [0.8486, 0.5000, 1.0000,  ..., 0.8700, 0.5714, 1.0000],\n",
      "        [0.5209, 0.5000, 0.0000,  ..., 0.6561, 0.5714, 0.0000],\n",
      "        ...,\n",
      "        [0.9749, 1.0000, 1.0000,  ..., 0.9986, 0.8571, 1.0000],\n",
      "        [0.8250, 1.0000, 1.0000,  ..., 0.9743, 1.0000, 0.0000],\n",
      "        [0.9646, 0.0000, 1.0000,  ..., 0.9698, 1.0000, 0.0000]],\n",
      "       dtype=torch.float64), tensor([0, 1, 1, 0, 0, 0, 1, 0, 0, 1, 1, 1, 1, 0, 0, 0, 1, 0, 0, 0, 1, 0, 1, 0,\n",
      "        1, 1, 1, 1, 0, 0, 1, 0, 0, 0, 0, 0, 1, 0, 0, 1, 0, 1, 1, 0, 1, 0, 1, 0,\n",
      "        1, 0, 0, 0, 1, 1, 0, 1, 1, 1, 0, 0, 0, 1, 0, 0, 0, 1, 0, 0, 0, 0, 1, 1,\n",
      "        0, 0, 1, 0, 0, 1, 0, 0, 0, 1, 1, 0, 0, 0, 1, 0, 0, 1, 0, 1, 0, 0, 0, 0,\n",
      "        1, 1, 0, 1])]\n"
     ]
    }
   ],
   "source": [
    "val_dataload = data_torch.DataLoader(val_dataset, shuffle=True, batch_size=100)\n",
    "t = iter(val_dataload)\n",
    "print(next(t))"
   ]
  },
  {
   "cell_type": "code",
   "execution_count": 11,
   "id": "401eb7b5-499c-4a26-965c-ecf41df31137",
   "metadata": {
    "tags": []
   },
   "outputs": [
    {
     "name": "stdout",
     "output_type": "stream",
     "text": [
      "tensor([[0.1904, 1.0000, 1.0000,  ..., 0.0684, 1.0000, 1.0000],\n",
      "        [0.9151, 0.5000, 1.0000,  ..., 0.9994, 0.4286, 1.0000],\n",
      "        [0.2982, 1.0000, 1.0000,  ..., 0.9391, 1.0000, 0.0000],\n",
      "        ...,\n",
      "        [0.3671, 1.0000, 0.0000,  ..., 0.2912, 0.8571, 0.0000],\n",
      "        [0.9200, 1.0000, 0.0000,  ..., 0.8765, 0.8571, 0.0000],\n",
      "        [0.0088, 1.0000, 0.0000,  ..., 0.6497, 0.8571, 0.0000]],\n",
      "       dtype=torch.float64)\n"
     ]
    }
   ],
   "source": [
    "test_dataload = data_torch.DataLoader(testing_dataset, shuffle=True, batch_size=100)\n",
    "t = iter(test_dataload)\n",
    "print(next(t))"
   ]
  },
  {
   "cell_type": "raw",
   "id": "6dbe3b97-fdfb-4452-a1b6-2544aad83a2b",
   "metadata": {},
   "source": [
    "class Net(nn.Module):\n",
    "    \n",
    "    def __init__(self, col, a, b):\n",
    "        super(Net, self).__init__()\n",
    "        self.dl1 = nn.Linear(col, a)\n",
    "        self.dl2 = nn.Linear(a, b)\n",
    "        self.dl3 = nn.Linear(b, 1)\n",
    "        self.sigmoid = nn.Sigmoid()\n",
    "        \n",
    "    def forward(self, x):\n",
    "        x = F.relu(self.dl1(x))\n",
    "        x = F.relu(self.dl2(x))\n",
    "        x = self.sigmoid(self.dl3(x))\n",
    "        return x"
   ]
  },
  {
   "cell_type": "code",
   "execution_count": 15,
   "id": "34c0c705-8059-4d9b-bfdd-f34fa12403c4",
   "metadata": {
    "tags": []
   },
   "outputs": [],
   "source": [
    "class Net(nn.Module):\n",
    "    def __init__(self, col, a, b, c, d):\n",
    "        super(Net, self).__init__()\n",
    "        self.b1 = nn.Sequential(\n",
    "            nn.Linear(in_features=col,out_features=a),\n",
    "            nn.ReLU(),\n",
    "            nn.Dropout(0.5),\n",
    "            nn.BatchNorm1d(a),\n",
    "            nn.Linear(in_features=a,out_features=b),\n",
    "            nn.ReLU(),\n",
    "            nn.Dropout(0.5),\n",
    "            nn.BatchNorm1d(b),\n",
    "            nn.Linear(in_features=b,out_features=c),\n",
    "            nn.ReLU(),\n",
    "            nn.Dropout(0.4),\n",
    "            nn.BatchNorm1d(c),\n",
    "            nn.Linear(in_features=c,out_features=d),\n",
    "            nn.ReLU(),\n",
    "            nn.Dropout(0.4),\n",
    "            nn.BatchNorm1d(d),\n",
    "            nn.Linear(in_features=d,out_features=1),\n",
    "            nn.Sigmoid()\n",
    "        )\n",
    "    def forward(self,x):\n",
    "        x = self.b1(x)\n",
    "        return x"
   ]
  },
  {
   "cell_type": "markdown",
   "id": "39ef9b72-bcc2-430f-8b53-b6228f18945f",
   "metadata": {},
   "source": [
    "class Net(nn.Module):\n",
    "    def __init__(self, col, a, b):\n",
    "        super(Net, self).__init__()\n",
    "        self.classifier = nn.Sequential(\n",
    "            nn.Linear(col, a),\n",
    "            nn.BatchNorm1d(a),\n",
    "            nn.ReLU(),\n",
    "            nn.Dropout(0.1),\n",
    "            nn.Linear(a, b),\n",
    "            nn.BatchNorm1d(b),\n",
    "            nn.ReLU(),\n",
    "            nn.Dropout(0.1),\n",
    "            nn.Linear(b, a),\n",
    "            nn.BatchNorm1d(a),\n",
    "            nn.ReLU(),\n",
    "            nn.Dropout(0.1),\n",
    "            nn.Linear(a, 1),\n",
    "            nn.Sigmoid()\n",
    "        )\n",
    "\n",
    "    def forward(self, x):\n",
    "        x = x.view(x.size(0), -1)\n",
    "        x = self.classifier(x)\n",
    "        return x"
   ]
  },
  {
   "cell_type": "markdown",
   "id": "a9bcb3f5-d41b-4356-a57b-bf3f10d80187",
   "metadata": {},
   "source": [
    "class Net(nn.Module):\n",
    "    def __init__(self, col, a, b, c, d):\n",
    "        super(Net, self).__init__()\n",
    "        self.b1 = nn.Sequential(\n",
    "            nn.Linear(in_features=col,out_features=a),\n",
    "            nn.ReLU(),\n",
    "            nn.Dropout(0.5),\n",
    "            nn.BatchNorm1d(a),\n",
    "            nn.Linear(in_features=a,out_features=b),\n",
    "            nn.ReLU(),\n",
    "            nn.Dropout(0.5),\n",
    "            nn.BatchNorm1d(b),\n",
    "            nn.Linear(in_features=b,out_features=c),\n",
    "            nn.ReLU(),\n",
    "            nn.Dropout(0.4),\n",
    "            nn.BatchNorm1d(c),\n",
    "            nn.Linear(in_features=c,out_features=d),\n",
    "            nn.ReLU(),\n",
    "            nn.Dropout(0.4),\n",
    "            nn.BatchNorm1d(d),\n",
    "            nn.Linear(in_features=d,out_features=int(d/2)),\n",
    "            nn.ReLU(),\n",
    "            nn.Dropout(0.3),\n",
    "            nn.BatchNorm1d(int(d/2)),\n",
    "            nn.Linear(in_features=int(d/2),out_features=c),\n",
    "            nn.ReLU(),\n",
    "            nn.BatchNorm1d(c),\n",
    "            nn.Linear(in_features=c,out_features=1),\n",
    "            nn.Sigmoid()\n",
    "        )\n",
    "    def forward(self,x):\n",
    "        x = self.b1(x)\n",
    "        return x"
   ]
  },
  {
   "cell_type": "code",
   "execution_count": 16,
   "id": "19de4e7e-7a97-4dec-abd9-18093efd4eea",
   "metadata": {
    "tags": []
   },
   "outputs": [],
   "source": [
    "size_columns = len(next(iter(train_dataload))[0][0])\n",
    "hidden_layer1_coeff = 10\n",
    "hidden_layer2_coeff = 12\n",
    "hidden_layer3_coeff = 8\n",
    "hidden_layer4_coeff = 5\n",
    "lr = 0.05\n",
    "momentum = 0.9\n",
    "epochs = 50\n",
    "hidden_layer1 = round(hidden_layer1_coeff * size_columns)\n",
    "hidden_layer2 = round(hidden_layer2_coeff * size_columns)\n",
    "hidden_layer3 = round(hidden_layer3_coeff * size_columns)\n",
    "hidden_layer4 = round(hidden_layer4_coeff * size_columns)"
   ]
  },
  {
   "cell_type": "code",
   "execution_count": 17,
   "id": "58931252-4bc2-4fa2-adb9-756060e5e778",
   "metadata": {},
   "outputs": [
    {
     "name": "stdout",
     "output_type": "stream",
     "text": [
      "Net(\n",
      "  (b1): Sequential(\n",
      "    (0): Linear(in_features=14, out_features=140, bias=True)\n",
      "    (1): ReLU()\n",
      "    (2): Dropout(p=0.5, inplace=False)\n",
      "    (3): BatchNorm1d(140, eps=1e-05, momentum=0.1, affine=True, track_running_stats=True)\n",
      "    (4): Linear(in_features=140, out_features=168, bias=True)\n",
      "    (5): ReLU()\n",
      "    (6): Dropout(p=0.5, inplace=False)\n",
      "    (7): BatchNorm1d(168, eps=1e-05, momentum=0.1, affine=True, track_running_stats=True)\n",
      "    (8): Linear(in_features=168, out_features=112, bias=True)\n",
      "    (9): ReLU()\n",
      "    (10): Dropout(p=0.4, inplace=False)\n",
      "    (11): BatchNorm1d(112, eps=1e-05, momentum=0.1, affine=True, track_running_stats=True)\n",
      "    (12): Linear(in_features=112, out_features=70, bias=True)\n",
      "    (13): ReLU()\n",
      "    (14): Dropout(p=0.4, inplace=False)\n",
      "    (15): BatchNorm1d(70, eps=1e-05, momentum=0.1, affine=True, track_running_stats=True)\n",
      "    (16): Linear(in_features=70, out_features=1, bias=True)\n",
      "    (17): Sigmoid()\n",
      "  )\n",
      ")\n"
     ]
    }
   ],
   "source": [
    "#net = Net(size_columns, hidden_layer1, hidden_layer2)\n",
    "net = Net(size_columns, hidden_layer1, hidden_layer2, hidden_layer3, hidden_layer4)\n",
    "print(net)\n"
   ]
  },
  {
   "cell_type": "markdown",
   "id": "e78c0af5-4324-4e50-a139-ee1b1f33e705",
   "metadata": {
    "tags": []
   },
   "source": [
    "net = Net(size_columns, hidden_layer1, hidden_layer2)\n",
    "print(net)"
   ]
  },
  {
   "cell_type": "code",
   "execution_count": 18,
   "id": "35969110-ee8b-4be0-a99e-4e5b81a34eeb",
   "metadata": {},
   "outputs": [],
   "source": [
    "#optimizer = optim.SGD(net.parameters(), lr = lr, momentum = momentum)\n",
    "optimizer = optim.Adam(net.parameters(), lr = lr)\n",
    "criterion = nn.BCELoss()"
   ]
  },
  {
   "cell_type": "code",
   "execution_count": 19,
   "id": "722a230d-d158-4ce8-abdb-2c7ca658aec7",
   "metadata": {},
   "outputs": [],
   "source": [
    "def train(model, training_data, optimizer, criterion, epochs=10):\n",
    "    #dev = torch.device(\"cuda\" if torch.cuda.is_available() else \"cpu\")\n",
    "    dev = torch.device(\"cpu\")\n",
    "    model = model.to(dev)\n",
    "    losses = []\n",
    "    accuracy = []\n",
    "    for epoch in range(epochs):\n",
    "        running_loss = 0.0\n",
    "        batch = 0\n",
    "        for  X, y in training_data:\n",
    "            X , y = X.to(dev) , y.to(dev)\n",
    "            \n",
    "            features = len(next(iter(training_data))[0][0])\n",
    "            X = X.view(-1, features)\n",
    "            y = y.view(-1, 1)\n",
    "            \n",
    "            optimizer.zero_grad()\n",
    "            \n",
    "            prob_y = model(X.float())\n",
    "            \n",
    "            y_pred = (prob_y > torch.Tensor([0.5])).long().squeeze()\n",
    "            \n",
    "            accuracy.append((y_pred==y).sum().item()/len(y_pred))\n",
    "            \n",
    "            loss = criterion(prob_y, y.float())\n",
    "            \n",
    "            loss.backward()\n",
    "            \n",
    "            optimizer.step()\n",
    "            \n",
    "            running_loss += loss.item()\n",
    "            \n",
    "            batch += 1\n",
    "        # средние потери на каждой эпохе    \n",
    "        losses.append(running_loss/batch)\n",
    "        if epoch%5==0:\n",
    "            print('epochs {} done'.format(epoch+5))\n",
    "        \n",
    "    print(\"Fin\")\n",
    "    return (losses, accuracy)"
   ]
  },
  {
   "cell_type": "code",
   "execution_count": 20,
   "id": "86b56074-2bc1-47cc-8a79-12b0fb2a1c7b",
   "metadata": {
    "tags": []
   },
   "outputs": [
    {
     "name": "stdout",
     "output_type": "stream",
     "text": [
      "epochs 5 done\n",
      "epochs 10 done\n",
      "Fin\n"
     ]
    }
   ],
   "source": [
    "losses, accuracy = train(net, train_dataload, optimizer, criterion)"
   ]
  },
  {
   "cell_type": "code",
   "execution_count": 21,
   "id": "1dd5b2ec-cd34-469a-bb28-230c222866bb",
   "metadata": {
    "tags": []
   },
   "outputs": [],
   "source": [
    "def plot_loss_acc(losses, accuracy):\n",
    "    figure = plt.figure(figsize=(9,3))\n",
    "    plt.subplot(121, title=\"losses\")\n",
    "    plt.plot(range(1, len(losses)+1), losses)\n",
    "    plt.xlabel(\"epoch №\")\n",
    "    plt.ylabel(\"loss\")\n",
    "    plt.subplot(122, title=\"accuracy\")\n",
    "    plt.plot(range(1, len(accuracy)+1), accuracy)\n",
    "    plt.xlabel(\"batch №\")\n",
    "    plt.ylabel(\"accuracy\")"
   ]
  },
  {
   "cell_type": "code",
   "execution_count": 22,
   "id": "16f03dbf-ccf2-4087-8c0c-dd64cfad2e43",
   "metadata": {
    "tags": []
   },
   "outputs": [
    {
     "data": {
      "image/png": "[encoded data removed]",
      "text/plain": [
       "<Figure size 900x300 with 2 Axes>"
      ]
     },
     "metadata": {},
     "output_type": "display_data"
    }
   ],
   "source": [
    "plot_loss_acc(losses, accuracy)"
   ]
  },
  {
   "cell_type": "code",
   "execution_count": 23,
   "id": "9a90524d-9a28-4c24-a110-ead786fa31cd",
   "metadata": {
    "tags": []
   },
   "outputs": [],
   "source": [
    "MODEL_PATH = '.\\\\titanic_net_1.pth'\n",
    "torch.save(net.state_dict(), MODEL_PATH)"
   ]
  },
  {
   "cell_type": "code",
   "execution_count": 24,
   "id": "40387c31-b99e-4e4a-8cbf-49c2ba3fb1b6",
   "metadata": {
    "tags": []
   },
   "outputs": [],
   "source": [
    "def calc_test_acc(model, data, test=False):\n",
    "    correct = 0\n",
    "    total = 0\n",
    "    y_pred_test=[]\n",
    "    with torch.no_grad():\n",
    "        \n",
    "        if test==False:\n",
    "            for X, y in data:\n",
    "                X = X.squeeze()\n",
    "                prob_y = model(X.float())                     \n",
    "                y = y.squeeze()\n",
    "                y_pred = (prob_y > torch.Tensor([0.5])).long().squeeze()\n",
    "                total += len(y_pred)\n",
    "                correct += (y_pred == y).sum().item()\n",
    "            print(round((correct/total)*100, 3))\n",
    "        else:\n",
    "            for X in data:\n",
    "                X = X.squeeze()\n",
    "                prob_y = model(X.float())\n",
    "                y_pred = (prob_y > torch.Tensor([0.5])).long().squeeze().numpy()\n",
    "                y_pred_test = np.concatenate((y_pred_test, y_pred), axis=None)                        \n",
    "            data = pd.read_csv('sample_submission_NET.csv', sep=',')\n",
    "            data['Transported'] = y_pred_test\n",
    "            data['Transported'] = data['Transported'].astype(bool)\n",
    "            data.to_csv('sample_submission_NET.csv', sep=',', index=False)"
   ]
  },
  {
   "cell_type": "code",
   "execution_count": 25,
   "id": "461d8141-15a7-483e-86c8-34faea0b5575",
   "metadata": {
    "tags": []
   },
   "outputs": [
    {
     "name": "stdout",
     "output_type": "stream",
     "text": [
      "74.633\n"
     ]
    }
   ],
   "source": [
    "calc_test_acc(net, train_dataload)"
   ]
  },
  {
   "cell_type": "code",
   "execution_count": 26,
   "id": "6a313491-1694-4f9d-a930-8378488b036f",
   "metadata": {
    "tags": []
   },
   "outputs": [
    {
     "name": "stdout",
     "output_type": "stream",
     "text": [
      "74.238\n"
     ]
    }
   ],
   "source": [
    "calc_test_acc(net, val_dataload)"
   ]
  },
  {
   "cell_type": "code",
   "execution_count": 27,
   "id": "fd900d64-2543-479f-a9c9-434a203c7606",
   "metadata": {
    "tags": []
   },
   "outputs": [],
   "source": [
    "calc_test_acc(net, test_dataload, test=True)"
   ]
  },
  {
   "cell_type": "code",
   "execution_count": 28,
   "id": "231d3221-6fa1-4b29-8206-5c5d013e46f7",
   "metadata": {
    "tags": []
   },
   "outputs": [
    {
     "data": {
      "text/html": [
       "<div>\n",
       "<style scoped>\n",
       "    .dataframe tbody tr th:only-of-type {\n",
       "        vertical-align: middle;\n",
       "    }\n",
       "\n",
       "    .dataframe tbody tr th {\n",
       "        vertical-align: top;\n",
       "    }\n",
       "\n",
       "    .dataframe thead th {\n",
       "        text-align: right;\n",
       "    }\n",
       "</style>\n",
       "<table border=\"1\" class=\"dataframe\">\n",
       "  <thead>\n",
       "    <tr style=\"text-align: right;\">\n",
       "      <th></th>\n",
       "      <th>PassengerId</th>\n",
       "      <th>Transported</th>\n",
       "    </tr>\n",
       "  </thead>\n",
       "  <tbody>\n",
       "    <tr>\n",
       "      <th>0</th>\n",
       "      <td>0013_01</td>\n",
       "      <td>False</td>\n",
       "    </tr>\n",
       "    <tr>\n",
       "      <th>1</th>\n",
       "      <td>0018_01</td>\n",
       "      <td>False</td>\n",
       "    </tr>\n",
       "    <tr>\n",
       "      <th>2</th>\n",
       "      <td>0019_01</td>\n",
       "      <td>False</td>\n",
       "    </tr>\n",
       "    <tr>\n",
       "      <th>3</th>\n",
       "      <td>0021_01</td>\n",
       "      <td>True</td>\n",
       "    </tr>\n",
       "    <tr>\n",
       "      <th>4</th>\n",
       "      <td>0023_01</td>\n",
       "      <td>True</td>\n",
       "    </tr>\n",
       "    <tr>\n",
       "      <th>...</th>\n",
       "      <td>...</td>\n",
       "      <td>...</td>\n",
       "    </tr>\n",
       "    <tr>\n",
       "      <th>4272</th>\n",
       "      <td>9266_02</td>\n",
       "      <td>False</td>\n",
       "    </tr>\n",
       "    <tr>\n",
       "      <th>4273</th>\n",
       "      <td>9269_01</td>\n",
       "      <td>False</td>\n",
       "    </tr>\n",
       "    <tr>\n",
       "      <th>4274</th>\n",
       "      <td>9271_01</td>\n",
       "      <td>True</td>\n",
       "    </tr>\n",
       "    <tr>\n",
       "      <th>4275</th>\n",
       "      <td>9273_01</td>\n",
       "      <td>False</td>\n",
       "    </tr>\n",
       "    <tr>\n",
       "      <th>4276</th>\n",
       "      <td>9277_01</td>\n",
       "      <td>True</td>\n",
       "    </tr>\n",
       "  </tbody>\n",
       "</table>\n",
       "<p>4277 rows × 2 columns</p>\n",
       "</div>"
      ],
      "text/plain": [
       "     PassengerId  Transported\n",
       "0        0013_01        False\n",
       "1        0018_01        False\n",
       "2        0019_01        False\n",
       "3        0021_01         True\n",
       "4        0023_01         True\n",
       "...          ...          ...\n",
       "4272     9266_02        False\n",
       "4273     9269_01        False\n",
       "4274     9271_01         True\n",
       "4275     9273_01        False\n",
       "4276     9277_01         True\n",
       "\n",
       "[4277 rows x 2 columns]"
      ]
     },
     "execution_count": 28,
     "metadata": {},
     "output_type": "execute_result"
    }
   ],
   "source": [
    "pd.read_csv('sample_submission_NET.csv', sep=',').copy()"
   ]
  },
  {
   "cell_type": "code",
   "execution_count": null,
   "id": "efd15b87-f379-4902-98e9-4a495994ffc0",
   "metadata": {},
   "outputs": [],
   "source": []
  }
 ],
 "metadata": {
  "kernelspec": {
   "display_name": "Python 3 (ipykernel)",
   "language": "python",
   "name": "python3"
  },
  "language_info": {
   "codemirror_mode": {
    "name": "ipython",
    "version": 3
   },
   "file_extension": ".py",
   "mimetype": "text/x-python",
   "name": "python",
   "nbconvert_exporter": "python",
   "pygments_lexer": "ipython3",
   "version": "3.11.4"
  }
 },
 "nbformat": 4,
 "nbformat_minor": 5
}
