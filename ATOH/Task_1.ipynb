{
 "cells": [
  {
   "cell_type": "code",
   "execution_count": 74,
   "id": "b433809f-6854-42ed-a585-bd182ed9975e",
   "metadata": {
    "tags": []
   },
   "outputs": [],
   "source": [
    "import pandas as pd\n",
    "import numpy as np\n",
    "import matplotlib.pyplot as plt\n",
    "import seaborn as sns\n",
    "import warnings\n",
    "from ydata_profiling import ProfileReport # подробный разбор признаков\n",
    "from sklearn.experimental import enable_iterative_imputer\n",
    "from sklearn.impute import IterativeImputer #модель для автозаполнения пустых ячеек\n",
    "from sklearn.linear_model import LinearRegression\n",
    "data_patch = '.\\\\'"
   ]
  },
  {
   "cell_type": "code",
   "execution_count": 3,
   "id": "1e43c3d6-1422-488f-bd07-8fe3e6a5d4e6",
   "metadata": {
    "tags": []
   },
   "outputs": [
    {
     "data": {
      "text/html": [
       "<div>\n",
       "<style scoped>\n",
       "    .dataframe tbody tr th:only-of-type {\n",
       "        vertical-align: middle;\n",
       "    }\n",
       "\n",
       "    .dataframe tbody tr th {\n",
       "        vertical-align: top;\n",
       "    }\n",
       "\n",
       "    .dataframe thead th {\n",
       "        text-align: right;\n",
       "    }\n",
       "</style>\n",
       "<table border=\"1\" class=\"dataframe\">\n",
       "  <thead>\n",
       "    <tr style=\"text-align: right;\">\n",
       "      <th></th>\n",
       "      <th>transaction_id</th>\n",
       "      <th>client_id</th>\n",
       "      <th>transaction_date</th>\n",
       "      <th>service</th>\n",
       "      <th>amount</th>\n",
       "      <th>payment_method</th>\n",
       "      <th>city</th>\n",
       "      <th>consultant</th>\n",
       "    </tr>\n",
       "  </thead>\n",
       "  <tbody>\n",
       "    <tr>\n",
       "      <th>0</th>\n",
       "      <td>ff36597c-df41-44a0-9f46-6aa1fe615270</td>\n",
       "      <td>1ec5ab91-fdd0-4925-a221-f0c4e04fe0e7</td>\n",
       "      <td>2025-01-04 00:02:20</td>\n",
       "      <td>Структурирование капитала</td>\n",
       "      <td>55838.059789</td>\n",
       "      <td>Банковский перевод</td>\n",
       "      <td>North Patrickport</td>\n",
       "      <td>Cheryl Waller</td>\n",
       "    </tr>\n",
       "    <tr>\n",
       "      <th>1</th>\n",
       "      <td>0d5263ec-413d-44d9-a9d3-a996e3a56b05</td>\n",
       "      <td>c940f45c-d29b-439a-8fa3-f75018cef528</td>\n",
       "      <td>2025-03-10 17:16:50</td>\n",
       "      <td>Структурирование капитала</td>\n",
       "      <td>37514.809209</td>\n",
       "      <td>Неизвестно</td>\n",
       "      <td>New Zacharyport</td>\n",
       "      <td>Frank Pollard</td>\n",
       "    </tr>\n",
       "    <tr>\n",
       "      <th>2</th>\n",
       "      <td>5e9a8978-df1c-483f-a53b-16149c93f11e</td>\n",
       "      <td>cfa21d7e-8499-43d0-9dfb-f4a1b94ce44c</td>\n",
       "      <td>2025-02-13 19:43:49</td>\n",
       "      <td>Структурирование капитала</td>\n",
       "      <td>21022.146872</td>\n",
       "      <td>Неизвестно</td>\n",
       "      <td>Port Michellemouth</td>\n",
       "      <td>Alexandra Meyer</td>\n",
       "    </tr>\n",
       "    <tr>\n",
       "      <th>3</th>\n",
       "      <td>524031ea-56e2-410a-aee2-e8fc6ae3fbc5</td>\n",
       "      <td>NaN</td>\n",
       "      <td>2025-03-02 03:14:10</td>\n",
       "      <td>Финансовое планирование</td>\n",
       "      <td>2313.980219</td>\n",
       "      <td>Неизвестно</td>\n",
       "      <td>Erichaven</td>\n",
       "      <td>Patricia Haas</td>\n",
       "    </tr>\n",
       "    <tr>\n",
       "      <th>4</th>\n",
       "      <td>421aaf04-c97d-42ac-b35f-09a56bbaf910</td>\n",
       "      <td>3f43d7bc-37f0-4535-8391-51702d6ff81e</td>\n",
       "      <td>2025-03-18 21:00:36</td>\n",
       "      <td>Структурирование капитала</td>\n",
       "      <td>5636.586955</td>\n",
       "      <td>Неизвестно</td>\n",
       "      <td>Bondstad</td>\n",
       "      <td>Melissa Pena</td>\n",
       "    </tr>\n",
       "  </tbody>\n",
       "</table>\n",
       "</div>"
      ],
      "text/plain": [
       "                         transaction_id                             client_id  \\\n",
       "0  ff36597c-df41-44a0-9f46-6aa1fe615270  1ec5ab91-fdd0-4925-a221-f0c4e04fe0e7   \n",
       "1  0d5263ec-413d-44d9-a9d3-a996e3a56b05  c940f45c-d29b-439a-8fa3-f75018cef528   \n",
       "2  5e9a8978-df1c-483f-a53b-16149c93f11e  cfa21d7e-8499-43d0-9dfb-f4a1b94ce44c   \n",
       "3  524031ea-56e2-410a-aee2-e8fc6ae3fbc5                                   NaN   \n",
       "4  421aaf04-c97d-42ac-b35f-09a56bbaf910  3f43d7bc-37f0-4535-8391-51702d6ff81e   \n",
       "\n",
       "      transaction_date                    service        amount  \\\n",
       "0  2025-01-04 00:02:20  Структурирование капитала  55838.059789   \n",
       "1  2025-03-10 17:16:50  Структурирование капитала  37514.809209   \n",
       "2  2025-02-13 19:43:49  Структурирование капитала  21022.146872   \n",
       "3  2025-03-02 03:14:10    Финансовое планирование   2313.980219   \n",
       "4  2025-03-18 21:00:36  Структурирование капитала   5636.586955   \n",
       "\n",
       "       payment_method                city       consultant  \n",
       "0  Банковский перевод   North Patrickport    Cheryl Waller  \n",
       "1          Неизвестно     New Zacharyport    Frank Pollard  \n",
       "2          Неизвестно  Port Michellemouth  Alexandra Meyer  \n",
       "3          Неизвестно           Erichaven    Patricia Haas  \n",
       "4          Неизвестно            Bondstad     Melissa Pena  "
      ]
     },
     "execution_count": 3,
     "metadata": {},
     "output_type": "execute_result"
    }
   ],
   "source": [
    "transactions0 = pd.read_excel('transactions_data.xlsx')\n",
    "transactions = transactions0.copy()\n",
    "transactions.head()"
   ]
  },
  {
   "cell_type": "code",
   "execution_count": 4,
   "id": "d7714ce7-a606-4808-af76-8e7687c8ae21",
   "metadata": {
    "tags": []
   },
   "outputs": [
    {
     "data": {
      "text/html": [
       "<div>\n",
       "<style scoped>\n",
       "    .dataframe tbody tr th:only-of-type {\n",
       "        vertical-align: middle;\n",
       "    }\n",
       "\n",
       "    .dataframe tbody tr th {\n",
       "        vertical-align: top;\n",
       "    }\n",
       "\n",
       "    .dataframe thead th {\n",
       "        text-align: right;\n",
       "    }\n",
       "</style>\n",
       "<table border=\"1\" class=\"dataframe\">\n",
       "  <thead>\n",
       "    <tr style=\"text-align: right;\">\n",
       "      <th></th>\n",
       "      <th>id</th>\n",
       "      <th>age</th>\n",
       "      <th>gender</th>\n",
       "      <th>net_worth</th>\n",
       "    </tr>\n",
       "  </thead>\n",
       "  <tbody>\n",
       "    <tr>\n",
       "      <th>0</th>\n",
       "      <td>1ec5ab91-fdd0-4925-a221-f0c4e04fe0e7</td>\n",
       "      <td>41.0</td>\n",
       "      <td>Мужчина</td>\n",
       "      <td>2514729.46</td>\n",
       "    </tr>\n",
       "    <tr>\n",
       "      <th>1</th>\n",
       "      <td>c940f45c-d29b-439a-8fa3-f75018cef528</td>\n",
       "      <td>28.0</td>\n",
       "      <td>Мужчина</td>\n",
       "      <td>566568.29</td>\n",
       "    </tr>\n",
       "    <tr>\n",
       "      <th>2</th>\n",
       "      <td>cfa21d7e-8499-43d0-9dfb-f4a1b94ce44c</td>\n",
       "      <td>55.0</td>\n",
       "      <td>Женщина</td>\n",
       "      <td>1896001.28</td>\n",
       "    </tr>\n",
       "    <tr>\n",
       "      <th>3</th>\n",
       "      <td>None</td>\n",
       "      <td>38.0</td>\n",
       "      <td>Женщина</td>\n",
       "      <td>4538759.60</td>\n",
       "    </tr>\n",
       "    <tr>\n",
       "      <th>4</th>\n",
       "      <td>3f43d7bc-37f0-4535-8391-51702d6ff81e</td>\n",
       "      <td>31.0</td>\n",
       "      <td>Мужчина</td>\n",
       "      <td>4865849.92</td>\n",
       "    </tr>\n",
       "  </tbody>\n",
       "</table>\n",
       "</div>"
      ],
      "text/plain": [
       "                                     id   age   gender   net_worth\n",
       "0  1ec5ab91-fdd0-4925-a221-f0c4e04fe0e7  41.0  Мужчина  2514729.46\n",
       "1  c940f45c-d29b-439a-8fa3-f75018cef528  28.0  Мужчина   566568.29\n",
       "2  cfa21d7e-8499-43d0-9dfb-f4a1b94ce44c  55.0  Женщина  1896001.28\n",
       "3                                  None  38.0  Женщина  4538759.60\n",
       "4  3f43d7bc-37f0-4535-8391-51702d6ff81e  31.0  Мужчина  4865849.92"
      ]
     },
     "execution_count": 4,
     "metadata": {},
     "output_type": "execute_result"
    }
   ],
   "source": [
    "clients_data0 = pd.read_json('clients_data.json')\n",
    "clients_data = clients_data0.copy()\n",
    "clients_data.head()"
   ]
  },
  {
   "cell_type": "raw",
   "id": "68072d2c-388b-4ce6-b7cc-f8ef0f6e3939",
   "metadata": {
    "tags": []
   },
   "source": [
    "ProfileReport(transactions, title='My Data')"
   ]
  },
  {
   "cell_type": "raw",
   "id": "9600ddc4-cd47-4d36-9fcc-4ce21b3fe7fb",
   "metadata": {
    "tags": []
   },
   "source": [
    "ProfileReport(clients_data, title='My Data')"
   ]
  },
  {
   "cell_type": "markdown",
   "id": "def4c999-90ba-4dd2-b696-2f7da18b72e5",
   "metadata": {},
   "source": [
    "<div style=\"font-size: 30px\">\n",
    "1.Очистка и подготовка данных."
   ]
  },
  {
   "cell_type": "markdown",
   "id": "c27af1e1-4e34-4cb4-978c-4946c4e8b872",
   "metadata": {
    "tags": []
   },
   "source": [
    "Проверим данные на пропущенные и аномальные значения"
   ]
  },
  {
   "cell_type": "code",
   "execution_count": 5,
   "id": "41384e4c-bfa4-4526-ae66-bbbf856327ba",
   "metadata": {
    "tags": []
   },
   "outputs": [
    {
     "name": "stdout",
     "output_type": "stream",
     "text": [
      "<class 'pandas.core.frame.DataFrame'>\n",
      "RangeIndex: 10000 entries, 0 to 9999\n",
      "Data columns (total 8 columns):\n",
      " #   Column            Non-Null Count  Dtype  \n",
      "---  ------            --------------  -----  \n",
      " 0   transaction_id    9526 non-null   object \n",
      " 1   client_id         9798 non-null   object \n",
      " 2   transaction_date  10000 non-null  object \n",
      " 3   service           10000 non-null  object \n",
      " 4   amount            9540 non-null   float64\n",
      " 5   payment_method    10000 non-null  object \n",
      " 6   city              10000 non-null  object \n",
      " 7   consultant        10000 non-null  object \n",
      "dtypes: float64(1), object(7)\n",
      "memory usage: 625.1+ KB\n"
     ]
    }
   ],
   "source": [
    "transactions.info()"
   ]
  },
  {
   "cell_type": "markdown",
   "id": "4af94abf-e6dd-45eb-85f7-d311851e7ed6",
   "metadata": {
    "tags": []
   },
   "source": [
    "#Признак transaction_id не несёт в себе практического смысла и имеет достаточно много пропущенных значений. Удаляем его."
   ]
  },
  {
   "cell_type": "code",
   "execution_count": 6,
   "id": "98f019c6-5738-4952-ae3c-3f03e30c843c",
   "metadata": {
    "tags": []
   },
   "outputs": [],
   "source": [
    "transactions.drop('transaction_id', axis=1, inplace=True)"
   ]
  },
  {
   "cell_type": "markdown",
   "id": "51cd086b-5a7f-43e6-bfab-21d4168a0458",
   "metadata": {},
   "source": [
    "#Признак client_id будет использоваться нами для соединения с датасетом clients_data. Поэтому, пока, отсутствующие строки удалим."
   ]
  },
  {
   "cell_type": "code",
   "execution_count": 7,
   "id": "27dbee82-3ab0-49ff-b1eb-366f516bc40d",
   "metadata": {
    "tags": []
   },
   "outputs": [],
   "source": [
    "transactions.dropna(subset=['client_id'], inplace=True)"
   ]
  },
  {
   "cell_type": "code",
   "execution_count": 8,
   "id": "ae03f24e-6670-4f3f-80f7-d32c2871f28f",
   "metadata": {
    "tags": []
   },
   "outputs": [
    {
     "name": "stdout",
     "output_type": "stream",
     "text": [
      "<class 'pandas.core.frame.DataFrame'>\n",
      "Index: 9798 entries, 0 to 9999\n",
      "Data columns (total 7 columns):\n",
      " #   Column            Non-Null Count  Dtype  \n",
      "---  ------            --------------  -----  \n",
      " 0   client_id         9798 non-null   object \n",
      " 1   transaction_date  9798 non-null   object \n",
      " 2   service           9798 non-null   object \n",
      " 3   amount            9351 non-null   float64\n",
      " 4   payment_method    9798 non-null   object \n",
      " 5   city              9798 non-null   object \n",
      " 6   consultant        9798 non-null   object \n",
      "dtypes: float64(1), object(6)\n",
      "memory usage: 612.4+ KB\n"
     ]
    }
   ],
   "source": [
    "transactions.info()"
   ]
  },
  {
   "cell_type": "markdown",
   "id": "b8b61ebb-b98e-4e62-909c-a9be61abb5e9",
   "metadata": {},
   "source": [
    "#Ознакомимся с составом признака transaction_date"
   ]
  },
  {
   "cell_type": "code",
   "execution_count": 9,
   "id": "6cbcb8c1-de2d-4a38-918d-ff216e3c1581",
   "metadata": {
    "tags": []
   },
   "outputs": [
    {
     "name": "stdout",
     "output_type": "stream",
     "text": [
      "<class 'pandas.core.series.Series'>\n",
      "Index: 9798 entries, 0 to 9999\n",
      "Series name: transaction_date\n",
      "Non-Null Count  Dtype \n",
      "--------------  ----- \n",
      "9798 non-null   object\n",
      "dtypes: object(1)\n",
      "memory usage: 153.1+ KB\n"
     ]
    }
   ],
   "source": [
    "transactions.transaction_date.info()"
   ]
  },
  {
   "cell_type": "code",
   "execution_count": 10,
   "id": "eac43e40-21a0-4681-b0ae-ec8fb02c330e",
   "metadata": {
    "tags": []
   },
   "outputs": [
    {
     "data": {
      "text/plain": [
       "0      2025-01-04 00:02:20\n",
       "1      2025-03-10 17:16:50\n",
       "2      2025-02-13 19:43:49\n",
       "4      2025-03-18 21:00:36\n",
       "5      2025-02-21 21:50:30\n",
       "              ...         \n",
       "98            INVALID_DATE\n",
       "99     2025-02-21 13:04:58\n",
       "100    2025-03-12 10:26:06\n",
       "101    2025-01-30 02:28:30\n",
       "102    2025-02-14 13:42:25\n",
       "Name: transaction_date, Length: 100, dtype: object"
      ]
     },
     "execution_count": 10,
     "metadata": {},
     "output_type": "execute_result"
    }
   ],
   "source": [
    "transactions.transaction_date.head(100)"
   ]
  },
  {
   "cell_type": "code",
   "execution_count": 11,
   "id": "1b9db6e2-a0c5-4e66-a92e-8f9a76fc683e",
   "metadata": {
    "tags": []
   },
   "outputs": [
    {
     "data": {
      "text/html": [
       "<div>\n",
       "<style scoped>\n",
       "    .dataframe tbody tr th:only-of-type {\n",
       "        vertical-align: middle;\n",
       "    }\n",
       "\n",
       "    .dataframe tbody tr th {\n",
       "        vertical-align: top;\n",
       "    }\n",
       "\n",
       "    .dataframe thead th {\n",
       "        text-align: right;\n",
       "    }\n",
       "</style>\n",
       "<table border=\"1\" class=\"dataframe\">\n",
       "  <thead>\n",
       "    <tr style=\"text-align: right;\">\n",
       "      <th></th>\n",
       "      <th>client_id</th>\n",
       "      <th>transaction_date</th>\n",
       "      <th>service</th>\n",
       "      <th>amount</th>\n",
       "      <th>payment_method</th>\n",
       "      <th>city</th>\n",
       "      <th>consultant</th>\n",
       "      <th>is_valid</th>\n",
       "    </tr>\n",
       "  </thead>\n",
       "  <tbody>\n",
       "    <tr>\n",
       "      <th>0</th>\n",
       "      <td>1ec5ab91-fdd0-4925-a221-f0c4e04fe0e7</td>\n",
       "      <td>2025-01-04 00:02:20</td>\n",
       "      <td>Структурирование капитала</td>\n",
       "      <td>55838.059789</td>\n",
       "      <td>Банковский перевод</td>\n",
       "      <td>North Patrickport</td>\n",
       "      <td>Cheryl Waller</td>\n",
       "      <td>True</td>\n",
       "    </tr>\n",
       "    <tr>\n",
       "      <th>1</th>\n",
       "      <td>c940f45c-d29b-439a-8fa3-f75018cef528</td>\n",
       "      <td>2025-03-10 17:16:50</td>\n",
       "      <td>Структурирование капитала</td>\n",
       "      <td>37514.809209</td>\n",
       "      <td>Неизвестно</td>\n",
       "      <td>New Zacharyport</td>\n",
       "      <td>Frank Pollard</td>\n",
       "      <td>True</td>\n",
       "    </tr>\n",
       "    <tr>\n",
       "      <th>2</th>\n",
       "      <td>cfa21d7e-8499-43d0-9dfb-f4a1b94ce44c</td>\n",
       "      <td>2025-02-13 19:43:49</td>\n",
       "      <td>Структурирование капитала</td>\n",
       "      <td>21022.146872</td>\n",
       "      <td>Неизвестно</td>\n",
       "      <td>Port Michellemouth</td>\n",
       "      <td>Alexandra Meyer</td>\n",
       "      <td>True</td>\n",
       "    </tr>\n",
       "    <tr>\n",
       "      <th>4</th>\n",
       "      <td>3f43d7bc-37f0-4535-8391-51702d6ff81e</td>\n",
       "      <td>2025-03-18 21:00:36</td>\n",
       "      <td>Структурирование капитала</td>\n",
       "      <td>5636.586955</td>\n",
       "      <td>Неизвестно</td>\n",
       "      <td>Bondstad</td>\n",
       "      <td>Melissa Pena</td>\n",
       "      <td>True</td>\n",
       "    </tr>\n",
       "    <tr>\n",
       "      <th>5</th>\n",
       "      <td>900f7d6b-ee7f-49e6-ae9f-e5ea9e04ab4c</td>\n",
       "      <td>2025-02-21 21:50:30</td>\n",
       "      <td>Инвестиционное консультирование</td>\n",
       "      <td>85575.773285</td>\n",
       "      <td>Кредитная карта</td>\n",
       "      <td>West Jaymouth</td>\n",
       "      <td>Harold Gibson</td>\n",
       "      <td>True</td>\n",
       "    </tr>\n",
       "    <tr>\n",
       "      <th>...</th>\n",
       "      <td>...</td>\n",
       "      <td>...</td>\n",
       "      <td>...</td>\n",
       "      <td>...</td>\n",
       "      <td>...</td>\n",
       "      <td>...</td>\n",
       "      <td>...</td>\n",
       "      <td>...</td>\n",
       "    </tr>\n",
       "    <tr>\n",
       "      <th>9995</th>\n",
       "      <td>b79d6e9f-75f6-4af9-8fdf-b42aac298a84</td>\n",
       "      <td>2025-01-14 05:07:17</td>\n",
       "      <td>Налоговое планирование</td>\n",
       "      <td>117114.096418</td>\n",
       "      <td>Неизвестно</td>\n",
       "      <td>South Thomas</td>\n",
       "      <td>John Wolfe</td>\n",
       "      <td>True</td>\n",
       "    </tr>\n",
       "    <tr>\n",
       "      <th>9996</th>\n",
       "      <td>d2a4a79b-26ba-41c9-b720-1362b9f464f0</td>\n",
       "      <td>INVALID_DATE</td>\n",
       "      <td>Финансовое планирование</td>\n",
       "      <td>19895.571828</td>\n",
       "      <td>Кредитная карта</td>\n",
       "      <td>Davidsonborough</td>\n",
       "      <td>Ronald Shepherd</td>\n",
       "      <td>False</td>\n",
       "    </tr>\n",
       "    <tr>\n",
       "      <th>9997</th>\n",
       "      <td>5e1d67fb-26ea-48cc-9e2d-e2edbda404d0</td>\n",
       "      <td>2025-02-09 17:33:42</td>\n",
       "      <td>Неизвестная услуга</td>\n",
       "      <td>79279.034410</td>\n",
       "      <td>Банковский перевод</td>\n",
       "      <td>Lake Arielmouth</td>\n",
       "      <td>Mary Howard</td>\n",
       "      <td>True</td>\n",
       "    </tr>\n",
       "    <tr>\n",
       "      <th>9998</th>\n",
       "      <td>77ea6e72-df3c-47d4-a043-f990cc05a6f4</td>\n",
       "      <td>2025-01-21 03:54:39</td>\n",
       "      <td>Инвестиционное консультирование</td>\n",
       "      <td>26365.015457</td>\n",
       "      <td>Криптовалюта</td>\n",
       "      <td>Tonystad</td>\n",
       "      <td>David Palmer</td>\n",
       "      <td>True</td>\n",
       "    </tr>\n",
       "    <tr>\n",
       "      <th>9999</th>\n",
       "      <td>c64b36c3-7742-49f9-881b-f1983ead1dc3</td>\n",
       "      <td>2025-02-01 04:03:43</td>\n",
       "      <td>Структурирование капитала</td>\n",
       "      <td>106772.392212</td>\n",
       "      <td>Банковский перевод</td>\n",
       "      <td>Roberttown</td>\n",
       "      <td>Travis Curtis</td>\n",
       "      <td>True</td>\n",
       "    </tr>\n",
       "  </tbody>\n",
       "</table>\n",
       "<p>9798 rows × 8 columns</p>\n",
       "</div>"
      ],
      "text/plain": [
       "                                 client_id     transaction_date  \\\n",
       "0     1ec5ab91-fdd0-4925-a221-f0c4e04fe0e7  2025-01-04 00:02:20   \n",
       "1     c940f45c-d29b-439a-8fa3-f75018cef528  2025-03-10 17:16:50   \n",
       "2     cfa21d7e-8499-43d0-9dfb-f4a1b94ce44c  2025-02-13 19:43:49   \n",
       "4     3f43d7bc-37f0-4535-8391-51702d6ff81e  2025-03-18 21:00:36   \n",
       "5     900f7d6b-ee7f-49e6-ae9f-e5ea9e04ab4c  2025-02-21 21:50:30   \n",
       "...                                    ...                  ...   \n",
       "9995  b79d6e9f-75f6-4af9-8fdf-b42aac298a84  2025-01-14 05:07:17   \n",
       "9996  d2a4a79b-26ba-41c9-b720-1362b9f464f0         INVALID_DATE   \n",
       "9997  5e1d67fb-26ea-48cc-9e2d-e2edbda404d0  2025-02-09 17:33:42   \n",
       "9998  77ea6e72-df3c-47d4-a043-f990cc05a6f4  2025-01-21 03:54:39   \n",
       "9999  c64b36c3-7742-49f9-881b-f1983ead1dc3  2025-02-01 04:03:43   \n",
       "\n",
       "                              service         amount      payment_method  \\\n",
       "0           Структурирование капитала   55838.059789  Банковский перевод   \n",
       "1           Структурирование капитала   37514.809209          Неизвестно   \n",
       "2           Структурирование капитала   21022.146872          Неизвестно   \n",
       "4           Структурирование капитала    5636.586955          Неизвестно   \n",
       "5     Инвестиционное консультирование   85575.773285     Кредитная карта   \n",
       "...                               ...            ...                 ...   \n",
       "9995           Налоговое планирование  117114.096418          Неизвестно   \n",
       "9996          Финансовое планирование   19895.571828     Кредитная карта   \n",
       "9997               Неизвестная услуга   79279.034410  Банковский перевод   \n",
       "9998  Инвестиционное консультирование   26365.015457        Криптовалюта   \n",
       "9999        Структурирование капитала  106772.392212  Банковский перевод   \n",
       "\n",
       "                    city       consultant  is_valid  \n",
       "0      North Patrickport    Cheryl Waller      True  \n",
       "1        New Zacharyport    Frank Pollard      True  \n",
       "2     Port Michellemouth  Alexandra Meyer      True  \n",
       "4               Bondstad     Melissa Pena      True  \n",
       "5          West Jaymouth    Harold Gibson      True  \n",
       "...                  ...              ...       ...  \n",
       "9995        South Thomas       John Wolfe      True  \n",
       "9996     Davidsonborough  Ronald Shepherd     False  \n",
       "9997     Lake Arielmouth      Mary Howard      True  \n",
       "9998            Tonystad     David Palmer      True  \n",
       "9999          Roberttown    Travis Curtis      True  \n",
       "\n",
       "[9798 rows x 8 columns]"
      ]
     },
     "execution_count": 11,
     "metadata": {},
     "output_type": "execute_result"
    }
   ],
   "source": [
    "transactions['transaction_date'] = transactions['transaction_date'].astype(str)\n",
    "transactions['is_valid'] = transactions['transaction_date'].str.match(r'^\\d{4}-\\d{2}-\\d{2} \\d{2}:\\d{2}:\\d{2}$')\n",
    "transactions"
   ]
  },
  {
   "cell_type": "code",
   "execution_count": 12,
   "id": "c1dc541b-2c8c-4cd9-b1c2-2391a292b846",
   "metadata": {
    "tags": []
   },
   "outputs": [
    {
     "data": {
      "text/plain": [
       "is_valid\n",
       "True     8813\n",
       "False     985\n",
       "Name: count, dtype: int64"
      ]
     },
     "execution_count": 12,
     "metadata": {},
     "output_type": "execute_result"
    }
   ],
   "source": [
    "transactions['is_valid'].value_counts()"
   ]
  },
  {
   "cell_type": "code",
   "execution_count": 13,
   "id": "d6beed57-8adb-4e34-886e-8555345fab1c",
   "metadata": {
    "tags": []
   },
   "outputs": [
    {
     "data": {
      "text/plain": [
       "transaction_date\n",
       "INVALID_DATE    985\n",
       "Name: count, dtype: int64"
      ]
     },
     "execution_count": 13,
     "metadata": {},
     "output_type": "execute_result"
    }
   ],
   "source": [
    "invalid_rows = transactions[transactions['is_valid'] == False]\n",
    "invalid_rows.transaction_date.value_counts()"
   ]
  },
  {
   "cell_type": "markdown",
   "id": "d2220828-e8d4-4f05-9fa2-896c89e3022a",
   "metadata": {},
   "source": [
    "#Из признака transaction_date сделаем признаки с годом, месяцем, днем недели, днем и временем дня(утро, день, вечер, ночь)"
   ]
  },
  {
   "cell_type": "code",
   "execution_count": 14,
   "id": "76802b8d-9754-41a9-9e4f-7b238125fded",
   "metadata": {},
   "outputs": [],
   "source": [
    "#Для этого конвертируем в формат даты, игнорируя недействительные даты\n",
    "transactions['transaction_date'] = pd.to_datetime(transactions['transaction_date'], errors='coerce')"
   ]
  },
  {
   "cell_type": "code",
   "execution_count": 15,
   "id": "e7d6fa48-e097-4b62-b498-6d290c002e9e",
   "metadata": {},
   "outputs": [],
   "source": [
    "#Извлекаем компоненты, заполнив NaN для недействительных дат\n",
    "transactions['year'] = transactions['transaction_date'].dt.year\n",
    "transactions['month'] = transactions['transaction_date'].dt.month\n",
    "transactions['day'] = transactions['transaction_date'].dt.day\n",
    "transactions['day_of_week'] = transactions['transaction_date'].dt.dayofweek\n",
    "transactions['hour'] = transactions['transaction_date'].dt.hour"
   ]
  },
  {
   "cell_type": "code",
   "execution_count": 16,
   "id": "0fbee434-22a9-4f1e-937d-3a2711c539dc",
   "metadata": {},
   "outputs": [],
   "source": [
    "#Напишем функцию для разбития часов на отрезки по времени суток\n",
    "def get_time_of_day(hour):\n",
    "    if pd.isna(hour):  # Проверка на NaN\n",
    "        return np.nan\n",
    "    elif 6 <= hour < 10:\n",
    "        return 1 #'Утро'\n",
    "    elif 10 <= hour < 17:\n",
    "        return 2 #'День'\n",
    "    elif 17 <= hour < 22:\n",
    "        return 3 #'Вечер'\n",
    "    else:\n",
    "        return 4 #'Ночь'\n",
    "\n",
    "# Примененим функцию с учетом NaN\n",
    "transactions['time_of_day'] = transactions['transaction_date'].dt.hour.apply(get_time_of_day)\n",
    "transactions.drop('transaction_date', axis=1, inplace=True)"
   ]
  },
  {
   "cell_type": "code",
   "execution_count": 17,
   "id": "611ba868-8d88-4815-b437-9ae7731ed302",
   "metadata": {},
   "outputs": [
    {
     "data": {
      "text/html": [
       "<div>\n",
       "<style scoped>\n",
       "    .dataframe tbody tr th:only-of-type {\n",
       "        vertical-align: middle;\n",
       "    }\n",
       "\n",
       "    .dataframe tbody tr th {\n",
       "        vertical-align: top;\n",
       "    }\n",
       "\n",
       "    .dataframe thead th {\n",
       "        text-align: right;\n",
       "    }\n",
       "</style>\n",
       "<table border=\"1\" class=\"dataframe\">\n",
       "  <thead>\n",
       "    <tr style=\"text-align: right;\">\n",
       "      <th></th>\n",
       "      <th>client_id</th>\n",
       "      <th>service</th>\n",
       "      <th>amount</th>\n",
       "      <th>payment_method</th>\n",
       "      <th>city</th>\n",
       "      <th>consultant</th>\n",
       "      <th>is_valid</th>\n",
       "      <th>year</th>\n",
       "      <th>month</th>\n",
       "      <th>day</th>\n",
       "      <th>day_of_week</th>\n",
       "      <th>hour</th>\n",
       "      <th>time_of_day</th>\n",
       "    </tr>\n",
       "  </thead>\n",
       "  <tbody>\n",
       "    <tr>\n",
       "      <th>0</th>\n",
       "      <td>1ec5ab91-fdd0-4925-a221-f0c4e04fe0e7</td>\n",
       "      <td>Структурирование капитала</td>\n",
       "      <td>55838.059789</td>\n",
       "      <td>Банковский перевод</td>\n",
       "      <td>North Patrickport</td>\n",
       "      <td>Cheryl Waller</td>\n",
       "      <td>True</td>\n",
       "      <td>2025.0</td>\n",
       "      <td>1.0</td>\n",
       "      <td>4.0</td>\n",
       "      <td>5.0</td>\n",
       "      <td>0.0</td>\n",
       "      <td>4.0</td>\n",
       "    </tr>\n",
       "    <tr>\n",
       "      <th>1</th>\n",
       "      <td>c940f45c-d29b-439a-8fa3-f75018cef528</td>\n",
       "      <td>Структурирование капитала</td>\n",
       "      <td>37514.809209</td>\n",
       "      <td>Неизвестно</td>\n",
       "      <td>New Zacharyport</td>\n",
       "      <td>Frank Pollard</td>\n",
       "      <td>True</td>\n",
       "      <td>2025.0</td>\n",
       "      <td>3.0</td>\n",
       "      <td>10.0</td>\n",
       "      <td>0.0</td>\n",
       "      <td>17.0</td>\n",
       "      <td>3.0</td>\n",
       "    </tr>\n",
       "    <tr>\n",
       "      <th>2</th>\n",
       "      <td>cfa21d7e-8499-43d0-9dfb-f4a1b94ce44c</td>\n",
       "      <td>Структурирование капитала</td>\n",
       "      <td>21022.146872</td>\n",
       "      <td>Неизвестно</td>\n",
       "      <td>Port Michellemouth</td>\n",
       "      <td>Alexandra Meyer</td>\n",
       "      <td>True</td>\n",
       "      <td>2025.0</td>\n",
       "      <td>2.0</td>\n",
       "      <td>13.0</td>\n",
       "      <td>3.0</td>\n",
       "      <td>19.0</td>\n",
       "      <td>3.0</td>\n",
       "    </tr>\n",
       "    <tr>\n",
       "      <th>4</th>\n",
       "      <td>3f43d7bc-37f0-4535-8391-51702d6ff81e</td>\n",
       "      <td>Структурирование капитала</td>\n",
       "      <td>5636.586955</td>\n",
       "      <td>Неизвестно</td>\n",
       "      <td>Bondstad</td>\n",
       "      <td>Melissa Pena</td>\n",
       "      <td>True</td>\n",
       "      <td>2025.0</td>\n",
       "      <td>3.0</td>\n",
       "      <td>18.0</td>\n",
       "      <td>1.0</td>\n",
       "      <td>21.0</td>\n",
       "      <td>3.0</td>\n",
       "    </tr>\n",
       "    <tr>\n",
       "      <th>5</th>\n",
       "      <td>900f7d6b-ee7f-49e6-ae9f-e5ea9e04ab4c</td>\n",
       "      <td>Инвестиционное консультирование</td>\n",
       "      <td>85575.773285</td>\n",
       "      <td>Кредитная карта</td>\n",
       "      <td>West Jaymouth</td>\n",
       "      <td>Harold Gibson</td>\n",
       "      <td>True</td>\n",
       "      <td>2025.0</td>\n",
       "      <td>2.0</td>\n",
       "      <td>21.0</td>\n",
       "      <td>4.0</td>\n",
       "      <td>21.0</td>\n",
       "      <td>3.0</td>\n",
       "    </tr>\n",
       "  </tbody>\n",
       "</table>\n",
       "</div>"
      ],
      "text/plain": [
       "                              client_id                          service  \\\n",
       "0  1ec5ab91-fdd0-4925-a221-f0c4e04fe0e7        Структурирование капитала   \n",
       "1  c940f45c-d29b-439a-8fa3-f75018cef528        Структурирование капитала   \n",
       "2  cfa21d7e-8499-43d0-9dfb-f4a1b94ce44c        Структурирование капитала   \n",
       "4  3f43d7bc-37f0-4535-8391-51702d6ff81e        Структурирование капитала   \n",
       "5  900f7d6b-ee7f-49e6-ae9f-e5ea9e04ab4c  Инвестиционное консультирование   \n",
       "\n",
       "         amount      payment_method                city       consultant  \\\n",
       "0  55838.059789  Банковский перевод   North Patrickport    Cheryl Waller   \n",
       "1  37514.809209          Неизвестно     New Zacharyport    Frank Pollard   \n",
       "2  21022.146872          Неизвестно  Port Michellemouth  Alexandra Meyer   \n",
       "4   5636.586955          Неизвестно            Bondstad     Melissa Pena   \n",
       "5  85575.773285     Кредитная карта       West Jaymouth    Harold Gibson   \n",
       "\n",
       "   is_valid    year  month   day  day_of_week  hour  time_of_day  \n",
       "0      True  2025.0    1.0   4.0          5.0   0.0          4.0  \n",
       "1      True  2025.0    3.0  10.0          0.0  17.0          3.0  \n",
       "2      True  2025.0    2.0  13.0          3.0  19.0          3.0  \n",
       "4      True  2025.0    3.0  18.0          1.0  21.0          3.0  \n",
       "5      True  2025.0    2.0  21.0          4.0  21.0          3.0  "
      ]
     },
     "execution_count": 17,
     "metadata": {},
     "output_type": "execute_result"
    }
   ],
   "source": [
    "transactions.head()"
   ]
  },
  {
   "cell_type": "code",
   "execution_count": 18,
   "id": "4864cd8a-b4b9-456a-a4aa-705cfb453d6d",
   "metadata": {
    "tags": []
   },
   "outputs": [
    {
     "data": {
      "text/plain": [
       "year\n",
       "2025.0    8813\n",
       "Name: count, dtype: int64"
      ]
     },
     "execution_count": 18,
     "metadata": {},
     "output_type": "execute_result"
    }
   ],
   "source": [
    "transactions.year.value_counts()"
   ]
  },
  {
   "cell_type": "markdown",
   "id": "7e4172ca-09a0-4027-8a36-f892f68c836d",
   "metadata": {},
   "source": [
    "#Так как год одинаковый- удалим признак"
   ]
  },
  {
   "cell_type": "code",
   "execution_count": 19,
   "id": "fe32f560-747c-4bd1-bac9-501e506f8773",
   "metadata": {
    "tags": []
   },
   "outputs": [],
   "source": [
    "transactions.drop('year', axis=1, inplace=True)"
   ]
  },
  {
   "cell_type": "raw",
   "id": "ff002031-02fd-4d14-a1b7-f94f5ff7f607",
   "metadata": {
    "tags": []
   },
   "source": [
    "ProfileReport(transactions, title='My Data')"
   ]
  },
  {
   "cell_type": "markdown",
   "id": "e45c994e-2251-4cfd-a419-9f88c1a34c22",
   "metadata": {},
   "source": [
    "#Так как сумма очень важна и пропущенных значений всего 4,6%, удалим пропущенные значения"
   ]
  },
  {
   "cell_type": "code",
   "execution_count": 20,
   "id": "30a736f5-f6d3-42b4-8edb-b101c294c6d6",
   "metadata": {
    "tags": []
   },
   "outputs": [],
   "source": [
    "transactions.dropna(subset=['amount'], inplace=True, ignore_index=True)"
   ]
  },
  {
   "cell_type": "code",
   "execution_count": 21,
   "id": "d6fb928f-3347-4f92-a386-36e17f7c7dfa",
   "metadata": {
    "tags": []
   },
   "outputs": [
    {
     "name": "stdout",
     "output_type": "stream",
     "text": [
      "<class 'pandas.core.frame.DataFrame'>\n",
      "RangeIndex: 9351 entries, 0 to 9350\n",
      "Data columns (total 12 columns):\n",
      " #   Column          Non-Null Count  Dtype  \n",
      "---  ------          --------------  -----  \n",
      " 0   client_id       9351 non-null   object \n",
      " 1   service         9351 non-null   object \n",
      " 2   amount          9351 non-null   float64\n",
      " 3   payment_method  9351 non-null   object \n",
      " 4   city            9351 non-null   object \n",
      " 5   consultant      9351 non-null   object \n",
      " 6   is_valid        9351 non-null   bool   \n",
      " 7   month           8411 non-null   float64\n",
      " 8   day             8411 non-null   float64\n",
      " 9   day_of_week     8411 non-null   float64\n",
      " 10  hour            8411 non-null   float64\n",
      " 11  time_of_day     8411 non-null   float64\n",
      "dtypes: bool(1), float64(6), object(5)\n",
      "memory usage: 812.9+ KB\n"
     ]
    }
   ],
   "source": [
    "transactions.info()"
   ]
  },
  {
   "cell_type": "markdown",
   "id": "eb6f4cc0-56ec-48a5-a53a-e8bfbc511d4d",
   "metadata": {},
   "source": [
    "#Применим регрессионную модель для заполнения пустых значений"
   ]
  },
  {
   "cell_type": "code",
   "execution_count": 22,
   "id": "c48061b8-4db0-4492-822f-4db02180afdd",
   "metadata": {
    "tags": []
   },
   "outputs": [],
   "source": [
    "df_no_imputed = transactions[['amount', 'month', 'day', 'day_of_week', 'hour', 'time_of_day']]\n",
    "imputer = IterativeImputer(random_state=2)\n",
    "\n",
    "df_imputed = imputer.fit_transform(df_no_imputed)\n",
    "\n",
    "df_imputed = pd.DataFrame(df_imputed, columns=df_no_imputed.columns)"
   ]
  },
  {
   "cell_type": "markdown",
   "id": "d0561b16-e446-478b-b34c-8c0f48f36508",
   "metadata": {},
   "source": [
    "#Округляем полученные значения"
   ]
  },
  {
   "cell_type": "code",
   "execution_count": 23,
   "id": "b69296d4-4774-4349-8d6b-b474a3199b33",
   "metadata": {
    "tags": []
   },
   "outputs": [
    {
     "name": "stdout",
     "output_type": "stream",
     "text": [
      "<class 'pandas.core.frame.DataFrame'>\n",
      "RangeIndex: 9351 entries, 0 to 9350\n",
      "Data columns (total 6 columns):\n",
      " #   Column       Non-Null Count  Dtype  \n",
      "---  ------       --------------  -----  \n",
      " 0   amount       9351 non-null   float64\n",
      " 1   month        9351 non-null   float64\n",
      " 2   day          9351 non-null   float64\n",
      " 3   day_of_week  9351 non-null   float64\n",
      " 4   hour         9351 non-null   float64\n",
      " 5   time_of_day  9351 non-null   float64\n",
      "dtypes: float64(6)\n",
      "memory usage: 438.5 KB\n"
     ]
    }
   ],
   "source": [
    "df_imputed[['month', 'day', 'day_of_week', 'hour', 'time_of_day']] = df_imputed[['month', 'day', 'day_of_week', 'hour', 'time_of_day']].round()\n",
    "df_imputed.info()"
   ]
  },
  {
   "cell_type": "markdown",
   "id": "c03d564a-ec65-48a1-95e4-76000926cd74",
   "metadata": {},
   "source": [
    "#Заменим данные на данные после применения модели"
   ]
  },
  {
   "cell_type": "code",
   "execution_count": 24,
   "id": "35be89fa-39e4-4d43-b1dc-059e180ca38a",
   "metadata": {
    "tags": []
   },
   "outputs": [
    {
     "name": "stdout",
     "output_type": "stream",
     "text": [
      "<class 'pandas.core.frame.DataFrame'>\n",
      "RangeIndex: 9351 entries, 0 to 9350\n",
      "Data columns (total 11 columns):\n",
      " #   Column          Non-Null Count  Dtype  \n",
      "---  ------          --------------  -----  \n",
      " 0   client_id       9351 non-null   object \n",
      " 1   service         9351 non-null   object \n",
      " 2   payment_method  9351 non-null   object \n",
      " 3   city            9351 non-null   object \n",
      " 4   consultant      9351 non-null   object \n",
      " 5   amount          9351 non-null   float64\n",
      " 6   month           9351 non-null   float64\n",
      " 7   day             9351 non-null   float64\n",
      " 8   day_of_week     9351 non-null   float64\n",
      " 9   hour            9351 non-null   float64\n",
      " 10  time_of_day     9351 non-null   float64\n",
      "dtypes: float64(6), object(5)\n",
      "memory usage: 803.7+ KB\n"
     ]
    }
   ],
   "source": [
    "transactions.drop(['amount', 'month', 'day', 'day_of_week', 'hour', 'time_of_day', 'is_valid'], axis=1, inplace=True)\n",
    "transactions = transactions.join(df_imputed, how='outer')\n",
    "transactions.info()"
   ]
  },
  {
   "cell_type": "code",
   "execution_count": 25,
   "id": "55f1c5bd-1363-4698-b0ae-c8e84452e269",
   "metadata": {
    "tags": []
   },
   "outputs": [
    {
     "data": {
      "text/html": [
       "<div>\n",
       "<style scoped>\n",
       "    .dataframe tbody tr th:only-of-type {\n",
       "        vertical-align: middle;\n",
       "    }\n",
       "\n",
       "    .dataframe tbody tr th {\n",
       "        vertical-align: top;\n",
       "    }\n",
       "\n",
       "    .dataframe thead th {\n",
       "        text-align: right;\n",
       "    }\n",
       "</style>\n",
       "<table border=\"1\" class=\"dataframe\">\n",
       "  <thead>\n",
       "    <tr style=\"text-align: right;\">\n",
       "      <th></th>\n",
       "      <th>client_id</th>\n",
       "      <th>service</th>\n",
       "      <th>payment_method</th>\n",
       "      <th>city</th>\n",
       "      <th>consultant</th>\n",
       "      <th>amount</th>\n",
       "      <th>month</th>\n",
       "      <th>day</th>\n",
       "      <th>day_of_week</th>\n",
       "      <th>hour</th>\n",
       "      <th>time_of_day</th>\n",
       "    </tr>\n",
       "  </thead>\n",
       "  <tbody>\n",
       "    <tr>\n",
       "      <th>0</th>\n",
       "      <td>1ec5ab91-fdd0-4925-a221-f0c4e04fe0e7</td>\n",
       "      <td>Структурирование капитала</td>\n",
       "      <td>Банковский перевод</td>\n",
       "      <td>North Patrickport</td>\n",
       "      <td>Cheryl Waller</td>\n",
       "      <td>55838.059789</td>\n",
       "      <td>1.0</td>\n",
       "      <td>4.0</td>\n",
       "      <td>5.0</td>\n",
       "      <td>0.0</td>\n",
       "      <td>4.0</td>\n",
       "    </tr>\n",
       "    <tr>\n",
       "      <th>1</th>\n",
       "      <td>c940f45c-d29b-439a-8fa3-f75018cef528</td>\n",
       "      <td>Структурирование капитала</td>\n",
       "      <td>Неизвестно</td>\n",
       "      <td>New Zacharyport</td>\n",
       "      <td>Frank Pollard</td>\n",
       "      <td>37514.809209</td>\n",
       "      <td>3.0</td>\n",
       "      <td>10.0</td>\n",
       "      <td>0.0</td>\n",
       "      <td>17.0</td>\n",
       "      <td>3.0</td>\n",
       "    </tr>\n",
       "    <tr>\n",
       "      <th>2</th>\n",
       "      <td>cfa21d7e-8499-43d0-9dfb-f4a1b94ce44c</td>\n",
       "      <td>Структурирование капитала</td>\n",
       "      <td>Неизвестно</td>\n",
       "      <td>Port Michellemouth</td>\n",
       "      <td>Alexandra Meyer</td>\n",
       "      <td>21022.146872</td>\n",
       "      <td>2.0</td>\n",
       "      <td>13.0</td>\n",
       "      <td>3.0</td>\n",
       "      <td>19.0</td>\n",
       "      <td>3.0</td>\n",
       "    </tr>\n",
       "    <tr>\n",
       "      <th>3</th>\n",
       "      <td>3f43d7bc-37f0-4535-8391-51702d6ff81e</td>\n",
       "      <td>Структурирование капитала</td>\n",
       "      <td>Неизвестно</td>\n",
       "      <td>Bondstad</td>\n",
       "      <td>Melissa Pena</td>\n",
       "      <td>5636.586955</td>\n",
       "      <td>3.0</td>\n",
       "      <td>18.0</td>\n",
       "      <td>1.0</td>\n",
       "      <td>21.0</td>\n",
       "      <td>3.0</td>\n",
       "    </tr>\n",
       "    <tr>\n",
       "      <th>4</th>\n",
       "      <td>900f7d6b-ee7f-49e6-ae9f-e5ea9e04ab4c</td>\n",
       "      <td>Инвестиционное консультирование</td>\n",
       "      <td>Кредитная карта</td>\n",
       "      <td>West Jaymouth</td>\n",
       "      <td>Harold Gibson</td>\n",
       "      <td>85575.773285</td>\n",
       "      <td>2.0</td>\n",
       "      <td>21.0</td>\n",
       "      <td>4.0</td>\n",
       "      <td>21.0</td>\n",
       "      <td>3.0</td>\n",
       "    </tr>\n",
       "  </tbody>\n",
       "</table>\n",
       "</div>"
      ],
      "text/plain": [
       "                              client_id                          service  \\\n",
       "0  1ec5ab91-fdd0-4925-a221-f0c4e04fe0e7        Структурирование капитала   \n",
       "1  c940f45c-d29b-439a-8fa3-f75018cef528        Структурирование капитала   \n",
       "2  cfa21d7e-8499-43d0-9dfb-f4a1b94ce44c        Структурирование капитала   \n",
       "3  3f43d7bc-37f0-4535-8391-51702d6ff81e        Структурирование капитала   \n",
       "4  900f7d6b-ee7f-49e6-ae9f-e5ea9e04ab4c  Инвестиционное консультирование   \n",
       "\n",
       "       payment_method                city       consultant        amount  \\\n",
       "0  Банковский перевод   North Patrickport    Cheryl Waller  55838.059789   \n",
       "1          Неизвестно     New Zacharyport    Frank Pollard  37514.809209   \n",
       "2          Неизвестно  Port Michellemouth  Alexandra Meyer  21022.146872   \n",
       "3          Неизвестно            Bondstad     Melissa Pena   5636.586955   \n",
       "4     Кредитная карта       West Jaymouth    Harold Gibson  85575.773285   \n",
       "\n",
       "   month   day  day_of_week  hour  time_of_day  \n",
       "0    1.0   4.0          5.0   0.0          4.0  \n",
       "1    3.0  10.0          0.0  17.0          3.0  \n",
       "2    2.0  13.0          3.0  19.0          3.0  \n",
       "3    3.0  18.0          1.0  21.0          3.0  \n",
       "4    2.0  21.0          4.0  21.0          3.0  "
      ]
     },
     "execution_count": 25,
     "metadata": {},
     "output_type": "execute_result"
    }
   ],
   "source": [
    "transactions.head()"
   ]
  },
  {
   "cell_type": "code",
   "execution_count": 26,
   "id": "18759161-ce65-4d49-a522-ec2b9ed3683e",
   "metadata": {
    "tags": []
   },
   "outputs": [
    {
     "name": "stdout",
     "output_type": "stream",
     "text": [
      "<class 'pandas.core.frame.DataFrame'>\n",
      "RangeIndex: 9351 entries, 0 to 9350\n",
      "Data columns (total 11 columns):\n",
      " #   Column          Non-Null Count  Dtype  \n",
      "---  ------          --------------  -----  \n",
      " 0   client_id       9351 non-null   object \n",
      " 1   service         9351 non-null   object \n",
      " 2   payment_method  9351 non-null   object \n",
      " 3   city            9351 non-null   object \n",
      " 4   consultant      9351 non-null   object \n",
      " 5   amount          9351 non-null   float64\n",
      " 6   month           9351 non-null   float64\n",
      " 7   day             9351 non-null   float64\n",
      " 8   day_of_week     9351 non-null   float64\n",
      " 9   hour            9351 non-null   float64\n",
      " 10  time_of_day     9351 non-null   float64\n",
      "dtypes: float64(6), object(5)\n",
      "memory usage: 803.7+ KB\n"
     ]
    }
   ],
   "source": [
    "transactions.info()"
   ]
  },
  {
   "cell_type": "markdown",
   "id": "b30b22f7-0a1f-4544-bedc-f3a6e494262e",
   "metadata": {
    "tags": []
   },
   "source": [
    "<div style=\"font-size: 30px\">\n",
    "2.Анализ данных."
   ]
  },
  {
   "cell_type": "markdown",
   "id": "37346cc7-5e7f-4c7b-85a5-bb3f28acab8e",
   "metadata": {},
   "source": [
    "#Определить топ-5 наиболее популярных услуг по количеству заказов"
   ]
  },
  {
   "cell_type": "code",
   "execution_count": 27,
   "id": "97a11260-ec96-41f9-87bd-7b89339bd50b",
   "metadata": {
    "tags": []
   },
   "outputs": [
    {
     "name": "stdout",
     "output_type": "stream",
     "text": [
      "Инвестиционное консультирование: 2279\n",
      "Управление активами: 1881\n",
      "Финансовое планирование: 1425\n",
      "Налоговое планирование: 1423\n",
      "Структурирование капитала: 1407\n"
     ]
    }
   ],
   "source": [
    "top_services = transactions.service.value_counts().head(5)\n",
    "\n",
    "for service, count in top_services.items():\n",
    "    print(f\"{service}: {count}\")"
   ]
  },
  {
   "cell_type": "markdown",
   "id": "86b68567-9199-47bc-986d-b7e9b9c0fd03",
   "metadata": {
    "tags": []
   },
   "source": [
    "#Рассчитать среднюю сумму транзакций по каждому городу."
   ]
  },
  {
   "cell_type": "code",
   "execution_count": 28,
   "id": "ce9295d8-c0bb-4b50-817b-513bab4b1431",
   "metadata": {
    "tags": []
   },
   "outputs": [
    {
     "name": "stdout",
     "output_type": "stream",
     "text": [
      "city\n",
      "Aprilstad             49701.97\n",
      "Bondstad              51417.72\n",
      "Cruzport              45913.87\n",
      "Dannyburgh            48039.48\n",
      "Davidmouth            47039.27\n",
      "Davidsonborough       50132.15\n",
      "East Jamie            42909.90\n",
      "East Matthewmouth     49293.21\n",
      "East Melissaville     49909.35\n",
      "East Rachelmouth      54206.20\n",
      "Elizabethmouth        44447.63\n",
      "Erichaven             50927.91\n",
      "Hamiltontown          48663.06\n",
      "Harrisberg            50595.13\n",
      "Ibarramouth           44376.42\n",
      "Jeanettetown          44298.50\n",
      "Johnsonfort           52111.94\n",
      "Kaneburgh             52495.64\n",
      "Karenville            48719.38\n",
      "Krystalland           50586.40\n",
      "Lake Arielmouth       50955.63\n",
      "Lake Sallychester     46811.91\n",
      "Lake Tina             51491.78\n",
      "Matthewsville         44828.01\n",
      "Mayoberg              48970.53\n",
      "Michellehaven         55729.81\n",
      "Mirandaside           44878.13\n",
      "New Chelseaberg       47272.03\n",
      "New Dianechester      46200.48\n",
      "New Ryan              45908.23\n",
      "New Tommyborough      53662.09\n",
      "New Zacharyport       52728.03\n",
      "North Emily           51117.26\n",
      "North Hannahmouth     49167.83\n",
      "North Lauriebury      53147.65\n",
      "North Melissaland     52877.53\n",
      "North Patrickport     47647.21\n",
      "Patelbury             50054.19\n",
      "Port Darlene          48203.39\n",
      "Port James            46717.26\n",
      "Port Jordan           48805.90\n",
      "Port Michellemouth    56271.26\n",
      "Roberttown            47538.69\n",
      "Ronaldville           49016.92\n",
      "South Andrew          50984.89\n",
      "South Thomas          46616.95\n",
      "Tonystad              47615.49\n",
      "Trevinoberg           53080.35\n",
      "West Jaymouth         46905.48\n",
      "West Meredithhaven    51250.68\n",
      "Неизвестный город     48512.77\n",
      "Name: amount, dtype: float64\n"
     ]
    }
   ],
   "source": [
    "average_transaction_by_city = transactions.groupby('city')['amount'].mean().round(2)\n",
    "\n",
    "print(average_transaction_by_city)"
   ]
  },
  {
   "cell_type": "markdown",
   "id": "6a985d26-7d4a-4aca-aa94-5fffeb9fd5d2",
   "metadata": {},
   "source": [
    "#Определить услугу с наибольшей выручкой (по сумме amount)."
   ]
  },
  {
   "cell_type": "code",
   "execution_count": 31,
   "id": "7bffa5b3-b0bf-45bd-92ea-7014b128751e",
   "metadata": {},
   "outputs": [
    {
     "name": "stdout",
     "output_type": "stream",
     "text": [
      "Услуга с наибольшей выручкой: Инвестиционное консультирование с выручкой 113071063.45\n"
     ]
    }
   ],
   "source": [
    "revenue_by_service = transactions.groupby('service')['amount'].sum()\n",
    "top_service = revenue_by_service.idxmax()  # Название услуги\n",
    "top_service_revenue = revenue_by_service.max().round(2)  # Сумма выручки\n",
    "\n",
    "print(f\"Услуга с наибольшей выручкой: {top_service} с выручкой {top_service_revenue}\")\n"
   ]
  },
  {
   "cell_type": "markdown",
   "id": "23ad1dc6-e3f1-4f8b-996e-3962d8c191a2",
   "metadata": {},
   "source": [
    "#Вычислить процент транзакций по способам оплаты (наличные, банковский перевод и т. д.)."
   ]
  },
  {
   "cell_type": "code",
   "execution_count": 40,
   "id": "e0f3ec46-db69-4cf3-8bb6-239130b5765a",
   "metadata": {
    "tags": []
   },
   "outputs": [
    {
     "name": "stdout",
     "output_type": "stream",
     "text": [
      "Процент транзакций по способам оплаты:\n",
      "payment_method\n",
      "Кредитная карта       40.102663\n",
      "Банковский перевод    34.488290\n",
      "Неизвестно            10.041707\n",
      "Наличные               9.934766\n",
      "Криптовалюта           5.432574\n",
      "Name: count, dtype: float64\n"
     ]
    }
   ],
   "source": [
    "total_transactions = transactions.shape[0]\n",
    "payment_method_counts = transactions['payment_method'].value_counts()\n",
    "\n",
    "payment_method_percentage = ((payment_method_counts / total_transactions) * 100)\n",
    "\n",
    "print(\"Процент транзакций по способам оплаты:\")\n",
    "print(payment_method_percentage)"
   ]
  },
  {
   "cell_type": "code",
   "execution_count": 37,
   "id": "c718c591-289a-4f12-8fe6-15875af58cc8",
   "metadata": {
    "tags": []
   },
   "outputs": [
    {
     "data": {
      "text/plain": [
       "100.0"
      ]
     },
     "execution_count": 37,
     "metadata": {},
     "output_type": "execute_result"
    }
   ],
   "source": [
    "payment_method_percentage.sum()"
   ]
  },
  {
   "cell_type": "markdown",
   "id": "e7206e59-d7e9-477c-91d2-930b5a4a4539",
   "metadata": {},
   "source": [
    "#Рассчитать выручку за последний месяц (по сумме amount)."
   ]
  },
  {
   "cell_type": "code",
   "execution_count": 39,
   "id": "98b8cdd3-d3cc-4474-9c8e-4291694b761a",
   "metadata": {
    "tags": []
   },
   "outputs": [
    {
     "name": "stdout",
     "output_type": "stream",
     "text": [
      "Выручка за последний месяц: 103549291.24\n"
     ]
    }
   ],
   "source": [
    "last_month = transactions['month'].max()\n",
    "\n",
    "last_month_revenue = transactions[(transactions['month'] == last_month)]['amount'].sum().round(2)\n",
    "\n",
    "print(f\"Выручка за последний месяц: {last_month_revenue}\")"
   ]
  },
  {
   "cell_type": "markdown",
   "id": "888a4210-b10d-4de8-83d3-3f0c124b794b",
   "metadata": {},
   "source": [
    "<div style=\"font-size: 30px\">\n",
    "3.Объединение данных."
   ]
  },
  {
   "cell_type": "markdown",
   "id": "5dfe9173-6e60-4e64-be16-b3d62ac97b50",
   "metadata": {},
   "source": [
    "#Объединить транзакции с клиентскими данными (по id)"
   ]
  },
  {
   "cell_type": "code",
   "execution_count": 41,
   "id": "37c44eff-6cd2-4f57-804f-1d699fc8afa6",
   "metadata": {
    "tags": []
   },
   "outputs": [
    {
     "data": {
      "text/html": [
       "<div>\n",
       "<style scoped>\n",
       "    .dataframe tbody tr th:only-of-type {\n",
       "        vertical-align: middle;\n",
       "    }\n",
       "\n",
       "    .dataframe tbody tr th {\n",
       "        vertical-align: top;\n",
       "    }\n",
       "\n",
       "    .dataframe thead th {\n",
       "        text-align: right;\n",
       "    }\n",
       "</style>\n",
       "<table border=\"1\" class=\"dataframe\">\n",
       "  <thead>\n",
       "    <tr style=\"text-align: right;\">\n",
       "      <th></th>\n",
       "      <th>id</th>\n",
       "      <th>age</th>\n",
       "      <th>gender</th>\n",
       "      <th>net_worth</th>\n",
       "    </tr>\n",
       "  </thead>\n",
       "  <tbody>\n",
       "    <tr>\n",
       "      <th>0</th>\n",
       "      <td>1ec5ab91-fdd0-4925-a221-f0c4e04fe0e7</td>\n",
       "      <td>41.0</td>\n",
       "      <td>Мужчина</td>\n",
       "      <td>2514729.46</td>\n",
       "    </tr>\n",
       "    <tr>\n",
       "      <th>1</th>\n",
       "      <td>c940f45c-d29b-439a-8fa3-f75018cef528</td>\n",
       "      <td>28.0</td>\n",
       "      <td>Мужчина</td>\n",
       "      <td>566568.29</td>\n",
       "    </tr>\n",
       "    <tr>\n",
       "      <th>2</th>\n",
       "      <td>cfa21d7e-8499-43d0-9dfb-f4a1b94ce44c</td>\n",
       "      <td>55.0</td>\n",
       "      <td>Женщина</td>\n",
       "      <td>1896001.28</td>\n",
       "    </tr>\n",
       "    <tr>\n",
       "      <th>3</th>\n",
       "      <td>None</td>\n",
       "      <td>38.0</td>\n",
       "      <td>Женщина</td>\n",
       "      <td>4538759.60</td>\n",
       "    </tr>\n",
       "    <tr>\n",
       "      <th>4</th>\n",
       "      <td>3f43d7bc-37f0-4535-8391-51702d6ff81e</td>\n",
       "      <td>31.0</td>\n",
       "      <td>Мужчина</td>\n",
       "      <td>4865849.92</td>\n",
       "    </tr>\n",
       "  </tbody>\n",
       "</table>\n",
       "</div>"
      ],
      "text/plain": [
       "                                     id   age   gender   net_worth\n",
       "0  1ec5ab91-fdd0-4925-a221-f0c4e04fe0e7  41.0  Мужчина  2514729.46\n",
       "1  c940f45c-d29b-439a-8fa3-f75018cef528  28.0  Мужчина   566568.29\n",
       "2  cfa21d7e-8499-43d0-9dfb-f4a1b94ce44c  55.0  Женщина  1896001.28\n",
       "3                                  None  38.0  Женщина  4538759.60\n",
       "4  3f43d7bc-37f0-4535-8391-51702d6ff81e  31.0  Мужчина  4865849.92"
      ]
     },
     "execution_count": 41,
     "metadata": {},
     "output_type": "execute_result"
    }
   ],
   "source": [
    "clients_data.head()"
   ]
  },
  {
   "cell_type": "markdown",
   "id": "6d50af1a-b7c2-4a54-9b4d-0a511e53bbcd",
   "metadata": {},
   "source": [
    "#Ознакомимся с данными датасета клиентов и удалим строки с отсутствующим id"
   ]
  },
  {
   "cell_type": "code",
   "execution_count": 44,
   "id": "8d06073f-a84f-48e5-9974-1b0d0a6942fa",
   "metadata": {
    "tags": []
   },
   "outputs": [
    {
     "name": "stdout",
     "output_type": "stream",
     "text": [
      "<class 'pandas.core.frame.DataFrame'>\n",
      "RangeIndex: 9799 entries, 0 to 9798\n",
      "Data columns (total 4 columns):\n",
      " #   Column     Non-Null Count  Dtype  \n",
      "---  ------     --------------  -----  \n",
      " 0   id         9798 non-null   object \n",
      " 1   age        8816 non-null   float64\n",
      " 2   gender     6480 non-null   object \n",
      " 3   net_worth  9324 non-null   float64\n",
      "dtypes: float64(2), object(2)\n",
      "memory usage: 306.3+ KB\n"
     ]
    }
   ],
   "source": [
    "clients_data.info()"
   ]
  },
  {
   "cell_type": "code",
   "execution_count": 46,
   "id": "dbb9a64e-06fa-425d-9578-5055da2e5a4e",
   "metadata": {
    "tags": []
   },
   "outputs": [
    {
     "name": "stdout",
     "output_type": "stream",
     "text": [
      "<class 'pandas.core.frame.DataFrame'>\n",
      "RangeIndex: 9798 entries, 0 to 9797\n",
      "Data columns (total 4 columns):\n",
      " #   Column     Non-Null Count  Dtype  \n",
      "---  ------     --------------  -----  \n",
      " 0   id         9798 non-null   object \n",
      " 1   age        8815 non-null   float64\n",
      " 2   gender     6479 non-null   object \n",
      " 3   net_worth  9323 non-null   float64\n",
      "dtypes: float64(2), object(2)\n",
      "memory usage: 306.3+ KB\n"
     ]
    }
   ],
   "source": [
    "clients_data.dropna(subset=['id'], inplace=True, ignore_index=True)\n",
    "clients_data.info()"
   ]
  },
  {
   "cell_type": "code",
   "execution_count": 49,
   "id": "1d1de0b6-0377-407c-aaba-88aef45eb718",
   "metadata": {
    "tags": []
   },
   "outputs": [
    {
     "name": "stdout",
     "output_type": "stream",
     "text": [
      "<class 'pandas.core.frame.DataFrame'>\n",
      "RangeIndex: 9351 entries, 0 to 9350\n",
      "Data columns (total 14 columns):\n",
      " #   Column          Non-Null Count  Dtype  \n",
      "---  ------          --------------  -----  \n",
      " 0   client_id       9351 non-null   object \n",
      " 1   service         9351 non-null   object \n",
      " 2   payment_method  9351 non-null   object \n",
      " 3   city            9351 non-null   object \n",
      " 4   consultant      9351 non-null   object \n",
      " 5   amount          9351 non-null   float64\n",
      " 6   month           9351 non-null   float64\n",
      " 7   day             9351 non-null   float64\n",
      " 8   day_of_week     9351 non-null   float64\n",
      " 9   hour            9351 non-null   float64\n",
      " 10  time_of_day     9351 non-null   float64\n",
      " 11  age             8404 non-null   float64\n",
      " 12  gender          6177 non-null   object \n",
      " 13  net_worth       8895 non-null   float64\n",
      "dtypes: float64(8), object(6)\n",
      "memory usage: 1022.9+ KB\n"
     ]
    }
   ],
   "source": [
    "transactions = transactions.join(clients_data.set_index('id'), on='client_id', how='left')\n",
    "transactions.info()"
   ]
  },
  {
   "cell_type": "code",
   "execution_count": 53,
   "id": "8d3fea9f-d04a-4c40-a3a0-830777c99fa9",
   "metadata": {
    "tags": []
   },
   "outputs": [
    {
     "data": {
      "text/plain": [
       "gender\n",
       "Женщина    3127\n",
       "Мужчина    3050\n",
       "Name: count, dtype: int64"
      ]
     },
     "execution_count": 53,
     "metadata": {},
     "output_type": "execute_result"
    }
   ],
   "source": [
    "transactions.gender.value_counts()"
   ]
  },
  {
   "cell_type": "code",
   "execution_count": 55,
   "id": "4468c38a-3954-4cfd-9de0-e7ed6dd69903",
   "metadata": {
    "tags": []
   },
   "outputs": [
    {
     "data": {
      "text/plain": [
       "gender\n",
       "0.0    3127\n",
       "1.0    3050\n",
       "Name: count, dtype: int64"
      ]
     },
     "execution_count": 55,
     "metadata": {},
     "output_type": "execute_result"
    }
   ],
   "source": [
    "list_gender = transactions.gender.value_counts().index\n",
    "transactions.gender = transactions.gender.map({list_gender[0]: 0, list_gender[1]: 1})\n",
    "transactions.gender.value_counts()"
   ]
  },
  {
   "cell_type": "markdown",
   "id": "7b24500d-0d6f-4a7d-8ca1-ad38e10d02e5",
   "metadata": {},
   "source": [
    "#Применим регрессионную модель для заполнения пустых значений"
   ]
  },
  {
   "cell_type": "code",
   "execution_count": 58,
   "id": "2481d7da-4eb1-4459-99d3-7480940762c7",
   "metadata": {
    "tags": []
   },
   "outputs": [
    {
     "name": "stdout",
     "output_type": "stream",
     "text": [
      "<class 'pandas.core.frame.DataFrame'>\n",
      "RangeIndex: 9351 entries, 0 to 9350\n",
      "Data columns (total 9 columns):\n",
      " #   Column       Non-Null Count  Dtype  \n",
      "---  ------       --------------  -----  \n",
      " 0   amount       9351 non-null   float64\n",
      " 1   month        9351 non-null   float64\n",
      " 2   day          9351 non-null   float64\n",
      " 3   day_of_week  9351 non-null   float64\n",
      " 4   hour         9351 non-null   float64\n",
      " 5   time_of_day  9351 non-null   float64\n",
      " 6   age          9351 non-null   float64\n",
      " 7   gender       9351 non-null   float64\n",
      " 8   net_worth    9351 non-null   float64\n",
      "dtypes: float64(9)\n",
      "memory usage: 657.6 KB\n",
      "<class 'pandas.core.frame.DataFrame'>\n",
      "RangeIndex: 9351 entries, 0 to 9350\n",
      "Data columns (total 14 columns):\n",
      " #   Column          Non-Null Count  Dtype  \n",
      "---  ------          --------------  -----  \n",
      " 0   client_id       9351 non-null   object \n",
      " 1   service         9351 non-null   object \n",
      " 2   payment_method  9351 non-null   object \n",
      " 3   city            9351 non-null   object \n",
      " 4   consultant      9351 non-null   object \n",
      " 5   amount          9351 non-null   float64\n",
      " 6   month           9351 non-null   float64\n",
      " 7   day             9351 non-null   float64\n",
      " 8   day_of_week     9351 non-null   float64\n",
      " 9   hour            9351 non-null   float64\n",
      " 10  time_of_day     9351 non-null   float64\n",
      " 11  age             9351 non-null   float64\n",
      " 12  gender          9351 non-null   float64\n",
      " 13  net_worth       9351 non-null   float64\n",
      "dtypes: float64(9), object(5)\n",
      "memory usage: 1022.9+ KB\n"
     ]
    }
   ],
   "source": [
    "df_no_imputed = transactions[['amount', 'month', 'day', 'day_of_week', 'hour', 'time_of_day', 'age', 'gender', 'net_worth']]\n",
    "imputer = IterativeImputer(random_state=2)\n",
    "\n",
    "df_imputed = imputer.fit_transform(df_no_imputed)\n",
    "\n",
    "df_imputed = pd.DataFrame(df_imputed, columns=df_no_imputed.columns)\n",
    "\n",
    "#Округляем полученные значения\n",
    "df_imputed[['age', 'gender', 'net_worth']] = df_imputed[['age', 'gender', 'net_worth']].round()\n",
    "df_imputed.info()\n",
    "\n",
    "#Заменим данные на данные после применения модели\n",
    "transactions.drop(['amount', 'month', 'day', 'day_of_week', 'hour', 'time_of_day', 'age', 'gender', 'net_worth'], axis=1, inplace=True)\n",
    "transactions = transactions.join(df_imputed, how='outer')\n",
    "transactions.info()"
   ]
  },
  {
   "cell_type": "code",
   "execution_count": 59,
   "id": "747c3c79-7b62-491a-9628-8d0e3e96e042",
   "metadata": {
    "tags": []
   },
   "outputs": [
    {
     "data": {
      "text/html": [
       "<div>\n",
       "<style scoped>\n",
       "    .dataframe tbody tr th:only-of-type {\n",
       "        vertical-align: middle;\n",
       "    }\n",
       "\n",
       "    .dataframe tbody tr th {\n",
       "        vertical-align: top;\n",
       "    }\n",
       "\n",
       "    .dataframe thead th {\n",
       "        text-align: right;\n",
       "    }\n",
       "</style>\n",
       "<table border=\"1\" class=\"dataframe\">\n",
       "  <thead>\n",
       "    <tr style=\"text-align: right;\">\n",
       "      <th></th>\n",
       "      <th>client_id</th>\n",
       "      <th>service</th>\n",
       "      <th>payment_method</th>\n",
       "      <th>city</th>\n",
       "      <th>consultant</th>\n",
       "      <th>amount</th>\n",
       "      <th>month</th>\n",
       "      <th>day</th>\n",
       "      <th>day_of_week</th>\n",
       "      <th>hour</th>\n",
       "      <th>time_of_day</th>\n",
       "      <th>age</th>\n",
       "      <th>gender</th>\n",
       "      <th>net_worth</th>\n",
       "    </tr>\n",
       "  </thead>\n",
       "  <tbody>\n",
       "    <tr>\n",
       "      <th>0</th>\n",
       "      <td>1ec5ab91-fdd0-4925-a221-f0c4e04fe0e7</td>\n",
       "      <td>Структурирование капитала</td>\n",
       "      <td>Банковский перевод</td>\n",
       "      <td>North Patrickport</td>\n",
       "      <td>Cheryl Waller</td>\n",
       "      <td>55838.059789</td>\n",
       "      <td>1.0</td>\n",
       "      <td>4.0</td>\n",
       "      <td>5.0</td>\n",
       "      <td>0.0</td>\n",
       "      <td>4.0</td>\n",
       "      <td>41.0</td>\n",
       "      <td>1.0</td>\n",
       "      <td>2514729.0</td>\n",
       "    </tr>\n",
       "    <tr>\n",
       "      <th>1</th>\n",
       "      <td>c940f45c-d29b-439a-8fa3-f75018cef528</td>\n",
       "      <td>Структурирование капитала</td>\n",
       "      <td>Неизвестно</td>\n",
       "      <td>New Zacharyport</td>\n",
       "      <td>Frank Pollard</td>\n",
       "      <td>37514.809209</td>\n",
       "      <td>3.0</td>\n",
       "      <td>10.0</td>\n",
       "      <td>0.0</td>\n",
       "      <td>17.0</td>\n",
       "      <td>3.0</td>\n",
       "      <td>28.0</td>\n",
       "      <td>1.0</td>\n",
       "      <td>566568.0</td>\n",
       "    </tr>\n",
       "    <tr>\n",
       "      <th>2</th>\n",
       "      <td>cfa21d7e-8499-43d0-9dfb-f4a1b94ce44c</td>\n",
       "      <td>Структурирование капитала</td>\n",
       "      <td>Неизвестно</td>\n",
       "      <td>Port Michellemouth</td>\n",
       "      <td>Alexandra Meyer</td>\n",
       "      <td>21022.146872</td>\n",
       "      <td>2.0</td>\n",
       "      <td>13.0</td>\n",
       "      <td>3.0</td>\n",
       "      <td>19.0</td>\n",
       "      <td>3.0</td>\n",
       "      <td>55.0</td>\n",
       "      <td>0.0</td>\n",
       "      <td>1896001.0</td>\n",
       "    </tr>\n",
       "    <tr>\n",
       "      <th>3</th>\n",
       "      <td>3f43d7bc-37f0-4535-8391-51702d6ff81e</td>\n",
       "      <td>Структурирование капитала</td>\n",
       "      <td>Неизвестно</td>\n",
       "      <td>Bondstad</td>\n",
       "      <td>Melissa Pena</td>\n",
       "      <td>5636.586955</td>\n",
       "      <td>3.0</td>\n",
       "      <td>18.0</td>\n",
       "      <td>1.0</td>\n",
       "      <td>21.0</td>\n",
       "      <td>3.0</td>\n",
       "      <td>31.0</td>\n",
       "      <td>1.0</td>\n",
       "      <td>4865850.0</td>\n",
       "    </tr>\n",
       "    <tr>\n",
       "      <th>4</th>\n",
       "      <td>900f7d6b-ee7f-49e6-ae9f-e5ea9e04ab4c</td>\n",
       "      <td>Инвестиционное консультирование</td>\n",
       "      <td>Кредитная карта</td>\n",
       "      <td>West Jaymouth</td>\n",
       "      <td>Harold Gibson</td>\n",
       "      <td>85575.773285</td>\n",
       "      <td>2.0</td>\n",
       "      <td>21.0</td>\n",
       "      <td>4.0</td>\n",
       "      <td>21.0</td>\n",
       "      <td>3.0</td>\n",
       "      <td>59.0</td>\n",
       "      <td>0.0</td>\n",
       "      <td>3992282.0</td>\n",
       "    </tr>\n",
       "  </tbody>\n",
       "</table>\n",
       "</div>"
      ],
      "text/plain": [
       "                              client_id                          service  \\\n",
       "0  1ec5ab91-fdd0-4925-a221-f0c4e04fe0e7        Структурирование капитала   \n",
       "1  c940f45c-d29b-439a-8fa3-f75018cef528        Структурирование капитала   \n",
       "2  cfa21d7e-8499-43d0-9dfb-f4a1b94ce44c        Структурирование капитала   \n",
       "3  3f43d7bc-37f0-4535-8391-51702d6ff81e        Структурирование капитала   \n",
       "4  900f7d6b-ee7f-49e6-ae9f-e5ea9e04ab4c  Инвестиционное консультирование   \n",
       "\n",
       "       payment_method                city       consultant        amount  \\\n",
       "0  Банковский перевод   North Patrickport    Cheryl Waller  55838.059789   \n",
       "1          Неизвестно     New Zacharyport    Frank Pollard  37514.809209   \n",
       "2          Неизвестно  Port Michellemouth  Alexandra Meyer  21022.146872   \n",
       "3          Неизвестно            Bondstad     Melissa Pena   5636.586955   \n",
       "4     Кредитная карта       West Jaymouth    Harold Gibson  85575.773285   \n",
       "\n",
       "   month   day  day_of_week  hour  time_of_day   age  gender  net_worth  \n",
       "0    1.0   4.0          5.0   0.0          4.0  41.0     1.0  2514729.0  \n",
       "1    3.0  10.0          0.0  17.0          3.0  28.0     1.0   566568.0  \n",
       "2    2.0  13.0          3.0  19.0          3.0  55.0     0.0  1896001.0  \n",
       "3    3.0  18.0          1.0  21.0          3.0  31.0     1.0  4865850.0  \n",
       "4    2.0  21.0          4.0  21.0          3.0  59.0     0.0  3992282.0  "
      ]
     },
     "execution_count": 59,
     "metadata": {},
     "output_type": "execute_result"
    }
   ],
   "source": [
    "transactions.head()"
   ]
  },
  {
   "cell_type": "markdown",
   "id": "6ca59189-26f3-4872-9b0d-2fb0a4e81b96",
   "metadata": {},
   "source": [
    "#Создать новую колонку с уровнями активов."
   ]
  },
  {
   "cell_type": "code",
   "execution_count": 64,
   "id": "e58d2faa-0278-4669-8f01-e385b28551f6",
   "metadata": {
    "tags": []
   },
   "outputs": [
    {
     "data": {
      "text/plain": [
       "asset_level\n",
       "Высокий капитал    7637\n",
       "Средний капитал    1548\n",
       "Низкий капитал      166\n",
       "Name: count, dtype: int64"
      ]
     },
     "execution_count": 64,
     "metadata": {},
     "output_type": "execute_result"
    }
   ],
   "source": [
    "#Напишем функцию для разбития часов на отрезки по времени суток\n",
    "def asset(worth):\n",
    "    if worth < 100000:\n",
    "        return 'Низкий капитал'\n",
    "    elif 100000 <= worth <= 1000000:\n",
    "        return 'Средний капитал'\n",
    "    else:\n",
    "        return 'Высокий капитал'\n",
    "\n",
    "transactions['asset_level'] = transactions['net_worth'].apply(asset)\n",
    "transactions['asset_level'].value_counts()"
   ]
  },
  {
   "cell_type": "markdown",
   "id": "f74b9be0-4f0c-4750-b90d-c7c7778ea1bc",
   "metadata": {},
   "source": [
    "#Провести анализ по уровням активов и определить, какие категории клиентов приносят наибольшую выручку."
   ]
  },
  {
   "cell_type": "code",
   "execution_count": 67,
   "id": "17680fd8-69da-4b3c-ad2d-99af20532aef",
   "metadata": {
    "tags": []
   },
   "outputs": [
    {
     "data": {
      "image/png": "[encoded data removed]",
      "text/plain": [
       "<Figure size 1000x600 with 1 Axes>"
      ]
     },
     "metadata": {},
     "output_type": "display_data"
    }
   ],
   "source": [
    "revenue_by_category = transactions.groupby('asset_level')['amount'].sum().reset_index()\n",
    "\n",
    "revenue_by_category = revenue_by_category.sort_values(by='amount', ascending=False)\n",
    "\n",
    "plt.figure(figsize=(10, 6))\n",
    "sns.barplot(data=revenue_by_category, x='asset_level', y='amount')\n",
    "plt.title('Выручка по категориям клиентов')\n",
    "plt.xlabel('Категория клиента')\n",
    "plt.ylabel('Суммарная выручка')\n",
    "plt.xticks(rotation=45)\n",
    "plt.show()"
   ]
  },
  {
   "cell_type": "markdown",
   "id": "527b7320-5c95-4e69-b057-833a9a8bb9ff",
   "metadata": {},
   "source": [
    "#По итогам анализа ясно, что наибольшую прибыль приносят клиенты с высоким капиталом"
   ]
  },
  {
   "cell_type": "markdown",
   "id": "830b1263-31b9-47c7-888b-60c204a1a75c",
   "metadata": {
    "tags": []
   },
   "source": [
    "<div style=\"font-size: 30px\">\n",
    "4.Визуализация данных (* дополнительное задание)."
   ]
  },
  {
   "cell_type": "markdown",
   "id": "f9b82d2a-5861-4101-b2f5-13578752ffc5",
   "metadata": {},
   "source": [
    "#Построить распределение сумм транзакций."
   ]
  },
  {
   "cell_type": "code",
   "execution_count": 69,
   "id": "c79456e8-ff2b-4c37-893f-035b9d164a0c",
   "metadata": {
    "tags": []
   },
   "outputs": [
    {
     "data": {
      "image/png": "[encoded data removed]",
      "text/plain": [
       "<Figure size 1000x600 with 1 Axes>"
      ]
     },
     "metadata": {},
     "output_type": "display_data"
    }
   ],
   "source": [
    "plt.figure(figsize=(10, 6))\n",
    "\n",
    "sns.histplot(transactions['amount'], bins=10, kde=True)\n",
    "plt.title('Распределение сумм транзакций')\n",
    "plt.xlabel('Сумма транзакций')\n",
    "plt.ylabel('Частота')\n",
    "plt.grid(axis='y')\n",
    "plt.show()"
   ]
  },
  {
   "cell_type": "markdown",
   "id": "52a4a8ca-3b83-4465-92a7-6633cc61a340",
   "metadata": {},
   "source": [
    "#Создать диаграмму выручки по услугам."
   ]
  },
  {
   "cell_type": "code",
   "execution_count": 70,
   "id": "45584caa-5af4-4ab4-8a32-fd6908e91597",
   "metadata": {
    "tags": []
   },
   "outputs": [
    {
     "data": {
      "image/png": "[encoded data removed]",
      "text/plain": [
       "<Figure size 1000x600 with 1 Axes>"
      ]
     },
     "metadata": {},
     "output_type": "display_data"
    }
   ],
   "source": [
    "plt.figure(figsize=(10, 6))\n",
    "sns.barplot(data=transactions, x='service', y='amount')\n",
    "\n",
    "plt.title('Выручка по услугам')\n",
    "plt.xlabel('Услуга')\n",
    "plt.ylabel('Выручка')\n",
    "plt.xticks(rotation=45)\n",
    "plt.grid(axis='y')\n",
    "plt.show()"
   ]
  },
  {
   "cell_type": "markdown",
   "id": "b6657bc1-9cab-4bc3-8f2b-18ba8bbf08b6",
   "metadata": {},
   "source": [
    "#Построить график зависимости средней суммы транзакции от возраста клиентов."
   ]
  },
  {
   "cell_type": "code",
   "execution_count": 72,
   "id": "59f82b37-19fe-4e58-b328-81623066631f",
   "metadata": {
    "tags": []
   },
   "outputs": [
    {
     "data": {
      "image/png": "[encoded data removed]",
      "text/plain": [
       "<Figure size 1000x600 with 1 Axes>"
      ]
     },
     "metadata": {},
     "output_type": "display_data"
    }
   ],
   "source": [
    "average_transaction = transactions.groupby('age')['amount'].mean().reset_index()\n",
    "\n",
    "# Построение графика\n",
    "plt.figure(figsize=(10, 6))\n",
    "sns.lineplot(data=average_transaction, x='age', y='amount', marker='o')\n",
    "\n",
    "plt.title('Средняя сумма транзакции в зависимости от возраста клиентов')\n",
    "plt.xlabel('Возраст клиентов')\n",
    "plt.ylabel('Средняя сумма транзакции')\n",
    "plt.grid()\n",
    "plt.xticks(range(20, 60, 5))\n",
    "plt.show()"
   ]
  },
  {
   "cell_type": "markdown",
   "id": "8af7e094-16b6-4f7a-820e-d3c2b8c21338",
   "metadata": {},
   "source": [
    "<div style=\"font-size: 30px\">\n",
    "5.Прогнозирование (* дополнительное задание)."
   ]
  },
  {
   "cell_type": "markdown",
   "id": "50037cea-878c-4a1d-85c8-dc1037a51a32",
   "metadata": {},
   "source": [
    "#Прогнозирование спроса на следующий месяц (например, с использованием линейной регрессии)."
   ]
  },
  {
   "cell_type": "code",
   "execution_count": 81,
   "id": "d5bf2a1d-e0e9-4c97-ab31-bfd81041faa9",
   "metadata": {
    "tags": []
   },
   "outputs": [
    {
     "name": "stdout",
     "output_type": "stream",
     "text": [
      "Прогнозируемый спрос на следующий месяц: 89615210.89\n"
     ]
    },
    {
     "name": "stderr",
     "output_type": "stream",
     "text": [
      "C:\\ProgramData\\anaconda3\\Lib\\site-packages\\sklearn\\utils\\validation.py:2739: UserWarning: X does not have valid feature names, but LinearRegression was fitted with feature names\n",
      "  warnings.warn(\n"
     ]
    },
    {
     "data": {
      "text/plain": [
       "([<matplotlib.axis.XTick at 0x1a8458fb110>,\n",
       "  <matplotlib.axis.XTick at 0x1a845901950>,\n",
       "  <matplotlib.axis.XTick at 0x1a8446c2610>],\n",
       " [Text(1.0, 0, '1'), Text(2.0, 0, '2'), Text(3.0, 0, '3')])"
      ]
     },
     "execution_count": 81,
     "metadata": {},
     "output_type": "execute_result"
    },
    {
     "data": {
      "image/png": "[encoded data removed]",
      "text/plain": [
       "<Figure size 1000x600 with 1 Axes>"
      ]
     },
     "metadata": {},
     "output_type": "display_data"
    }
   ],
   "source": [
    "monthly_demand = transactions.groupby('month')['amount'].sum().reset_index()\n",
    "\n",
    "X = monthly_demand[['month']]\n",
    "y = monthly_demand['amount']\n",
    "\n",
    "model = LinearRegression()\n",
    "model.fit(X, y)\n",
    "\n",
    "next_month = np.array([[4]])\n",
    "predicted_demand = model.predict(next_month)\n",
    "\n",
    "print(f'Прогнозируемый спрос на следующий месяц: {predicted_demand[0].round(2)}')\n",
    "\n",
    "plt.figure(figsize=(10, 6))\n",
    "plt.scatter(monthly_demand['month'], monthly_demand['amount'], color='blue', label='Фактический спрос')\n",
    "plt.plot(monthly_demand['month'], model.predict(X), color='orange')\n",
    "plt.scatter(next_month, predicted_demand, color='red', label='Прогноз на следующий месяц', marker='x', s=100)\n",
    "plt.title('Прогнозирование спроса на следующий месяц')\n",
    "plt.xlabel('Месяц')\n",
    "plt.ylabel('Сумма платежей')\n",
    "plt.xticks(monthly_demand['month'])"
   ]
  }
 ],
 "metadata": {
  "kernelspec": {
   "display_name": "Python 3 (ipykernel)",
   "language": "python",
   "name": "python3"
  },
  "language_info": {
   "codemirror_mode": {
    "name": "ipython",
    "version": 3
   },
   "file_extension": ".py",
   "mimetype": "text/x-python",
   "name": "python",
   "nbconvert_exporter": "python",
   "pygments_lexer": "ipython3",
   "version": "3.11.4"
  }
 },
 "nbformat": 4,
 "nbformat_minor": 5
}
