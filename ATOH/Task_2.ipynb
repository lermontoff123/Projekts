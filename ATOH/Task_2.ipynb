{
 "cells": [
  {
   "cell_type": "code",
   "execution_count": 2,
   "id": "ff1aabf8-0b00-4308-ba72-d015aeb010cd",
   "metadata": {
    "tags": []
   },
   "outputs": [],
   "source": [
    "import os\n",
    "import zipfile\n",
    "from docx import Document\n",
    "import pandas as pd\n",
    "from PyPDF2 import PdfReader\n",
    "import sqlite3\n",
    "from fpdf import FPDF"
   ]
  },
  {
   "cell_type": "markdown",
   "id": "3d118283-bc23-4f09-9a97-2ff807d181c0",
   "metadata": {},
   "source": [
    "<div style=\"font-size: 20px\">\n",
    "Загрузка содержимого офисных документов в базу полнотекстового индекса.\n",
    "Краулинг хранилища файлов doc, docx, xls, xlsx, pdf, а также их вложенностей в архивы (zip, rar, 7z)\n",
    "с последующей загрузкой текстовой информации в FTI-базу."
   ]
  },
  {
   "cell_type": "raw",
   "id": "affc17f4-8ed0-4b94-b39b-0841465374c4",
   "metadata": {},
   "source": [
    "--1.Генерация хранилища файлов разных форматов с произвольным содержимым,\n",
    "желательно использовать все указанные в описании форматы, а также архивы.--"
   ]
  },
  {
   "cell_type": "code",
   "execution_count": 4,
   "id": "728eb046-5ee7-46bc-ac1b-aa77907582d9",
   "metadata": {
    "tags": []
   },
   "outputs": [
    {
     "name": "stdout",
     "output_type": "stream",
     "text": [
      "Сгенерировано\n"
     ]
    }
   ],
   "source": [
    "#Папка для хранения файлов\n",
    "out_dir = \"new_files\"\n",
    "os.makedirs(out_dir, exist_ok=True)\n",
    "\n",
    "#Генерация DOCX\n",
    "doc_names = [\"doc1.docx\", \"doc2.docx\"]\n",
    "for doc_name in doc_names:\n",
    "    doc = Document()\n",
    "    doc.add_heading('Текст' + doc_name, level=1)\n",
    "    doc.add_paragraph(\"Содержимое \" + doc_name)\n",
    "    doc.save(os.path.join(out_dir, doc_name))\n",
    "\n",
    "#Генерация XLSX\n",
    "xlsx_names = [\"sheet1.xlsx\", \"sheet2.xlsx\"]\n",
    "for xlsx_name in xlsx_names:\n",
    "    df = pd.DataFrame({\n",
    "        \"Col1\": [\"Head1\", \"Head2\", \"Head3\"],\n",
    "        \"Col2\": [\"Data1\", \"Data2\", \"Data3\"]\n",
    "    })\n",
    "    df.to_excel(os.path.join(out_dir, xlsx_name), index=False)\n",
    "\n",
    "#Генерация PDF\n",
    "pdf_names = [\"album1.pdf\", \"album2.pdf\"]\n",
    "for pdf_name in pdf_names:\n",
    "      \n",
    "    pdf = FPDF()\n",
    "    pdf.add_page()\n",
    "    pdf.add_font(\"Arial\", '', \"C:/Windows/Fonts/arial.ttf\", uni=True)\n",
    "    pdf.set_font(\"Arial\", size=12)\n",
    "    pdf.cell(200, 10, txt=\"Содержимое \" + pdf_name, ln=True)\n",
    "    pdf.output(os.path.join(out_dir, pdf_name))\n",
    "\n",
    "#Генерация ZIP архивов\n",
    "with zipfile.ZipFile(os.path.join(out_dir, 'arch1.zip'), 'w') as zipf:\n",
    "    for doc_name in doc_names:\n",
    "        zipf.write(os.path.join(out_dir, doc_name), doc_name)\n",
    "\n",
    "print(\"Сгенерировано\")"
   ]
  },
  {
   "cell_type": "raw",
   "id": "4ac9e081-88ba-43b9-8ce5-f82e43a047fc",
   "metadata": {
    "tags": []
   },
   "source": [
    "--2.Разработка краулера любым способом (python скрипт, конвейер GNU утилит и так далее) для реализации:\n",
    "•сканирования хранилища,\n",
    "•нахождения файлов,\n",
    "•парсинга типов, названий файлов и главное содержимого,\n",
    "•сохранения собранных данных в формате csv.--"
   ]
  },
  {
   "cell_type": "code",
   "execution_count": 6,
   "id": "cd84c9d4-4f26-48bd-b9cf-7e943bc5e2d3",
   "metadata": {},
   "outputs": [
    {
     "name": "stdout",
     "output_type": "stream",
     "text": [
      "Cохранено в craw_data.csv\n"
     ]
    }
   ],
   "source": [
    "def extract_text_from_docx(path):\n",
    "    doc = Document(path)\n",
    "    return '\\n'.join(par.text for par in doc.paragraphs)\n",
    "\n",
    "def extract_text_from_pdf(path):\n",
    "    text = \"\"\n",
    "    with open(path, \"rb\") as f:\n",
    "        reader = PdfReader(f)\n",
    "        for page in reader.pages:\n",
    "            text += page.extract_text() + \"\\n\"\n",
    "    return text\n",
    "\n",
    "def crawl_directory(dirs):\n",
    "    data = []\n",
    "    for root, dirs, files in os.walk(dirs):\n",
    "        for file in files:\n",
    "            path = os.path.join(root, file)\n",
    "            if file.endswith(\".docx\"):\n",
    "                text = extract_text_from_docx(path)\n",
    "            elif file.endswith(\".pdf\"):\n",
    "                text = extract_text_from_pdf(path)\n",
    "            elif file.endswith(\".xlsx\"):\n",
    "                df = pd.read_excel(path)\n",
    "                text = df.to_string()\n",
    "            else:\n",
    "                continue\n",
    "            \n",
    "            data.append({\"file_name\": file, \"file_path\": path, \"content\": text})\n",
    "\n",
    "    return pd.DataFrame(data)\n",
    "\n",
    "dirs = \"new_files\"\n",
    "df = crawl_directory(dirs)\n",
    "\n",
    "#Сохранение в CSV\n",
    "df.to_csv(\"craw_data.csv\", index=False)\n",
    "print(\"Cохранено в craw_data.csv\")"
   ]
  },
  {
   "cell_type": "raw",
   "id": "e4819664-166e-49b0-8589-dc8ad97c205e",
   "metadata": {},
   "source": [
    "--3.Создание базы данных для реализации поиска нужной информации по обработанным краулером файлов.\n",
    "Предполагается использование бд с полнотекстовым поиском: SQLite, MySQL, PostgreSQL.\n",
    "Импорт данных из созданных csv файлов в базу данных--"
   ]
  },
  {
   "cell_type": "code",
   "execution_count": 13,
   "id": "eb2ea572-d8ab-4bd4-b932-0e04ecc5082a",
   "metadata": {},
   "outputs": [
    {
     "name": "stdout",
     "output_type": "stream",
     "text": [
      "Импортировано\n",
      "Результаты:\n",
      "Документ: album1.pdf, Информация: Содержимое album1.pdf\n",
      "...\n",
      "Документ: album2.pdf, Информация: Содержимое album2.pdf\n",
      "...\n",
      "Документ: doc1.docx, Информация: Текстdoc1.docx\n",
      "Содержимое doc1.docx...\n",
      "Документ: doc2.docx, Информация: Текстdoc2.docx\n",
      "Содержимое doc2.docx...\n",
      "Документ: album1.pdf, Информация: Содержимое album1.pdf\n",
      "...\n",
      "Документ: album2.pdf, Информация: Содержимое album2.pdf\n",
      "...\n",
      "Документ: doc1.docx, Информация: Текстdoc1.docx\n",
      "Содержимое doc1.docx...\n",
      "Документ: doc2.docx, Информация: Текстdoc2.docx\n",
      "Содержимое doc2.docx...\n",
      "Документ: album1.pdf, Информация: Содержимое album1.pdf\n",
      "...\n",
      "Документ: album2.pdf, Информация: Содержимое album2.pdf\n",
      "...\n",
      "Документ: doc1.docx, Информация: Текстdoc1.docx\n",
      "Содержимое doc1.docx...\n",
      "Документ: doc2.docx, Информация: Текстdoc2.docx\n",
      "Содержимое doc2.docx...\n",
      "Документ: album1.pdf, Информация: Содержимое album1.pdf\n",
      "...\n",
      "Документ: album2.pdf, Информация: Содержимое album2.pdf\n",
      "...\n",
      "Документ: doc1.docx, Информация: Текстdoc1.docx\n",
      "Содержимое doc1.docx...\n",
      "Документ: doc2.docx, Информация: Текстdoc2.docx\n",
      "Содержимое doc2.docx...\n",
      "Документ: album1.pdf, Информация: Содержимое album1.pdf\n",
      "...\n",
      "Документ: album2.pdf, Информация: Содержимое album2.pdf\n",
      "...\n",
      "Документ: doc1.docx, Информация: Текстdoc1.docx\n",
      "Содержимое doc1.docx...\n",
      "Документ: doc2.docx, Информация: Текстdoc2.docx\n",
      "Содержимое doc2.docx...\n",
      "Документ: album1.pdf, Информация: Содержимое album1.pdf\n",
      "...\n",
      "Документ: album2.pdf, Информация: Содержимое album2.pdf\n",
      "...\n",
      "Документ: doc1.docx, Информация: Текстdoc1.docx\n",
      "Содержимое doc1.docx...\n",
      "Документ: doc2.docx, Информация: Текстdoc2.docx\n",
      "Содержимое doc2.docx...\n"
     ]
    }
   ],
   "source": [
    "#Подключаемся к базе данных (или создаем ее)\n",
    "conn = sqlite3.connect('dock.db')\n",
    "cur = conn.cursor()\n",
    "\n",
    "#Создаем таблицу\n",
    "cur.execute('''\n",
    "    CREATE TABLE IF NOT EXISTS documents (\n",
    "        id INTEGER PRIMARY KEY,\n",
    "        file_name TEXT,\n",
    "        file_path TEXT,\n",
    "        content TEXT\n",
    "    )\n",
    "''')\n",
    "\n",
    "#Загружаем данные из CSV\n",
    "df = pd.read_csv(\"craw_data.csv\")\n",
    "df.to_sql('dock', conn, if_exists='append', index=False)\n",
    "\n",
    "conn.commit()\n",
    "print(\"Импортировано\")\n",
    "conn.close()\n",
    "\n",
    "def search_documents(query):\n",
    "    conn = sqlite3.connect('dock.db')\n",
    "    cursor = conn.cursor()\n",
    "    \n",
    "    cursor.execute(\"SELECT file_name, content FROM dock WHERE content LIKE ?\", ('%' + query + '%',))\n",
    "    results = cursor.fetchall()\n",
    "    \n",
    "    conn.close()\n",
    "    return results\n",
    "\n",
    "#Пример поиска\n",
    "searched_documents = search_documents(\"Содержимое\")\n",
    "print(\"Результаты:\")\n",
    "for doc in searched_documents:\n",
    "    print(f\"Документ: {doc[0]}, Информация: {doc[1][:100]}...\")  #Показывает первые 100 символов"
   ]
  },
  {
   "cell_type": "code",
   "execution_count": null,
   "id": "40056b84-6aab-4bb2-9eff-cd8926e14fa1",
   "metadata": {},
   "outputs": [],
   "source": []
  }
 ],
 "metadata": {
  "kernelspec": {
   "display_name": "Python 3 (ipykernel)",
   "language": "python",
   "name": "python3"
  },
  "language_info": {
   "codemirror_mode": {
    "name": "ipython",
    "version": 3
   },
   "file_extension": ".py",
   "mimetype": "text/x-python",
   "name": "python",
   "nbconvert_exporter": "python",
   "pygments_lexer": "ipython3",
   "version": "3.11.4"
  }
 },
 "nbformat": 4,
 "nbformat_minor": 5
}
