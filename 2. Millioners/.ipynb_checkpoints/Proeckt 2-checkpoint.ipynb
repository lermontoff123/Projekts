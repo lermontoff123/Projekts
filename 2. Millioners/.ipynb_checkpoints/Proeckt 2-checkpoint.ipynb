{
 "cells": [
  {
   "cell_type": "markdown",
   "id": "d907af1c-9258-4f13-9573-89ee824e6685",
   "metadata": {},
   "source": [
    "<div style=\"font-size: 30px\">\n",
    "Установка переводчика"
   ]
  },
  {
   "cell_type": "code",
   "execution_count": 1,
   "id": "c8788e1b-8fcf-4115-8db6-2a1350a5b390",
   "metadata": {
    "tags": []
   },
   "outputs": [
    {
     "name": "stdout",
     "output_type": "stream",
     "text": [
      "Requirement already satisfied: translate in c:\\users\\sergey\\anaconda3\\lib\\site-packages (3.6.1)\n",
      "Requirement already satisfied: libretranslatepy==2.1.1 in c:\\users\\sergey\\anaconda3\\lib\\site-packages (from translate) (2.1.1)\n",
      "Requirement already satisfied: lxml in c:\\users\\sergey\\anaconda3\\lib\\site-packages (from translate) (4.6.3)\n",
      "Requirement already satisfied: click in c:\\users\\sergey\\anaconda3\\lib\\site-packages (from translate) (7.1.2)\n",
      "Requirement already satisfied: requests in c:\\users\\sergey\\anaconda3\\lib\\site-packages (from translate) (2.25.1)\n",
      "Requirement already satisfied: urllib3<1.27,>=1.21.1 in c:\\users\\sergey\\anaconda3\\lib\\site-packages (from requests->translate) (1.26.4)\n",
      "Requirement already satisfied: chardet<5,>=3.0.2 in c:\\users\\sergey\\anaconda3\\lib\\site-packages (from requests->translate) (4.0.0)\n",
      "Requirement already satisfied: certifi>=2017.4.17 in c:\\users\\sergey\\anaconda3\\lib\\site-packages (from requests->translate) (2020.12.5)\n",
      "Requirement already satisfied: idna<3,>=2.5 in c:\\users\\sergey\\anaconda3\\lib\\site-packages (from requests->translate) (2.10)\n",
      "Note: you may need to restart the kernel to use updated packages.\n"
     ]
    }
   ],
   "source": [
    "pip install translate"
   ]
  },
  {
   "cell_type": "markdown",
   "id": "ab10c4ba-d05e-4cc1-a4df-2687f302db8d",
   "metadata": {},
   "source": [
    "<div style=\"font-size: 30px\">\n",
    "Установка библиотек, загрузка файла, добавление колонки выгоды и создание словаря для ответов"
   ]
  },
  {
   "cell_type": "code",
   "execution_count": 2,
   "id": "49bbdbaa-3519-49f1-9fd9-8f4fbf05c0c8",
   "metadata": {
    "tags": []
   },
   "outputs": [],
   "source": [
    "import pandas as pd\n",
    "import warnings\n",
    "from datetime import datetime #для операций со временем\n",
    "from translate import Translator #для перевода\n",
    "from itertools import combinations #для подсчёта пар\n",
    "warnings.filterwarnings(\"ignore\") #игнор ошибок\n",
    "translat= Translator(from_lang=\"english\",to_lang=\"russian\") #направление перевода\n",
    "data = pd.read_csv('movie_bd_v5.csv')\n",
    "data['profit'] = data.revenue - data.budget\n",
    "reply = {} # создадим словарь для ответов"
   ]
  },
  {
   "cell_type": "markdown",
   "id": "f655ffd1-db6f-4275-8815-5a66b0cb8eee",
   "metadata": {},
   "source": [
    "<div style=\"font-size: 30px\">\n",
    "1. У какого фильма из списка самый большой бюджет?"
   ]
  },
  {
   "cell_type": "code",
   "execution_count": 3,
   "id": "7ae12a95-c054-4d01-903b-43bdc50ac9ae",
   "metadata": {},
   "outputs": [
    {
     "data": {
      "text/plain": [
       "'Pirates of the Caribbean: On Stranger Tides'"
      ]
     },
     "metadata": {},
     "output_type": "display_data"
    }
   ],
   "source": [
    "data1 = data.copy() # создаём копию датасета\n",
    "a1 = data1.query('budget == budget.max()').original_title.values[0]\n",
    "reply[1] = a1 # заносим ответ в список\n",
    "display(a1) # выводим ответ"
   ]
  },
  {
   "cell_type": "markdown",
   "id": "526ec731-d6dc-4e3e-b70c-ee8126f55d50",
   "metadata": {},
   "source": [
    "<div style=\"font-size: 30px\">\n",
    "2. Какой из фильмов самый длительный (в минутах)?"
   ]
  },
  {
   "cell_type": "code",
   "execution_count": 4,
   "id": "e484dff4-0f65-41f9-9a5a-12d8ff573c9e",
   "metadata": {},
   "outputs": [
    {
     "data": {
      "text/plain": [
       "'Gods and Generals'"
      ]
     },
     "metadata": {},
     "output_type": "display_data"
    }
   ],
   "source": [
    "data2 = data.copy() # создаём копию датасета\n",
    "a2 = data2.query('runtime == runtime.max()').original_title.values[0]\n",
    "reply[2] = a2 # заносим ответ в список\n",
    "display(a2) # выводим ответ"
   ]
  },
  {
   "cell_type": "markdown",
   "id": "eb15c03f-9c3f-4a62-9e60-f2854346b7c1",
   "metadata": {},
   "source": [
    "<div style=\"font-size: 30px\">\n",
    "3. Какой из фильмов самый короткий (в минутах)?"
   ]
  },
  {
   "cell_type": "code",
   "execution_count": 5,
   "id": "d6acc87f-3181-4148-9fc0-137420b91193",
   "metadata": {},
   "outputs": [
    {
     "data": {
      "text/plain": [
       "'Winnie the Pooh'"
      ]
     },
     "metadata": {},
     "output_type": "display_data"
    }
   ],
   "source": [
    "data3 = data.copy() # создаём копию датасета\n",
    "a3 = data3.query('runtime == runtime.min()').original_title.values[0]\n",
    "reply[3] = a3 # заносим ответ в список\n",
    "display(a3) # выводим ответ"
   ]
  },
  {
   "cell_type": "markdown",
   "id": "9eaa05a5-6bfd-4a61-829c-1ee7edb21bc4",
   "metadata": {},
   "source": [
    "<div style=\"font-size: 30px\">\n",
    "4. Какова средняя длительность фильмов?"
   ]
  },
  {
   "cell_type": "code",
   "execution_count": 6,
   "id": "38479ae9-eb90-4e3c-9248-d645d611debe",
   "metadata": {},
   "outputs": [
    {
     "data": {
      "text/plain": [
       "110.0"
      ]
     },
     "metadata": {},
     "output_type": "display_data"
    }
   ],
   "source": [
    "data4 = data.copy() # создаём копию датасета\n",
    "a4 = round(data4['runtime'].mean(), 0)\n",
    "reply[4] = a4 # заносим ответ в список\n",
    "display(a4) # выводим ответ"
   ]
  },
  {
   "cell_type": "markdown",
   "id": "0f5be957-7e89-4ba5-9e43-513e01065732",
   "metadata": {},
   "source": [
    "<div style=\"font-size: 30px\">\n",
    "5. Каково медианное значение длительности фильмов?"
   ]
  },
  {
   "cell_type": "code",
   "execution_count": 7,
   "id": "c69ca58e-4e5c-4594-b0c3-fabc3ed2819e",
   "metadata": {},
   "outputs": [
    {
     "data": {
      "text/plain": [
       "107.0"
      ]
     },
     "metadata": {},
     "output_type": "display_data"
    }
   ],
   "source": [
    "data5 = data.copy() # создаём копию датасета\n",
    "a5 = round(data5['runtime'].median(), 0)\n",
    "reply[5] = a5 # заносим ответ в список\n",
    "display(a5) # выводим ответ"
   ]
  },
  {
   "cell_type": "markdown",
   "id": "55924e2e-ec9f-4911-a5de-d0bcb84efec0",
   "metadata": {},
   "source": [
    "<div style=\"font-size: 30px\">\n",
    "6. Какой самый прибыльный фильм?"
   ]
  },
  {
   "cell_type": "code",
   "execution_count": 8,
   "id": "6fa7a231-eada-485c-84b0-67bc213b28ad",
   "metadata": {},
   "outputs": [
    {
     "data": {
      "text/plain": [
       "'Avatar'"
      ]
     },
     "metadata": {},
     "output_type": "display_data"
    }
   ],
   "source": [
    "data6 = data.copy() # создаём копию датасета\n",
    "a6 = data6.query('profit == profit.max()').original_title.values[0]\n",
    "reply[6] = a6 # заносим ответ в список\n",
    "display(a6) # выводим ответ"
   ]
  },
  {
   "cell_type": "markdown",
   "id": "3e73b437-6ad3-4511-bb0c-8206a180d4e5",
   "metadata": {},
   "source": [
    "<div style=\"font-size: 30px\">\n",
    "7. Какой фильм самый убыточный?"
   ]
  },
  {
   "cell_type": "code",
   "execution_count": 9,
   "id": "c5ea66a3-de7d-4474-8e05-56dfbe967b3f",
   "metadata": {},
   "outputs": [
    {
     "data": {
      "text/plain": [
       "'The Lone Ranger'"
      ]
     },
     "metadata": {},
     "output_type": "display_data"
    }
   ],
   "source": [
    "data7 = data.copy() # создаём копию датасета\n",
    "a7 = data7.query('profit == profit.min()').original_title.values[0]\n",
    "reply[7] = a7 # заносим ответ в список\n",
    "display(a7) # выводим ответ"
   ]
  },
  {
   "cell_type": "markdown",
   "id": "507da61e-96ca-4d53-96bd-58741a036647",
   "metadata": {},
   "source": [
    "<div style=\"font-size: 30px\">\n",
    "8. У скольких фильмов из датасета объем сборов оказался выше бюджета?"
   ]
  },
  {
   "cell_type": "code",
   "execution_count": 10,
   "id": "b67a7b83-afd0-411a-a328-16b95d4e6af4",
   "metadata": {},
   "outputs": [
    {
     "data": {
      "text/plain": [
       "1478"
      ]
     },
     "metadata": {},
     "output_type": "display_data"
    }
   ],
   "source": [
    "data8 = data.copy() # создаём копию датасета\n",
    "a8 = len(data.query('profit >= 0').original_title.values)\n",
    "reply[8] = a8 # заносим ответ в список\n",
    "display(a8) # выводим ответ"
   ]
  },
  {
   "cell_type": "markdown",
   "id": "76971a43-ac8a-48c8-a1ac-a47e8c4dcc63",
   "metadata": {},
   "source": [
    "<div style=\"font-size: 30px\">\n",
    "9. Какой фильм оказался самым кассовым в 2008 году?"
   ]
  },
  {
   "cell_type": "code",
   "execution_count": 11,
   "id": "73670651-bc95-4a8c-99da-7f325b89e893",
   "metadata": {},
   "outputs": [
    {
     "data": {
      "text/plain": [
       "'The Dark Knight'"
      ]
     },
     "metadata": {},
     "output_type": "display_data"
    }
   ],
   "source": [
    "data9 = data.copy() # создаём копию датасета\n",
    "q9 = data9[data9.release_year == 2008] # делаем выборку по году\n",
    "a9 = q9.query('profit == profit.max()').original_title.values[0] # находим из выборки ответ\n",
    "reply[9] = a9 # заносим ответ в список\n",
    "display(a9) # выводим ответ"
   ]
  },
  {
   "cell_type": "markdown",
   "id": "c0741765-6f54-4d8c-b06b-7f72ae2c4895",
   "metadata": {},
   "source": [
    "<div style=\"font-size: 30px\">\n",
    "10. Самый убыточный фильм за период с 2012 по 2014 г. (включительно)?"
   ]
  },
  {
   "cell_type": "code",
   "execution_count": 12,
   "id": "182bf3ef-b9ff-4e89-878b-25c4fb35cbb3",
   "metadata": {},
   "outputs": [
    {
     "data": {
      "text/plain": [
       "'The Lone Ranger'"
      ]
     },
     "metadata": {},
     "output_type": "display_data"
    }
   ],
   "source": [
    "data10 = data.copy() # создаём копию датасета\n",
    "w10 = data10.query('2012 <= release_year <= 2014') # делаем выборку по интервалу лет\n",
    "a10 = w10.query('profit == profit.min()').original_title.values[0] # находим из выборки ответ\n",
    "reply[10] = a10 # заносим ответ в список\n",
    "display(a10) # выводим ответ"
   ]
  },
  {
   "cell_type": "markdown",
   "id": "3276f6a5-c80b-4529-bea7-72e902752e0c",
   "metadata": {},
   "source": [
    "<div style=\"font-size: 30px\">\n",
    "11. Какого жанра фильмов больше всего?"
   ]
  },
  {
   "cell_type": "code",
   "execution_count": 13,
   "id": "058f9911-b265-4d0f-ba92-4936c5ef473d",
   "metadata": {},
   "outputs": [
    {
     "data": {
      "text/plain": [
       "'Drama'"
      ]
     },
     "metadata": {},
     "output_type": "display_data"
    }
   ],
   "source": [
    "data11 = data.copy() # создаём копию датасета\n",
    "a11 = data11.genres.str.split('|').explode().value_counts().index[0] # убираем | из значения/ создаём новую таблицу с каждым из значений в новой строчке/\n",
    "# / считаем количество/ выбираем наиболее частое\n",
    "reply[11] = a11 # заносим ответ в список\n",
    "display(a11) # выводим ответ"
   ]
  },
  {
   "cell_type": "markdown",
   "id": "f09abc53-6a7a-47dc-8da6-29b9ba61f133",
   "metadata": {},
   "source": [
    "<div style=\"font-size: 30px\">\n",
    "12. Фильмы какого жанра чаще всего становятся прибыльными?"
   ]
  },
  {
   "cell_type": "code",
   "execution_count": 14,
   "id": "48249fdd-f9f1-44ed-8f0e-e89872251b7b",
   "metadata": {},
   "outputs": [
    {
     "data": {
      "text/plain": [
       "'Drama'"
      ]
     },
     "metadata": {},
     "output_type": "display_data"
    }
   ],
   "source": [
    "data12 = data.copy() # создаём копию датасета\n",
    "u12 = data12.query('profit > 0') # делаем выборку по фильмам с положительной прибылью\n",
    "a12 = u12.genres.str.split('|').explode().value_counts().index[0] # убираем | из значения/ создаём новую таблицу с каждым из значений в новой строчке/\n",
    "# / считаем количество/ выбираем наиболее частое\n",
    "reply[12] = a12 # заносим ответ в список\n",
    "display(a12) # выводим ответ"
   ]
  },
  {
   "cell_type": "markdown",
   "id": "101f5393-3cf5-4935-92de-9ad48e343fdb",
   "metadata": {},
   "source": [
    "<div style=\"font-size: 30px\">\n",
    "13. У какого режиссера самые большие суммарные кассовые сборы?"
   ]
  },
  {
   "cell_type": "code",
   "execution_count": 15,
   "id": "3b20f1bb-573c-4869-83d6-589138d28205",
   "metadata": {},
   "outputs": [
    {
     "data": {
      "text/plain": [
       "'Peter Jackson'"
      ]
     },
     "metadata": {},
     "output_type": "display_data"
    }
   ],
   "source": [
    "data13 = data.copy() # создаём копию датасета\n",
    "data13.director = data13.director.str.split('|') # убираем | из значения\n",
    "data13 = data13.explode('director') # создаём новую таблицу с каждым из значений в новой строчке\n",
    "a13 = data13.groupby(['director']).sum().revenue.sort_values(ascending = False).index[0] # делаем новую таблицу с индексами в виде режиссёров/ значения таблицы заполняем суммами кассовых сборов/\n",
    "# / сортируем по убыванию сумм/ находим индекс- режиссёра с максимальной суммой\n",
    "reply[13] = a13 # заносим ответ в список\n",
    "display(a13) # выводим ответ"
   ]
  },
  {
   "cell_type": "markdown",
   "id": "2ca65132-0264-4198-b95b-1abe531bd933",
   "metadata": {},
   "source": [
    "<div style=\"font-size: 30px\">\n",
    "14. Какой режисер снял больше всего фильмов в стиле Action?"
   ]
  },
  {
   "cell_type": "code",
   "execution_count": 16,
   "id": "cf87797d-46b6-4afa-b7b8-e514d1b1f17b",
   "metadata": {},
   "outputs": [
    {
     "data": {
      "text/plain": [
       "'Robert Rodriguez'"
      ]
     },
     "metadata": {},
     "output_type": "display_data"
    }
   ],
   "source": [
    "data14 = data.copy() # создаём копию датасета\n",
    "data14.director = data14.director.str.split('|') # убираем | из значения\n",
    "data14.genres = data14.genres.str.split('|') # разделяем | между режжисёрами\n",
    "data14 = data14.explode('director').explode('genres') # разделяем построчно по режиссёрам/ разделяем построчно по жанрам\n",
    "a14 = data14.query('genres == \"Action\"').director.value_counts().index[0] # ищем Action в колонке жанры/ делаем список из режиссеров/ считаем кол-во/ выбираем первого\n",
    "reply[14] = a14 # заносим ответ в список\n",
    "display(a14) # выводим ответ"
   ]
  },
  {
   "cell_type": "markdown",
   "id": "d52cedeb-a424-4d79-af4c-740727173827",
   "metadata": {},
   "source": [
    "<div style=\"font-size: 30px\">\n",
    "15. Фильмы с каким актером принесли самые высокие кассовые сборы в 2012 году?"
   ]
  },
  {
   "cell_type": "code",
   "execution_count": 17,
   "id": "5eb9f5d6-0bcf-42f9-9f66-ba6dd5bc19ae",
   "metadata": {},
   "outputs": [
    {
     "data": {
      "text/plain": [
       "'Chris Hemsworth'"
      ]
     },
     "metadata": {},
     "output_type": "display_data"
    }
   ],
   "source": [
    "data15 = data.copy() # создаём копию датасета\n",
    "data15 = data15.query('release_year == 2012') # делаем выборку по году\n",
    "data15.cast = data15.cast.str.split('|') # убираем | из значения\n",
    "data15 = data15.explode('cast') # разделяем построчно по актёрам\n",
    "a15 = data15.groupby(['cast']).sum().revenue.sort_values(ascending = False).index[0] # делаем новую таблицу с индексами в виде актёров/ значения таблицы заполняем суммами кассовых сборов/\n",
    "# / сортируем по убыванию сумм/ находим индекс- актёра с максимальной суммой\n",
    "reply[15] = a15 # заносим ответ в список\n",
    "display(a15) # выводим ответ"
   ]
  },
  {
   "cell_type": "markdown",
   "id": "0394b615-dc3b-4db2-868b-9b86a251fe68",
   "metadata": {},
   "source": [
    "<div style=\"font-size: 30px\">\n",
    "16. Какой актер снялся в большем количестве высокобюджетных фильмов?"
   ]
  },
  {
   "cell_type": "code",
   "execution_count": 18,
   "id": "06e7f170-87ca-4255-bf1f-4b3279f6c2f9",
   "metadata": {},
   "outputs": [
    {
     "data": {
      "text/plain": [
       "'Matt Damon'"
      ]
     },
     "metadata": {},
     "output_type": "display_data"
    }
   ],
   "source": [
    "data16 = data.copy() # создаём копию датасета\n",
    "data16.cast = data16.cast.str.split('|') # убираем | из значения\n",
    "data16 = data16.explode('cast') # разбиваем по актёрам\n",
    "data16 = data16.query('budget >= budget.mean()') # отсеиваем по бюджету фильмов\n",
    "a16 = data16.groupby(['cast']).count().sort_values('original_title', ascending = False).index[0] # группируем с подсчётом занимаемых позиций по актёрам/ сортируем по убыванию/ выбираем первого\n",
    "reply[16] = a16 # заносим ответ в список\n",
    "display(a16) # выводим ответ"
   ]
  },
  {
   "cell_type": "markdown",
   "id": "fb86317a-a920-4716-98ea-45077b23fc53",
   "metadata": {},
   "source": [
    "<div style=\"font-size: 30px\">\n",
    "17. В фильмах какого жанра больше всего снимался Nicolas Cage?"
   ]
  },
  {
   "cell_type": "code",
   "execution_count": 19,
   "id": "490d192d-e709-4cc5-b7ac-94ba91e80a69",
   "metadata": {},
   "outputs": [
    {
     "data": {
      "text/plain": [
       "'Action'"
      ]
     },
     "metadata": {},
     "output_type": "display_data"
    }
   ],
   "source": [
    "data17 = data.copy() # создаём копию датасета\n",
    "data17 = data17[data17.cast.str.contains('Nicolas Cage', na = True)] # оставляем только строки с актёром\n",
    "a17 = data17.genres.str.split('|').explode().value_counts().index[0]  # наиболее часто встречающийся жанр/ убираем | из значения/ создаём новую таблицу с каждым из значений в новой строчке/\n",
    "# / считаем количество/ выбираем наиболее частое\n",
    "reply[17] = a17 # заносим ответ в список\n",
    "display(a17) # выводим ответ"
   ]
  },
  {
   "cell_type": "markdown",
   "id": "95520476-643d-496d-ab8e-75033aca9e2a",
   "metadata": {},
   "source": [
    "<div style=\"font-size: 30px\">\n",
    "18. Самый убыточный фильм от Paramount Pictures"
   ]
  },
  {
   "cell_type": "code",
   "execution_count": 20,
   "id": "0bbeb56b-edb0-4737-9f85-dc538f8270c0",
   "metadata": {},
   "outputs": [
    {
     "data": {
      "text/plain": [
       "'K-19: The Widowmaker'"
      ]
     },
     "metadata": {},
     "output_type": "display_data"
    }
   ],
   "source": [
    "data18 = data.copy() # создаём копию датасета\n",
    "data18 = data18[data18.production_companies.str.contains('Paramount Pictures', na = True)] # оставляем только строки с компанией\n",
    "a18 = data18.query('profit == profit.min()')['original_title'].values[0] # ищем строку с минимальной выгодой/ выводим название\n",
    "reply[18] = a18 # заносим ответ в список\n",
    "display(a18) # выводим ответ"
   ]
  },
  {
   "cell_type": "markdown",
   "id": "78ecb290-2074-4e97-b556-362600fedae1",
   "metadata": {},
   "source": [
    "<div style=\"font-size: 30px\">\n",
    "19. Какой год стал самым успешным по суммарным кассовым сборам?"
   ]
  },
  {
   "cell_type": "code",
   "execution_count": 21,
   "id": "3b439835-8a98-4658-a2a2-12bc28059f80",
   "metadata": {},
   "outputs": [
    {
     "data": {
      "text/plain": [
       "2015"
      ]
     },
     "metadata": {},
     "output_type": "display_data"
    }
   ],
   "source": [
    "data19 = data.copy() # создаём копию датасета\n",
    "a19 = data19.groupby(['release_year'])['profit'].sum().tail(1).index[0] # делаем выборку с индексом года и значением суммы дохода/ выбирем последний год\n",
    "reply[19] = a19 # заносим ответ в список\n",
    "display(a19) # выводим ответ"
   ]
  },
  {
   "cell_type": "markdown",
   "id": "e75b80eb-26b7-4eb8-9c9c-99539a0e6e43",
   "metadata": {},
   "source": [
    "<div style=\"font-size: 30px\">\n",
    "20. Какой самый прибыльный год для студии Warner Bros?"
   ]
  },
  {
   "cell_type": "code",
   "execution_count": 22,
   "id": "e73969f5-2665-4bca-a846-c277860b9ed0",
   "metadata": {},
   "outputs": [
    {
     "data": {
      "text/plain": [
       "2014"
      ]
     },
     "metadata": {},
     "output_type": "display_data"
    }
   ],
   "source": [
    "data20 = data.copy() # создаём копию датасета\n",
    "data20 = data20[data20.production_companies.str.contains('Warner Bros.', na = True)] # оставляем только Warner Bros\n",
    "a20 = data20.groupby(['release_year'])['profit'].sum().sort_values(ascending = False).index[0] # делаем выборку с индексом года и значением суммы дохода/ выбирем последний год\n",
    "reply[20] = a20 # заносим ответ в список\n",
    "display(a20) # выводим ответ"
   ]
  },
  {
   "cell_type": "markdown",
   "id": "a6be3e81-dd02-49f8-93f0-73fd8150b463",
   "metadata": {},
   "source": [
    "<div style=\"font-size: 30px\">\n",
    "21. В каком месяце за все годы суммарно вышло больше всего фильмов?"
   ]
  },
  {
   "cell_type": "code",
   "execution_count": 23,
   "id": "2c22d3bb-51c7-4fa3-9a26-655be9780c54",
   "metadata": {
    "tags": []
   },
   "outputs": [
    {
     "data": {
      "text/plain": [
       "'Сентябрь'"
      ]
     },
     "metadata": {},
     "output_type": "display_data"
    }
   ],
   "source": [
    "data21 = data.copy() # создаём копию датасета\n",
    "data21.release_date = data21.release_date.str.extract(\"^(\\d+)\") # оставляем в дате только первое число- месяц\n",
    "q21 = data21.groupby(['release_date'])['original_title'].count().sort_values(ascending = False).index[0] # делаем выборку по дате и количеству фильмов/ сортируем по убыванию \n",
    "# / выводим первый индекс\n",
    "a21 = translat.translate(datetime.strptime(q21, '%m').strftime(\"%B\")) # конвертируем число месяца в название месяца и переводим на русский\n",
    "reply[21] = a21 # заносим ответ в список\n",
    "display(a21) # выводим ответ"
   ]
  },
  {
   "cell_type": "markdown",
   "id": "2de18b21-5190-4920-aa06-e8ea1296ce13",
   "metadata": {},
   "source": [
    "<div style=\"font-size: 30px\">\n",
    "22. Сколько суммарно вышло фильмов летом? (за июнь, июль, август)"
   ]
  },
  {
   "cell_type": "code",
   "execution_count": 24,
   "id": "b5b7e79a-bd45-44bb-88fd-79c19a5c62c0",
   "metadata": {},
   "outputs": [
    {
     "data": {
      "text/plain": [
       "450"
      ]
     },
     "metadata": {},
     "output_type": "display_data"
    }
   ],
   "source": [
    "data22 = data.copy() # создаём копию датасета\n",
    "data22.release_date = data22.release_date.str.extract('^(\\d+)') # оставляем в дате только первое число- месяц\n",
    "a22 = data22.query('release_date == \"6\" | release_date == \"7\" | release_date == \"8\"').original_title.count() # делаем выборку по нужным месяцам/ суммируем по названиям \n",
    "#/ выводим первый индекс\n",
    "reply[22] = a22 # заносим ответ в список\n",
    "display(a22) # выводим ответ"
   ]
  },
  {
   "cell_type": "markdown",
   "id": "5644fa56-1379-468f-938b-44c16033ce3c",
   "metadata": {},
   "source": [
    "<div style=\"font-size: 30px\">\n",
    "23. Для какого режиссера зима – самое продуктивное время года?"
   ]
  },
  {
   "cell_type": "code",
   "execution_count": 25,
   "id": "989144f9-7b9b-47a7-ba47-a8592ba8051c",
   "metadata": {},
   "outputs": [
    {
     "data": {
      "text/plain": [
       "'Peter Jackson'"
      ]
     },
     "metadata": {},
     "output_type": "display_data"
    }
   ],
   "source": [
    "data23 = data.copy() # создаём копию датасета\n",
    "data23.release_date = data23.release_date.str.extract('^(\\d+)') # оставляем в дате только первое число- месяц\n",
    "data23.director = data23.director.str.split('|') # убираем | из значения в колонке режиссёров\n",
    "data23 = data23.explode('director') # разделяем построчно по режиссёрам\n",
    "data23 = data23.query('release_date == \"12\" | release_date == \"1\" | release_date == \"2\"') # делаем выборку по нужным месяцам\n",
    "a23 = data23.groupby(['director'])['profit'].sum().sort_values(ascending = False).index[0]  # делаем выборку с режиссёром и значением суммы дохода/ сортируем по убыванию/ выбирем первого режиссёра\n",
    "reply[23] = a23 # заносим ответ в список\n",
    "display(a23) # выводим ответ"
   ]
  },
  {
   "cell_type": "markdown",
   "id": "6d4c45d2-cde7-41ed-a7d3-b92da1932c11",
   "metadata": {},
   "source": [
    "<div style=\"font-size: 30px\">\n",
    "24. Какая студия дает самые длинные названия своим фильмам по количеству символов?"
   ]
  },
  {
   "cell_type": "code",
   "execution_count": 26,
   "id": "a574c6cc-40e9-47d3-92a9-21fc2d36e994",
   "metadata": {},
   "outputs": [
    {
     "data": {
      "text/plain": [
       "'Four By Two Productions'"
      ]
     },
     "metadata": {},
     "output_type": "display_data"
    }
   ],
   "source": [
    "data24 = data.copy() # создаём копию датасета\n",
    "data24.production_companies = data24.production_companies.str.split('|') # убираем | из значения в колонке студий\n",
    "data24 = data24.explode('production_companies') # разделяем построчно по студиям\n",
    "data24.original_title = data24.original_title.apply(lambda x: len(x)) # вместо названия фильма ставим длину по символам названия\n",
    "a24 = data24.groupby(['production_companies'])['original_title'].mean().sort_values(ascending = False).index[0] # делаем выборку со студией и длиной названия/ ищем среднюю длину/ \n",
    "# / сортируем по убыванию/ выбирем первую студию\n",
    "reply[24] = a24 # заносим ответ в список\n",
    "display(a24) # выводим ответ"
   ]
  },
  {
   "cell_type": "markdown",
   "id": "9c7880b1-5f96-48ec-a446-30931a7a635d",
   "metadata": {},
   "source": [
    "<div style=\"font-size: 30px\">\n",
    "25. Описание фильмов какой студии в среднем самые длинные по количеству слов?"
   ]
  },
  {
   "cell_type": "code",
   "execution_count": 27,
   "id": "a50c908a-1bb4-4443-bca3-d96f57f21a88",
   "metadata": {},
   "outputs": [
    {
     "data": {
      "text/plain": [
       "'Midnight Picture Show'"
      ]
     },
     "metadata": {},
     "output_type": "display_data"
    }
   ],
   "source": [
    "data25 = data.copy() # создаём копию датасета\n",
    "data25.production_companies = data25.production_companies.str.split('|') # заменяем | на , в колонке студий\n",
    "data25 = data25.explode('production_companies') # разделяем построчно по студиям\n",
    "data25.overview = data25.overview.apply(lambda x: x.count(' ') + 1) # вместо описания фильма ставим сумму пробелов +1\n",
    "a25 = data25.groupby(['production_companies'])['overview'].mean().sort_values(ascending = False).index[0] # делаем выборку со студией и длиной описания/ ищем среднюю длину/ \n",
    "# / сортируем по убыванию/ выбираем первую студию\n",
    "reply[25] = a25 # заносим ответ в список\n",
    "display(a25) # выводим ответ"
   ]
  },
  {
   "cell_type": "markdown",
   "id": "daf08c6c-b915-479e-a55b-928d2fe4f932",
   "metadata": {},
   "source": [
    "<div style=\"font-size: 30px\">\n",
    "26. Какие фильмы входят в 1 процент лучших по рейтингу?"
   ]
  },
  {
   "cell_type": "code",
   "execution_count": 28,
   "id": "09587b2d-387b-4b26-afef-d3ce5713d60b",
   "metadata": {},
   "outputs": [
    {
     "data": {
      "text/plain": [
       "'Inside Out, The Dark Knight, 12 Years a Slave'"
      ]
     },
     "metadata": {},
     "output_type": "display_data"
    }
   ],
   "source": [
    "data26 = data.copy() # создаём копию датасета\n",
    "title_df26= pd.DataFrame([['Inside Out, The Dark Knight, 12 Years a Slave'],\n",
    "                        ['BloodRayne, The Adventures of Rocky & Bullwinkle'],\n",
    "                        ['Batman Begins, The Lord of the Rings: The Return of the King, Upside Down'],\n",
    "                        ['300, Lucky Number Slevin, Kill Bill: Vol. 1'],\n",
    "                        ['Upside Down, Inside Out, Iron Man']],\n",
    "columns = ['titles'])\n",
    "a26 = int(round((len(data26['imdb_id'])/100), 0)) # количество фильмов в выборке\n",
    "b26 = data26[['original_title', 'vote_average']].sort_values(['vote_average'], ascending = False).head(a26).original_title.to_list() # делаем выборку по двум колонкам/ сортируем по колонке рейтинга/\n",
    "# / выбираем 1% от количества/ формируем список из данных колонки название\n",
    "#data11[data11['vote_average']>data.quantile(0.99, numeric_only = True)['vote_average']]['original_title'] # альтернативный метод формирования выборки\n",
    "title_df26['inn'] = title_df26['titles'].apply(lambda x: x.split(', ') if x else ['']).explode().isin(b26).sum(level = 0) # делаем из значения каждой ячейки список/ разбиваем его/ сравниваем со списком/\n",
    "# / суммируем по строкам совпадения (level = 0)\n",
    "a26 = title_df26.query('inn == inn.max()')['titles'].values[0] # выводим вариант ответа с наибольшим числом совпадений\n",
    "reply[26] = a26 # заносим ответ в список\n",
    "display(a26) # выводим ответ"
   ]
  },
  {
   "cell_type": "markdown",
   "id": "3b5d2cd1-8e98-44af-b3ed-712a7ab2fb22",
   "metadata": {},
   "source": [
    "<div style=\"font-size: 30px\">\n",
    "27. Какие актеры чаще всего снимаются в одном фильме вместе?"
   ]
  },
  {
   "cell_type": "code",
   "execution_count": 29,
   "id": "d273fd07-3619-46d0-81d5-cc9ef7447758",
   "metadata": {
    "tags": []
   },
   "outputs": [
    {
     "data": {
      "text/plain": [
       "'Daniel Radcliffe,Emma Watson'"
      ]
     },
     "metadata": {},
     "output_type": "display_data"
    }
   ],
   "source": [
    "data27 = data.copy() # создаём копию датасета\n",
    "data27.cast = data27.cast.str.split('|')   # убираем | из значения в колонке актёров\n",
    "data27['gr'] = data27.cast.apply(lambda x: list(combinations(x, 2))) # создаём колонку в которой все актеры разбиты по парам по фильмам\n",
    "data27 = data27.explode('gr') # разделяем построчно по парам актёров\n",
    "data27['gr'] = data27.gr.str.join(',') # объединяем строку для сброса лишних пробелов и скобок\n",
    "a27 = data27.gr.value_counts().index[0] # делаем выборку по парам актёров/ считаем кол-во пар/ находим пару с максимальным кол-вом повторов\n",
    "reply[27] = a27 # заносим ответ в список\n",
    "display(a27) # выводим ответ"
   ]
  },
  {
   "cell_type": "markdown",
   "id": "9bdf9066-7cff-4662-b6da-e46cc6c8c0b3",
   "metadata": {},
   "source": [
    "<div style=\"font-size: 30px\">\n",
    "Список ответов"
   ]
  },
  {
   "cell_type": "code",
   "execution_count": 30,
   "id": "437fbaf8-f9e7-4525-acd0-c5b6c933a225",
   "metadata": {},
   "outputs": [
    {
     "data": {
      "text/plain": [
       "1       Pirates of the Caribbean: On Stranger Tides\n",
       "2                                 Gods and Generals\n",
       "3                                   Winnie the Pooh\n",
       "4                                             110.0\n",
       "5                                             107.0\n",
       "6                                            Avatar\n",
       "7                                   The Lone Ranger\n",
       "8                                              1478\n",
       "9                                   The Dark Knight\n",
       "10                                  The Lone Ranger\n",
       "11                                            Drama\n",
       "12                                            Drama\n",
       "13                                    Peter Jackson\n",
       "14                                 Robert Rodriguez\n",
       "15                                  Chris Hemsworth\n",
       "16                                       Matt Damon\n",
       "17                                           Action\n",
       "18                             K-19: The Widowmaker\n",
       "19                                             2015\n",
       "20                                             2014\n",
       "21                                         Сентябрь\n",
       "22                                              450\n",
       "23                                    Peter Jackson\n",
       "24                          Four By Two Productions\n",
       "25                            Midnight Picture Show\n",
       "26    Inside Out, The Dark Knight, 12 Years a Slave\n",
       "27                     Daniel Radcliffe,Emma Watson\n",
       "dtype: object"
      ]
     },
     "metadata": {},
     "output_type": "display_data"
    }
   ],
   "source": [
    "display(pd.Series(reply)) # выводим список ответов"
   ]
  },
  {
   "cell_type": "code",
   "execution_count": 31,
   "id": "a7c2abdd-7ea4-48b2-8c92-11a040a3fd88",
   "metadata": {},
   "outputs": [
    {
     "data": {
      "text/plain": [
       "{1: 'Pirates of the Caribbean: On Stranger Tides',\n",
       " 2: 'Gods and Generals',\n",
       " 3: 'Winnie the Pooh',\n",
       " 4: 110.0,\n",
       " 5: 107.0,\n",
       " 6: 'Avatar',\n",
       " 7: 'The Lone Ranger',\n",
       " 8: 1478,\n",
       " 9: 'The Dark Knight',\n",
       " 10: 'The Lone Ranger',\n",
       " 11: 'Drama',\n",
       " 12: 'Drama',\n",
       " 13: 'Peter Jackson',\n",
       " 14: 'Robert Rodriguez',\n",
       " 15: 'Chris Hemsworth',\n",
       " 16: 'Matt Damon',\n",
       " 17: 'Action',\n",
       " 18: 'K-19: The Widowmaker',\n",
       " 19: 2015,\n",
       " 20: 2014,\n",
       " 21: 'Сентябрь',\n",
       " 22: 450,\n",
       " 23: 'Peter Jackson',\n",
       " 24: 'Four By Two Productions',\n",
       " 25: 'Midnight Picture Show',\n",
       " 26: 'Inside Out, The Dark Knight, 12 Years a Slave',\n",
       " 27: 'Daniel Radcliffe,Emma Watson'}"
      ]
     },
     "execution_count": 31,
     "metadata": {},
     "output_type": "execute_result"
    }
   ],
   "source": [
    "reply"
   ]
  }
 ],
 "metadata": {
  "kernelspec": {
   "display_name": "Python 3",
   "language": "python",
   "name": "python3"
  },
  "language_info": {
   "codemirror_mode": {
    "name": "ipython",
    "version": 3
   },
   "file_extension": ".py",
   "mimetype": "text/x-python",
   "name": "python",
   "nbconvert_exporter": "python",
   "pygments_lexer": "ipython3",
   "version": "3.8.8"
  }
 },
 "nbformat": 4,
 "nbformat_minor": 5
}
